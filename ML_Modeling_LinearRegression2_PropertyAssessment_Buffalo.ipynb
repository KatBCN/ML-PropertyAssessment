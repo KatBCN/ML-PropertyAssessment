{
  "nbformat": 4,
  "nbformat_minor": 0,
  "metadata": {
    "colab": {
      "name": "ML-Modeling-LinearRegression2-PropertyAssessment-Buffalo.ipynb",
      "provenance": [],
      "collapsed_sections": [],
      "include_colab_link": true
    },
    "kernelspec": {
      "name": "python3",
      "display_name": "Python 3"
    },
    "language_info": {
      "name": "python"
    }
  },
  "cells": [
    {
      "cell_type": "markdown",
      "metadata": {
        "id": "view-in-github",
        "colab_type": "text"
      },
      "source": [
        "<a href=\"https://colab.research.google.com/github/KatBCN/ML-PropertyAssessment/blob/main/ML_Modeling_LinearRegression2_PropertyAssessment_Buffalo.ipynb\" target=\"_parent\"><img src=\"https://colab.research.google.com/assets/colab-badge.svg\" alt=\"Open In Colab\"/></a>"
      ]
    },
    {
      "cell_type": "markdown",
      "source": [
        "# Linear Regression\n",
        "\n",
        "June 6: Using newly imputed training data from the imputed folder"
      ],
      "metadata": {
        "id": "DTB41tJYDyzk"
      }
    },
    {
      "cell_type": "code",
      "execution_count": 35,
      "metadata": {
        "colab": {
          "base_uri": "https://localhost:8080/"
        },
        "id": "26sMbO_ykiR-",
        "outputId": "b38b5bd2-2ecf-416d-a723-c6fa5e4673c0"
      },
      "outputs": [
        {
          "output_type": "stream",
          "name": "stdout",
          "text": [
            "Drive already mounted at /content/drive/; to attempt to forcibly remount, call drive.mount(\"/content/drive/\", force_remount=True).\n",
            "/content/drive/MyDrive/ML/ML-Project/data\n",
            "\u001b[0m\u001b[01;34mimputed\u001b[0m/  \u001b[01;34minitial_splits\u001b[0m/  \u001b[01;34mpreprocessed\u001b[0m/  \u001b[01;34msource_data\u001b[0m/\n"
          ]
        }
      ],
      "source": [
        "# import libraries\n",
        "from google.colab import drive \n",
        "import pandas as pd\n",
        "import matplotlib.pyplot as plt\n",
        "import seaborn as sns\n",
        "import numpy as np\n",
        "\n",
        "from sklearn.model_selection import train_test_split,  KFold, cross_val_score\n",
        "from sklearn.linear_model import LinearRegression, Ridge, RidgeCV, Lasso, LassoCV\n",
        "from sklearn.metrics import mean_squared_error, r2_score\n",
        "from sklearn.preprocessing import MinMaxScaler\n",
        "from sklearn.preprocessing import power_transform\n",
        "from sklearn.preprocessing import PowerTransformer\n",
        "from sklearn.preprocessing import OneHotEncoder\n",
        "from sklearn.pipeline import Pipeline\n",
        "from sklearn.compose import ColumnTransformer\n",
        "\n",
        "from statsmodels.genmod.generalized_linear_model import GLM\n",
        "import statsmodels.api as sm\n",
        "from scipy import stats\n",
        "\n",
        "import warnings\n",
        "warnings.filterwarnings('ignore')\n",
        "\n",
        "# set options\n",
        "pd.set_option('display.max_columns', None) \n",
        "sns.set()\n",
        "\n",
        "# mount drive\n",
        "drive.mount('/content/drive/')\n",
        "%cd /content/drive/MyDrive/ML/ML-Project/data/\n",
        "%ls "
      ]
    },
    {
      "cell_type": "markdown",
      "source": [
        "This notebook uses data from the preprocessed data folder."
      ],
      "metadata": {
        "id": "NWgy_LbtfQ7I"
      }
    },
    {
      "cell_type": "code",
      "source": [
        "# load train data\n",
        "df = pd.read_pickle(\"/content/drive/MyDrive/ML/ML-Project/data/imputed/train_BuffaloProperty_ohe_imputer3.pkl\")"
      ],
      "metadata": {
        "id": "8mu-_ax8mD4a"
      },
      "execution_count": 36,
      "outputs": []
    },
    {
      "cell_type": "markdown",
      "source": [
        "\n",
        "- Imputed folder: The training data set has 35,921 rows and 22 columns."
      ],
      "metadata": {
        "id": "4WobCzNhfhbv"
      }
    },
    {
      "cell_type": "code",
      "source": [
        "df.shape"
      ],
      "metadata": {
        "colab": {
          "base_uri": "https://localhost:8080/"
        },
        "id": "aqfVIJLDDWoz",
        "outputId": "bead377f-7d09-44c7-bd28-f22d3d56c859"
      },
      "execution_count": 37,
      "outputs": [
        {
          "output_type": "execute_result",
          "data": {
            "text/plain": [
              "(35921, 22)"
            ]
          },
          "metadata": {},
          "execution_count": 37
        }
      ]
    },
    {
      "cell_type": "markdown",
      "source": [
        "😔  The datatypes got messed up after imputation and conversions from one hot encoding."
      ],
      "metadata": {
        "id": "ws9x8ubP80ps"
      }
    },
    {
      "cell_type": "code",
      "source": [
        "df.dtypes"
      ],
      "metadata": {
        "id": "aeiJgObgs9N6",
        "colab": {
          "base_uri": "https://localhost:8080/"
        },
        "outputId": "7c5457e1-521c-4042-8e79-2b5d9864dccb"
      },
      "execution_count": 38,
      "outputs": [
        {
          "output_type": "execute_result",
          "data": {
            "text/plain": [
              "Front                         float64\n",
              "Depth                         float64\n",
              "Sale Price                    float64\n",
              "Year Built                    float64\n",
              "Total Living Area             float64\n",
              "# of Fireplaces               float64\n",
              "# of Beds                     float64\n",
              "# of Baths                    float64\n",
              "Latitude                      float64\n",
              "Longitude                     float64\n",
              "SameOwnerFirstName            float64\n",
              "TotalBaths                    float64\n",
              "Property Class Description     object\n",
              "Previous Property Class        object\n",
              "Overall Condition              object\n",
              "Building Style                 object\n",
              "Heat Type                      object\n",
              "Basement Type                  object\n",
              "Neighborhood                   object\n",
              "OwnershipType                  object\n",
              "Sale Type                      object\n",
              "Total Value                   float64\n",
              "dtype: object"
            ]
          },
          "metadata": {},
          "execution_count": 38
        }
      ]
    },
    {
      "cell_type": "code",
      "source": [
        "df['OwnershipType'].value_counts()"
      ],
      "metadata": {
        "colab": {
          "base_uri": "https://localhost:8080/"
        },
        "id": "vAly9kFZl1Bo",
        "outputId": "f88da9be-2308-4281-e752-8170fe98b2fc"
      },
      "execution_count": 39,
      "outputs": [
        {
          "output_type": "execute_result",
          "data": {
            "text/plain": [
              "Person         32436\n",
              "Corporation     3388\n",
              "Buffalo           97\n",
              "Name: OwnershipType, dtype: int64"
            ]
          },
          "metadata": {},
          "execution_count": 39
        }
      ]
    },
    {
      "cell_type": "code",
      "source": [
        "df[\"Property Class Description\"].describe()"
      ],
      "metadata": {
        "colab": {
          "base_uri": "https://localhost:8080/"
        },
        "id": "DIaPVU0MhGsy",
        "outputId": "56bb6fb6-a7c6-4ad8-8bef-5796cccdfb57"
      },
      "execution_count": 40,
      "outputs": [
        {
          "output_type": "execute_result",
          "data": {
            "text/plain": [
              "count                   35921\n",
              "unique                      2\n",
              "top       ONE FAMILY DWELLING\n",
              "freq                    20969\n",
              "Name: Property Class Description, dtype: object"
            ]
          },
          "metadata": {},
          "execution_count": 40
        }
      ]
    },
    {
      "cell_type": "code",
      "source": [
        "df['Property Class Description'].value_counts()"
      ],
      "metadata": {
        "colab": {
          "base_uri": "https://localhost:8080/"
        },
        "id": "l6sMNzbEhVSx",
        "outputId": "9896af59-47eb-4a2d-81ec-f296ddf3f9b2"
      },
      "execution_count": 41,
      "outputs": [
        {
          "output_type": "execute_result",
          "data": {
            "text/plain": [
              "ONE FAMILY DWELLING    20969\n",
              "TWO FAMILY DWELLING    14952\n",
              "Name: Property Class Description, dtype: int64"
            ]
          },
          "metadata": {},
          "execution_count": 41
        }
      ]
    },
    {
      "cell_type": "markdown",
      "source": [
        "In the linear regression, we are only interested in numeric variables, so I will define which columns are numeric."
      ],
      "metadata": {
        "id": "YCGh6n9tD9tw"
      }
    },
    {
      "cell_type": "code",
      "source": [
        "# select numeric columns\n",
        "cols = df.select_dtypes(include=np.number).columns.tolist()\n",
        "cols"
      ],
      "metadata": {
        "colab": {
          "base_uri": "https://localhost:8080/"
        },
        "id": "78ZccrbXD9dP",
        "outputId": "9080fd65-dac5-4cda-f725-7fa8b29868a8"
      },
      "execution_count": 42,
      "outputs": [
        {
          "output_type": "execute_result",
          "data": {
            "text/plain": [
              "['Front',\n",
              " 'Depth',\n",
              " 'Sale Price',\n",
              " 'Year Built',\n",
              " 'Total Living Area',\n",
              " '# of Fireplaces',\n",
              " '# of Beds',\n",
              " '# of Baths',\n",
              " 'Latitude',\n",
              " 'Longitude',\n",
              " 'SameOwnerFirstName',\n",
              " 'TotalBaths',\n",
              " 'Total Value']"
            ]
          },
          "metadata": {},
          "execution_count": 42
        }
      ]
    },
    {
      "cell_type": "markdown",
      "source": [
        "There are no missing values in this data, because it has been pre-processed with outlier detection and imputation."
      ],
      "metadata": {
        "id": "DBLJGlQ8KIXK"
      }
    },
    {
      "cell_type": "code",
      "source": [
        "print(\"Count of null values per numeric column:\")\n",
        "print(df[cols].isna().sum())"
      ],
      "metadata": {
        "colab": {
          "base_uri": "https://localhost:8080/"
        },
        "id": "EYIRnoujI0J5",
        "outputId": "05178c5d-0836-4249-abc4-25de62734218"
      },
      "execution_count": 43,
      "outputs": [
        {
          "output_type": "stream",
          "name": "stdout",
          "text": [
            "Count of null values per numeric column:\n",
            "Front                 0\n",
            "Depth                 0\n",
            "Sale Price            0\n",
            "Year Built            0\n",
            "Total Living Area     0\n",
            "# of Fireplaces       0\n",
            "# of Beds             0\n",
            "# of Baths            0\n",
            "Latitude              0\n",
            "Longitude             0\n",
            "SameOwnerFirstName    0\n",
            "TotalBaths            0\n",
            "Total Value           0\n",
            "dtype: int64\n"
          ]
        }
      ]
    },
    {
      "cell_type": "markdown",
      "source": [
        "Sale Price may not be a very reliable variable to use. The imputation allowed a nonrealistic value to appear which is negative. The imputer should be checked to make sure 0 is the minimum imputation value.\n",
        "\n",
        "We still have Front and Total Living Area minimum values of 1, which I thought would be outliers..."
      ],
      "metadata": {
        "id": "sLWMNsGd9waT"
      }
    },
    {
      "cell_type": "code",
      "source": [
        "df.describe()"
      ],
      "metadata": {
        "colab": {
          "base_uri": "https://localhost:8080/",
          "height": 399
        },
        "id": "WeTCtTYnMQlp",
        "outputId": "dcc5ef61-494c-48a5-cb41-a052e088822d"
      },
      "execution_count": 44,
      "outputs": [
        {
          "output_type": "execute_result",
          "data": {
            "text/plain": [
              "              Front         Depth     Sale Price    Year Built  \\\n",
              "count  35921.000000  35921.000000   35921.000000  35921.000000   \n",
              "mean      35.980845    118.434797   65681.880972   1919.137218   \n",
              "std        8.959981     23.061491   60566.228115     24.527781   \n",
              "min        1.000000     27.400000  -26321.884256   1800.000000   \n",
              "25%       30.000000    105.000000   26000.000000   1900.000000   \n",
              "50%       33.000000    115.000000   49000.000000   1920.000000   \n",
              "75%       40.000000    130.000000   84000.000000   1927.000000   \n",
              "max       70.000000    209.000000  400000.000000   2018.000000   \n",
              "\n",
              "       Total Living Area  # of Fireplaces     # of Beds    # of Baths  \\\n",
              "count       35921.000000     35921.000000  35921.000000  35921.000000   \n",
              "mean         1816.398382         0.137691      4.054481      1.548184   \n",
              "std           615.595974         0.405385      1.303909      0.545249   \n",
              "min             1.000000         0.000000      0.000000      0.000000   \n",
              "25%          1325.000000         0.000000      3.000000      1.000000   \n",
              "50%          1708.000000         0.000000      4.000000      2.000000   \n",
              "75%          2244.000000         0.000000      5.000000      2.000000   \n",
              "max          4954.000000         7.000000     12.000000      8.000000   \n",
              "\n",
              "           Latitude     Longitude  SameOwnerFirstName    TotalBaths  \\\n",
              "count  35921.000000  35921.000000        35921.000000  35921.000000   \n",
              "mean      42.910772    -78.841977            0.242087      1.692464   \n",
              "std        0.034926      0.031105            0.428353      0.611045   \n",
              "min       42.832090    -78.908661            0.000000      0.000000   \n",
              "25%       42.890035    -78.864922            0.000000      1.000000   \n",
              "50%       42.917171    -78.835212            0.000000      2.000000   \n",
              "75%       42.940270    -78.815053            0.000000      2.000000   \n",
              "max       42.964978    -78.799098            1.000000      8.000000   \n",
              "\n",
              "        Total Value  \n",
              "count   35921.00000  \n",
              "mean    62981.46104  \n",
              "std     52493.43274  \n",
              "min      1000.00000  \n",
              "25%     32000.00000  \n",
              "50%     48900.00000  \n",
              "75%     74000.00000  \n",
              "max    400000.00000  "
            ],
            "text/html": [
              "\n",
              "  <div id=\"df-b6e5d7a2-ef3b-424a-9a54-c29de26f1c35\">\n",
              "    <div class=\"colab-df-container\">\n",
              "      <div>\n",
              "<style scoped>\n",
              "    .dataframe tbody tr th:only-of-type {\n",
              "        vertical-align: middle;\n",
              "    }\n",
              "\n",
              "    .dataframe tbody tr th {\n",
              "        vertical-align: top;\n",
              "    }\n",
              "\n",
              "    .dataframe thead th {\n",
              "        text-align: right;\n",
              "    }\n",
              "</style>\n",
              "<table border=\"1\" class=\"dataframe\">\n",
              "  <thead>\n",
              "    <tr style=\"text-align: right;\">\n",
              "      <th></th>\n",
              "      <th>Front</th>\n",
              "      <th>Depth</th>\n",
              "      <th>Sale Price</th>\n",
              "      <th>Year Built</th>\n",
              "      <th>Total Living Area</th>\n",
              "      <th># of Fireplaces</th>\n",
              "      <th># of Beds</th>\n",
              "      <th># of Baths</th>\n",
              "      <th>Latitude</th>\n",
              "      <th>Longitude</th>\n",
              "      <th>SameOwnerFirstName</th>\n",
              "      <th>TotalBaths</th>\n",
              "      <th>Total Value</th>\n",
              "    </tr>\n",
              "  </thead>\n",
              "  <tbody>\n",
              "    <tr>\n",
              "      <th>count</th>\n",
              "      <td>35921.000000</td>\n",
              "      <td>35921.000000</td>\n",
              "      <td>35921.000000</td>\n",
              "      <td>35921.000000</td>\n",
              "      <td>35921.000000</td>\n",
              "      <td>35921.000000</td>\n",
              "      <td>35921.000000</td>\n",
              "      <td>35921.000000</td>\n",
              "      <td>35921.000000</td>\n",
              "      <td>35921.000000</td>\n",
              "      <td>35921.000000</td>\n",
              "      <td>35921.000000</td>\n",
              "      <td>35921.00000</td>\n",
              "    </tr>\n",
              "    <tr>\n",
              "      <th>mean</th>\n",
              "      <td>35.980845</td>\n",
              "      <td>118.434797</td>\n",
              "      <td>65681.880972</td>\n",
              "      <td>1919.137218</td>\n",
              "      <td>1816.398382</td>\n",
              "      <td>0.137691</td>\n",
              "      <td>4.054481</td>\n",
              "      <td>1.548184</td>\n",
              "      <td>42.910772</td>\n",
              "      <td>-78.841977</td>\n",
              "      <td>0.242087</td>\n",
              "      <td>1.692464</td>\n",
              "      <td>62981.46104</td>\n",
              "    </tr>\n",
              "    <tr>\n",
              "      <th>std</th>\n",
              "      <td>8.959981</td>\n",
              "      <td>23.061491</td>\n",
              "      <td>60566.228115</td>\n",
              "      <td>24.527781</td>\n",
              "      <td>615.595974</td>\n",
              "      <td>0.405385</td>\n",
              "      <td>1.303909</td>\n",
              "      <td>0.545249</td>\n",
              "      <td>0.034926</td>\n",
              "      <td>0.031105</td>\n",
              "      <td>0.428353</td>\n",
              "      <td>0.611045</td>\n",
              "      <td>52493.43274</td>\n",
              "    </tr>\n",
              "    <tr>\n",
              "      <th>min</th>\n",
              "      <td>1.000000</td>\n",
              "      <td>27.400000</td>\n",
              "      <td>-26321.884256</td>\n",
              "      <td>1800.000000</td>\n",
              "      <td>1.000000</td>\n",
              "      <td>0.000000</td>\n",
              "      <td>0.000000</td>\n",
              "      <td>0.000000</td>\n",
              "      <td>42.832090</td>\n",
              "      <td>-78.908661</td>\n",
              "      <td>0.000000</td>\n",
              "      <td>0.000000</td>\n",
              "      <td>1000.00000</td>\n",
              "    </tr>\n",
              "    <tr>\n",
              "      <th>25%</th>\n",
              "      <td>30.000000</td>\n",
              "      <td>105.000000</td>\n",
              "      <td>26000.000000</td>\n",
              "      <td>1900.000000</td>\n",
              "      <td>1325.000000</td>\n",
              "      <td>0.000000</td>\n",
              "      <td>3.000000</td>\n",
              "      <td>1.000000</td>\n",
              "      <td>42.890035</td>\n",
              "      <td>-78.864922</td>\n",
              "      <td>0.000000</td>\n",
              "      <td>1.000000</td>\n",
              "      <td>32000.00000</td>\n",
              "    </tr>\n",
              "    <tr>\n",
              "      <th>50%</th>\n",
              "      <td>33.000000</td>\n",
              "      <td>115.000000</td>\n",
              "      <td>49000.000000</td>\n",
              "      <td>1920.000000</td>\n",
              "      <td>1708.000000</td>\n",
              "      <td>0.000000</td>\n",
              "      <td>4.000000</td>\n",
              "      <td>2.000000</td>\n",
              "      <td>42.917171</td>\n",
              "      <td>-78.835212</td>\n",
              "      <td>0.000000</td>\n",
              "      <td>2.000000</td>\n",
              "      <td>48900.00000</td>\n",
              "    </tr>\n",
              "    <tr>\n",
              "      <th>75%</th>\n",
              "      <td>40.000000</td>\n",
              "      <td>130.000000</td>\n",
              "      <td>84000.000000</td>\n",
              "      <td>1927.000000</td>\n",
              "      <td>2244.000000</td>\n",
              "      <td>0.000000</td>\n",
              "      <td>5.000000</td>\n",
              "      <td>2.000000</td>\n",
              "      <td>42.940270</td>\n",
              "      <td>-78.815053</td>\n",
              "      <td>0.000000</td>\n",
              "      <td>2.000000</td>\n",
              "      <td>74000.00000</td>\n",
              "    </tr>\n",
              "    <tr>\n",
              "      <th>max</th>\n",
              "      <td>70.000000</td>\n",
              "      <td>209.000000</td>\n",
              "      <td>400000.000000</td>\n",
              "      <td>2018.000000</td>\n",
              "      <td>4954.000000</td>\n",
              "      <td>7.000000</td>\n",
              "      <td>12.000000</td>\n",
              "      <td>8.000000</td>\n",
              "      <td>42.964978</td>\n",
              "      <td>-78.799098</td>\n",
              "      <td>1.000000</td>\n",
              "      <td>8.000000</td>\n",
              "      <td>400000.00000</td>\n",
              "    </tr>\n",
              "  </tbody>\n",
              "</table>\n",
              "</div>\n",
              "      <button class=\"colab-df-convert\" onclick=\"convertToInteractive('df-b6e5d7a2-ef3b-424a-9a54-c29de26f1c35')\"\n",
              "              title=\"Convert this dataframe to an interactive table.\"\n",
              "              style=\"display:none;\">\n",
              "        \n",
              "  <svg xmlns=\"http://www.w3.org/2000/svg\" height=\"24px\"viewBox=\"0 0 24 24\"\n",
              "       width=\"24px\">\n",
              "    <path d=\"M0 0h24v24H0V0z\" fill=\"none\"/>\n",
              "    <path d=\"M18.56 5.44l.94 2.06.94-2.06 2.06-.94-2.06-.94-.94-2.06-.94 2.06-2.06.94zm-11 1L8.5 8.5l.94-2.06 2.06-.94-2.06-.94L8.5 2.5l-.94 2.06-2.06.94zm10 10l.94 2.06.94-2.06 2.06-.94-2.06-.94-.94-2.06-.94 2.06-2.06.94z\"/><path d=\"M17.41 7.96l-1.37-1.37c-.4-.4-.92-.59-1.43-.59-.52 0-1.04.2-1.43.59L10.3 9.45l-7.72 7.72c-.78.78-.78 2.05 0 2.83L4 21.41c.39.39.9.59 1.41.59.51 0 1.02-.2 1.41-.59l7.78-7.78 2.81-2.81c.8-.78.8-2.07 0-2.86zM5.41 20L4 18.59l7.72-7.72 1.47 1.35L5.41 20z\"/>\n",
              "  </svg>\n",
              "      </button>\n",
              "      \n",
              "  <style>\n",
              "    .colab-df-container {\n",
              "      display:flex;\n",
              "      flex-wrap:wrap;\n",
              "      gap: 12px;\n",
              "    }\n",
              "\n",
              "    .colab-df-convert {\n",
              "      background-color: #E8F0FE;\n",
              "      border: none;\n",
              "      border-radius: 50%;\n",
              "      cursor: pointer;\n",
              "      display: none;\n",
              "      fill: #1967D2;\n",
              "      height: 32px;\n",
              "      padding: 0 0 0 0;\n",
              "      width: 32px;\n",
              "    }\n",
              "\n",
              "    .colab-df-convert:hover {\n",
              "      background-color: #E2EBFA;\n",
              "      box-shadow: 0px 1px 2px rgba(60, 64, 67, 0.3), 0px 1px 3px 1px rgba(60, 64, 67, 0.15);\n",
              "      fill: #174EA6;\n",
              "    }\n",
              "\n",
              "    [theme=dark] .colab-df-convert {\n",
              "      background-color: #3B4455;\n",
              "      fill: #D2E3FC;\n",
              "    }\n",
              "\n",
              "    [theme=dark] .colab-df-convert:hover {\n",
              "      background-color: #434B5C;\n",
              "      box-shadow: 0px 1px 3px 1px rgba(0, 0, 0, 0.15);\n",
              "      filter: drop-shadow(0px 1px 2px rgba(0, 0, 0, 0.3));\n",
              "      fill: #FFFFFF;\n",
              "    }\n",
              "  </style>\n",
              "\n",
              "      <script>\n",
              "        const buttonEl =\n",
              "          document.querySelector('#df-b6e5d7a2-ef3b-424a-9a54-c29de26f1c35 button.colab-df-convert');\n",
              "        buttonEl.style.display =\n",
              "          google.colab.kernel.accessAllowed ? 'block' : 'none';\n",
              "\n",
              "        async function convertToInteractive(key) {\n",
              "          const element = document.querySelector('#df-b6e5d7a2-ef3b-424a-9a54-c29de26f1c35');\n",
              "          const dataTable =\n",
              "            await google.colab.kernel.invokeFunction('convertToInteractive',\n",
              "                                                     [key], {});\n",
              "          if (!dataTable) return;\n",
              "\n",
              "          const docLinkHtml = 'Like what you see? Visit the ' +\n",
              "            '<a target=\"_blank\" href=https://colab.research.google.com/notebooks/data_table.ipynb>data table notebook</a>'\n",
              "            + ' to learn more about interactive tables.';\n",
              "          element.innerHTML = '';\n",
              "          dataTable['output_type'] = 'display_data';\n",
              "          await google.colab.output.renderOutput(dataTable, element);\n",
              "          const docLink = document.createElement('div');\n",
              "          docLink.innerHTML = docLinkHtml;\n",
              "          element.appendChild(docLink);\n",
              "        }\n",
              "      </script>\n",
              "    </div>\n",
              "  </div>\n",
              "  "
            ]
          },
          "metadata": {},
          "execution_count": 44
        }
      ]
    },
    {
      "cell_type": "markdown",
      "source": [
        "I will create a new column called \"Age\" which is the year 2020 - Year Built"
      ],
      "metadata": {
        "id": "jS1nbYoFE6Jk"
      }
    },
    {
      "cell_type": "code",
      "source": [
        "df[\"Age\"] = 2020 - df[\"Year Built\"]"
      ],
      "metadata": {
        "id": "LScKY7n9RDci"
      },
      "execution_count": 45,
      "outputs": []
    },
    {
      "cell_type": "code",
      "source": [
        "# Compute the correlation matrix\n",
        "corr = df.corr()\n",
        "\n",
        "# Generate a mask for the upper triangle\n",
        "mask = np.triu(np.ones_like(corr, dtype=bool))\n",
        "\n",
        "# Set up the matplotlib figure\n",
        "f, ax = plt.subplots(figsize=(11, 9))\n",
        "\n",
        "# Generate a custom diverging colormap\n",
        "cmap = sns.diverging_palette(230, 20, as_cmap=True)\n",
        "\n",
        "# Draw the heatmap with the mask and correct aspect ratio\n",
        "sns.heatmap(corr, mask=mask, cmap=cmap, vmax=1, vmin= -1, center=0,\n",
        "            square=True, linewidths=.5, cbar_kws={\"shrink\": .5})"
      ],
      "metadata": {
        "colab": {
          "base_uri": "https://localhost:8080/",
          "height": 670
        },
        "id": "PKfXp-C3GHqb",
        "outputId": "9356031c-aac6-4669-db78-4e8c86e36826"
      },
      "execution_count": 46,
      "outputs": [
        {
          "output_type": "execute_result",
          "data": {
            "text/plain": [
              "<matplotlib.axes._subplots.AxesSubplot at 0x7ff2410b7410>"
            ]
          },
          "metadata": {},
          "execution_count": 46
        },
        {
          "output_type": "display_data",
          "data": {
            "text/plain": [
              "<Figure size 792x648 with 2 Axes>"
            ],
            "image/png": "[encoded data removed]"
          },
          "metadata": {}
        }
      ]
    },
    {
      "cell_type": "code",
      "source": [
        "sns.histplot(data=df, x='Age', hue=\"Property Class Description\")"
      ],
      "metadata": {
        "colab": {
          "base_uri": "https://localhost:8080/",
          "height": 304
        },
        "id": "4wf5AGRMSYBG",
        "outputId": "72958abe-64fc-4cac-f70e-536ad204f9f6"
      },
      "execution_count": 47,
      "outputs": [
        {
          "output_type": "execute_result",
          "data": {
            "text/plain": [
              "<matplotlib.axes._subplots.AxesSubplot at 0x7ff240d63a50>"
            ]
          },
          "metadata": {},
          "execution_count": 47
        },
        {
          "output_type": "display_data",
          "data": {
            "text/plain": [
              "<Figure size 432x288 with 1 Axes>"
            ],
            "image/png": "[encoded data removed]"
          },
          "metadata": {}
        }
      ]
    },
    {
      "cell_type": "code",
      "source": [
        "sns.histplot(data=df, x='Total Living Area', hue=\"Property Class Description\")"
      ],
      "metadata": {
        "colab": {
          "base_uri": "https://localhost:8080/",
          "height": 302
        },
        "id": "hvISCL5qTUNG",
        "outputId": "4f9e09ef-5143-4020-a402-3aadc1d884fc"
      },
      "execution_count": 48,
      "outputs": [
        {
          "output_type": "execute_result",
          "data": {
            "text/plain": [
              "<matplotlib.axes._subplots.AxesSubplot at 0x7ff23c6d7110>"
            ]
          },
          "metadata": {},
          "execution_count": 48
        },
        {
          "output_type": "display_data",
          "data": {
            "text/plain": [
              "<Figure size 432x288 with 1 Axes>"
            ],
            "image/png": "[encoded data removed]"
          },
          "metadata": {}
        }
      ]
    },
    {
      "cell_type": "code",
      "source": [
        "sns.histplot(data=df, x='Front')"
      ],
      "metadata": {
        "colab": {
          "base_uri": "https://localhost:8080/",
          "height": 302
        },
        "id": "i1SWGVrhTY93",
        "outputId": "cdf68b23-a5cb-46a6-8f16-ab9aadc3cff0"
      },
      "execution_count": 49,
      "outputs": [
        {
          "output_type": "execute_result",
          "data": {
            "text/plain": [
              "<matplotlib.axes._subplots.AxesSubplot at 0x7ff241e6d9d0>"
            ]
          },
          "metadata": {},
          "execution_count": 49
        },
        {
          "output_type": "display_data",
          "data": {
            "text/plain": [
              "<Figure size 432x288 with 1 Axes>"
            ],
            "image/png": "[encoded data removed]"
          },
          "metadata": {}
        }
      ]
    },
    {
      "cell_type": "code",
      "source": [
        "sns.histplot(data=df, x='Depth')"
      ],
      "metadata": {
        "colab": {
          "base_uri": "https://localhost:8080/",
          "height": 302
        },
        "id": "zD0Xcl5eTkCi",
        "outputId": "01750ef0-6876-4875-cb70-f236c46e1d7f"
      },
      "execution_count": 50,
      "outputs": [
        {
          "output_type": "execute_result",
          "data": {
            "text/plain": [
              "<matplotlib.axes._subplots.AxesSubplot at 0x7ff2417806d0>"
            ]
          },
          "metadata": {},
          "execution_count": 50
        },
        {
          "output_type": "display_data",
          "data": {
            "text/plain": [
              "<Figure size 432x288 with 1 Axes>"
            ],
            "image/png": "[encoded data removed]"
          },
          "metadata": {}
        }
      ]
    },
    {
      "cell_type": "code",
      "source": [
        "sns.histplot(data=df, x='Latitude', hue=\"Property Class Description\")"
      ],
      "metadata": {
        "colab": {
          "base_uri": "https://localhost:8080/",
          "height": 302
        },
        "id": "BFZmkBKFT18R",
        "outputId": "9118cb77-1782-4cf3-e07c-35aa605e8957"
      },
      "execution_count": 51,
      "outputs": [
        {
          "output_type": "execute_result",
          "data": {
            "text/plain": [
              "<matplotlib.axes._subplots.AxesSubplot at 0x7ff24176f810>"
            ]
          },
          "metadata": {},
          "execution_count": 51
        },
        {
          "output_type": "display_data",
          "data": {
            "text/plain": [
              "<Figure size 432x288 with 1 Axes>"
            ],
            "image/png": "[encoded data removed]"
          },
          "metadata": {}
        }
      ]
    },
    {
      "cell_type": "code",
      "source": [
        "sns.histplot(data=df, x='Longitude', hue=\"Property Class Description\")"
      ],
      "metadata": {
        "colab": {
          "base_uri": "https://localhost:8080/",
          "height": 302
        },
        "id": "2ufuGsBWT6Gs",
        "outputId": "6e122d59-4807-4bf7-bc0e-6895f9031774"
      },
      "execution_count": 52,
      "outputs": [
        {
          "output_type": "execute_result",
          "data": {
            "text/plain": [
              "<matplotlib.axes._subplots.AxesSubplot at 0x7ff2415d9b10>"
            ]
          },
          "metadata": {},
          "execution_count": 52
        },
        {
          "output_type": "display_data",
          "data": {
            "text/plain": [
              "<Figure size 432x288 with 1 Axes>"
            ],
            "image/png": "[encoded data removed]"
          },
          "metadata": {}
        }
      ]
    },
    {
      "cell_type": "markdown",
      "source": [
        "Sale Price may not be the most reliable variable since it was imputed."
      ],
      "metadata": {
        "id": "-4UjyLmp_xzH"
      }
    },
    {
      "cell_type": "code",
      "source": [
        "sns.histplot(data=df, x='Sale Price')"
      ],
      "metadata": {
        "colab": {
          "base_uri": "https://localhost:8080/",
          "height": 302
        },
        "id": "RcUagBt4UFIQ",
        "outputId": "31837310-f0f1-4d61-a71b-3d28a6e27af9"
      },
      "execution_count": 53,
      "outputs": [
        {
          "output_type": "execute_result",
          "data": {
            "text/plain": [
              "<matplotlib.axes._subplots.AxesSubplot at 0x7ff2412d8390>"
            ]
          },
          "metadata": {},
          "execution_count": 53
        },
        {
          "output_type": "display_data",
          "data": {
            "text/plain": [
              "<Figure size 432x288 with 1 Axes>"
            ],
            "image/png": "[encoded data removed]"
          },
          "metadata": {}
        }
      ]
    },
    {
      "cell_type": "code",
      "source": [
        "sns.histplot(data=df, x='Total Value', hue = \"Property Class Description\")"
      ],
      "metadata": {
        "colab": {
          "base_uri": "https://localhost:8080/",
          "height": 302
        },
        "id": "QXySUp7pl_N6",
        "outputId": "ba6a29c9-f56b-4be1-9e65-59781c35ffac"
      },
      "execution_count": 54,
      "outputs": [
        {
          "output_type": "execute_result",
          "data": {
            "text/plain": [
              "<matplotlib.axes._subplots.AxesSubplot at 0x7ff2410ee990>"
            ]
          },
          "metadata": {},
          "execution_count": 54
        },
        {
          "output_type": "display_data",
          "data": {
            "text/plain": [
              "<Figure size 432x288 with 1 Axes>"
            ],
            "image/png": "[encoded data removed]"
          },
          "metadata": {}
        }
      ]
    },
    {
      "cell_type": "markdown",
      "source": [
        "* [sklearn.preprocessing.PowerTransformer](https://scikit-learn.org/stable/modules/generated/sklearn.preprocessing.PowerTransformer.html)\n",
        "* [sklearn.pipeline.Pipeline](https://scikit-learn.org/stable/modules/generated/sklearn.pipeline.Pipeline.html#sklearn.pipeline.Pipeline)\n",
        "* [How to Transform Target Variables for Regression in Python](https://machinelearningmastery.com/how-to-transform-target-variables-for-regression-with-scikit-learn/)"
      ],
      "metadata": {
        "id": "m6sGZQUun7JK"
      }
    },
    {
      "cell_type": "code",
      "source": [
        "numeric_features = [\"Front\", \"Age\", \"Total Living Area\", \"# of Fireplaces\", \"# of Beds\", \"TotalBaths\"]\n",
        "\n",
        "categorical_features = [\"Property Class Description\", \"Neighborhood\"]\n",
        "categorical_transformer = OneHotEncoder(handle_unknown=\"ignore\")\n",
        "\n",
        "preprocessor = ColumnTransformer(\n",
        "    transformers=[\n",
        "        (\"cat\", categorical_transformer, categorical_features),\n",
        "    ]\n",
        ")"
      ],
      "metadata": {
        "id": "Ywlb1gNN0fOl"
      },
      "execution_count": 55,
      "outputs": []
    },
    {
      "cell_type": "code",
      "source": [
        "regression_cols = [\"Property Class Description\", \"Neighborhood\", \"Front\", \"Age\", \"Total Living Area\", \"# of Fireplaces\", \"# of Beds\", \"TotalBaths\"]"
      ],
      "metadata": {
        "id": "BIJoP2Eno_nE"
      },
      "execution_count": 56,
      "outputs": []
    },
    {
      "cell_type": "code",
      "source": [
        "train_x = df[regression_cols]"
      ],
      "metadata": {
        "id": "wRK3C4jcoy9c"
      },
      "execution_count": 57,
      "outputs": []
    },
    {
      "cell_type": "code",
      "source": [
        "train_y = df[\"Total Value\"]"
      ],
      "metadata": {
        "id": "dSCn7nFgo3uN"
      },
      "execution_count": 58,
      "outputs": []
    },
    {
      "cell_type": "code",
      "source": [
        "# prepare the model with input scaling\n",
        "pipeline = Pipeline(steps=[(\"preprocessor\", preprocessor),\n",
        "                           ('model', LinearRegression())])\n",
        "# fit pipeline\n",
        "pipeline.fit(train_x, train_y)"
      ],
      "metadata": {
        "colab": {
          "base_uri": "https://localhost:8080/"
        },
        "id": "tPCgrAW5g66U",
        "outputId": "76f0fb49-9d87-421f-9fea-81845b5bc9b7"
      },
      "execution_count": 59,
      "outputs": [
        {
          "output_type": "execute_result",
          "data": {
            "text/plain": [
              "Pipeline(steps=[('preprocessor',\n",
              "                 ColumnTransformer(transformers=[('cat',\n",
              "                                                  OneHotEncoder(handle_unknown='ignore'),\n",
              "                                                  ['Property Class Description',\n",
              "                                                   'Neighborhood'])])),\n",
              "                ('model', LinearRegression())])"
            ]
          },
          "metadata": {},
          "execution_count": 59
        }
      ]
    },
    {
      "cell_type": "code",
      "source": [
        "yhat_train = pipeline.predict(train_x)"
      ],
      "metadata": {
        "id": "ZoQ5coRT_TvN"
      },
      "execution_count": 60,
      "outputs": []
    },
    {
      "cell_type": "code",
      "source": [
        "# The mean squared error for training data\n",
        "print(\"Mean squared error: %.2f\" % mean_squared_error(train_y, yhat_train))\n",
        "# The coefficient of determination: 1 is perfect prediction\n",
        "print(\"Coefficient of determination: %.2f\" % r2_score(train_y, yhat_train))"
      ],
      "metadata": {
        "colab": {
          "base_uri": "https://localhost:8080/"
        },
        "id": "6BnPc5QX_aCN",
        "outputId": "e34a4d18-4cb9-40f3-fba4-dca14ac4a819"
      },
      "execution_count": 61,
      "outputs": [
        {
          "output_type": "stream",
          "name": "stdout",
          "text": [
            "Mean squared error: 1178757907.56\n",
            "Coefficient of determination: 0.57\n"
          ]
        }
      ]
    },
    {
      "cell_type": "code",
      "source": [
        "pipeline.named_steps['model'].coef_"
      ],
      "metadata": {
        "id": "JsuHpNUnyYaa",
        "colab": {
          "base_uri": "https://localhost:8080/"
        },
        "outputId": "a9402605-6ac8-417d-88ce-097427886f9a"
      },
      "execution_count": 64,
      "outputs": [
        {
          "output_type": "execute_result",
          "data": {
            "text/plain": [
              "array([  4389.62943633,  -4389.62943669,  36526.26511735, -36734.6525652 ,\n",
              "       -48887.74850457, 158861.48015928,  67955.48819432, -41540.26534668,\n",
              "       -36199.69886761,  68862.42251716,  70315.9115367 , -43231.5204851 ,\n",
              "       -46011.93755742, -45665.14532701, -48516.58261446, -31950.7512901 ,\n",
              "       -23005.1076902 , -21522.88130971, -12799.32037553, -26078.39737335,\n",
              "       -24446.41794559, -26314.45405664, -14730.87546501, -48572.17249446,\n",
              "       -43213.260328  ,  37143.18484779,  86236.51084477,  -8758.24438165,\n",
              "       -23159.45974631, -30742.20134015, -41686.06520419, -13686.37872444,\n",
              "         5942.27714609, 283852.36202342,  -5294.54473815, -36832.46075981,\n",
              "       -15341.43189885, -20773.92599656])"
            ]
          },
          "metadata": {},
          "execution_count": 64
        }
      ]
    }
  ]
}