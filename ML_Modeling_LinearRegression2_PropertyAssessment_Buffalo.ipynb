{
  "nbformat": 4,
  "nbformat_minor": 0,
  "metadata": {
    "colab": {
      "name": "ML-Modeling-LinearRegression2-PropertyAssessment-Buffalo.ipynb",
      "provenance": [],
      "collapsed_sections": [],
      "include_colab_link": true
    },
    "kernelspec": {
      "name": "python3",
      "display_name": "Python 3"
    },
    "language_info": {
      "name": "python"
    }
  },
  "cells": [
    {
      "cell_type": "markdown",
      "metadata": {
        "id": "view-in-github",
        "colab_type": "text"
      },
      "source": [
        "<a href=\"https://colab.research.google.com/github/KatBCN/ML-PropertyAssessment/blob/main/ML_Modeling_LinearRegression2_PropertyAssessment_Buffalo.ipynb\" target=\"_parent\"><img src=\"https://colab.research.google.com/assets/colab-badge.svg\" alt=\"Open In Colab\"/></a>"
      ]
    },
    {
      "cell_type": "markdown",
      "source": [
        "# Linear Regression\n",
        "\n",
        "June 6: Using newly imputed training data from the imputed folder"
      ],
      "metadata": {
        "id": "DTB41tJYDyzk"
      }
    },
    {
      "cell_type": "code",
      "execution_count": 28,
      "metadata": {
        "colab": {
          "base_uri": "https://localhost:8080/"
        },
        "id": "26sMbO_ykiR-",
        "outputId": "21a07f8f-7a5e-4ade-ec99-c0d5db849ae7"
      },
      "outputs": [
        {
          "output_type": "stream",
          "name": "stdout",
          "text": [
            "Drive already mounted at /content/drive/; to attempt to forcibly remount, call drive.mount(\"/content/drive/\", force_remount=True).\n",
            "/content/drive/MyDrive/ML/ML-Project/data\n",
            "\u001b[0m\u001b[01;34mimputed\u001b[0m/  \u001b[01;34minitial_splits\u001b[0m/  \u001b[01;34mpreprocessed\u001b[0m/  \u001b[01;34msource_data\u001b[0m/\n"
          ]
        }
      ],
      "source": [
        "# import libraries\n",
        "from google.colab import drive \n",
        "import pandas as pd\n",
        "import matplotlib.pyplot as plt\n",
        "import seaborn as sns\n",
        "import numpy as np\n",
        "\n",
        "from sklearn.model_selection import train_test_split,  KFold, cross_val_score\n",
        "from sklearn.linear_model import LinearRegression, Ridge, RidgeCV, Lasso, LassoCV\n",
        "from sklearn.metrics import mean_squared_error, r2_score, mean_absolute_error, median_absolute_error\n",
        "from sklearn.preprocessing import MinMaxScaler\n",
        "from sklearn.preprocessing import power_transform\n",
        "from sklearn.preprocessing import PowerTransformer\n",
        "from sklearn.preprocessing import OneHotEncoder\n",
        "from sklearn.pipeline import Pipeline\n",
        "from sklearn.compose import ColumnTransformer\n",
        "\n",
        "from yellowbrick.regressor import ResidualsPlot\n",
        "\n",
        "from statsmodels.genmod.generalized_linear_model import GLM\n",
        "import statsmodels.api as sm\n",
        "from scipy import stats\n",
        "\n",
        "import warnings\n",
        "warnings.filterwarnings('ignore')\n",
        "\n",
        "# set options\n",
        "pd.set_option('display.max_columns', None) \n",
        "sns.set()\n",
        "\n",
        "# mount drive\n",
        "drive.mount('/content/drive/')\n",
        "%cd /content/drive/MyDrive/ML/ML-Project/data/\n",
        "%ls "
      ]
    },
    {
      "cell_type": "markdown",
      "source": [
        "This notebook uses data from the preprocessed data folder."
      ],
      "metadata": {
        "id": "NWgy_LbtfQ7I"
      }
    },
    {
      "cell_type": "code",
      "source": [
        "# load train data\n",
        "df = pd.read_pickle(\"/content/drive/MyDrive/ML/ML-Project/data/imputed/train_BuffaloProperty_ohe_imputer3.pkl\")"
      ],
      "metadata": {
        "id": "8mu-_ax8mD4a"
      },
      "execution_count": 2,
      "outputs": []
    },
    {
      "cell_type": "markdown",
      "source": [
        "\n",
        "- Imputed folder: The training data set has 35,921 rows and 22 columns."
      ],
      "metadata": {
        "id": "4WobCzNhfhbv"
      }
    },
    {
      "cell_type": "code",
      "source": [
        "df.shape"
      ],
      "metadata": {
        "colab": {
          "base_uri": "https://localhost:8080/"
        },
        "id": "aqfVIJLDDWoz",
        "outputId": "84ad3d01-0d3b-4313-9787-ba4f38673c5c"
      },
      "execution_count": 3,
      "outputs": [
        {
          "output_type": "execute_result",
          "data": {
            "text/plain": [
              "(35921, 22)"
            ]
          },
          "metadata": {},
          "execution_count": 3
        }
      ]
    },
    {
      "cell_type": "markdown",
      "source": [
        "😔  The datatypes got messed up after imputation and conversions from one hot encoding - need to correct datatypes at end of pre-processing."
      ],
      "metadata": {
        "id": "ws9x8ubP80ps"
      }
    },
    {
      "cell_type": "code",
      "source": [
        "df.dtypes"
      ],
      "metadata": {
        "id": "aeiJgObgs9N6",
        "colab": {
          "base_uri": "https://localhost:8080/"
        },
        "outputId": "bf7819d9-c615-4861-92c3-29cf37f5d0b1"
      },
      "execution_count": 4,
      "outputs": [
        {
          "output_type": "execute_result",
          "data": {
            "text/plain": [
              "Front                         float64\n",
              "Depth                         float64\n",
              "Sale Price                    float64\n",
              "Year Built                    float64\n",
              "Total Living Area             float64\n",
              "# of Fireplaces               float64\n",
              "# of Beds                     float64\n",
              "# of Baths                    float64\n",
              "Latitude                      float64\n",
              "Longitude                     float64\n",
              "SameOwnerFirstName            float64\n",
              "TotalBaths                    float64\n",
              "Property Class Description     object\n",
              "Previous Property Class        object\n",
              "Overall Condition              object\n",
              "Building Style                 object\n",
              "Heat Type                      object\n",
              "Basement Type                  object\n",
              "Neighborhood                   object\n",
              "OwnershipType                  object\n",
              "Sale Type                      object\n",
              "Total Value                   float64\n",
              "dtype: object"
            ]
          },
          "metadata": {},
          "execution_count": 4
        }
      ]
    },
    {
      "cell_type": "code",
      "source": [
        "df['OwnershipType'].value_counts()"
      ],
      "metadata": {
        "colab": {
          "base_uri": "https://localhost:8080/"
        },
        "id": "vAly9kFZl1Bo",
        "outputId": "110b26f1-5452-46ed-d038-7d6288be4e69"
      },
      "execution_count": 5,
      "outputs": [
        {
          "output_type": "execute_result",
          "data": {
            "text/plain": [
              "Person         32436\n",
              "Corporation     3388\n",
              "Buffalo           97\n",
              "Name: OwnershipType, dtype: int64"
            ]
          },
          "metadata": {},
          "execution_count": 5
        }
      ]
    },
    {
      "cell_type": "code",
      "source": [
        "df[\"Property Class Description\"].describe()"
      ],
      "metadata": {
        "colab": {
          "base_uri": "https://localhost:8080/"
        },
        "id": "DIaPVU0MhGsy",
        "outputId": "4f3fc83f-5715-4419-e29b-cd36f4f684e6"
      },
      "execution_count": 6,
      "outputs": [
        {
          "output_type": "execute_result",
          "data": {
            "text/plain": [
              "count                   35921\n",
              "unique                      2\n",
              "top       ONE FAMILY DWELLING\n",
              "freq                    20969\n",
              "Name: Property Class Description, dtype: object"
            ]
          },
          "metadata": {},
          "execution_count": 6
        }
      ]
    },
    {
      "cell_type": "code",
      "source": [
        "df['Property Class Description'].value_counts()"
      ],
      "metadata": {
        "colab": {
          "base_uri": "https://localhost:8080/"
        },
        "id": "l6sMNzbEhVSx",
        "outputId": "ea3ec337-ee73-4d4f-e2c8-bdeea8ccccb8"
      },
      "execution_count": 7,
      "outputs": [
        {
          "output_type": "execute_result",
          "data": {
            "text/plain": [
              "ONE FAMILY DWELLING    20969\n",
              "TWO FAMILY DWELLING    14952\n",
              "Name: Property Class Description, dtype: int64"
            ]
          },
          "metadata": {},
          "execution_count": 7
        }
      ]
    },
    {
      "cell_type": "markdown",
      "source": [
        "In the linear regression, we are only interested in numeric variables, so I will define which columns are numeric."
      ],
      "metadata": {
        "id": "YCGh6n9tD9tw"
      }
    },
    {
      "cell_type": "code",
      "source": [
        "# select numeric columns\n",
        "cols = df.select_dtypes(include=np.number).columns.tolist()\n",
        "cols"
      ],
      "metadata": {
        "colab": {
          "base_uri": "https://localhost:8080/"
        },
        "id": "78ZccrbXD9dP",
        "outputId": "6b0ee790-2a78-47e3-9d18-06fd19e11be0"
      },
      "execution_count": 8,
      "outputs": [
        {
          "output_type": "execute_result",
          "data": {
            "text/plain": [
              "['Front',\n",
              " 'Depth',\n",
              " 'Sale Price',\n",
              " 'Year Built',\n",
              " 'Total Living Area',\n",
              " '# of Fireplaces',\n",
              " '# of Beds',\n",
              " '# of Baths',\n",
              " 'Latitude',\n",
              " 'Longitude',\n",
              " 'SameOwnerFirstName',\n",
              " 'TotalBaths',\n",
              " 'Total Value']"
            ]
          },
          "metadata": {},
          "execution_count": 8
        }
      ]
    },
    {
      "cell_type": "markdown",
      "source": [
        "There are no missing values in this data, because it has been pre-processed with outlier detection and imputation."
      ],
      "metadata": {
        "id": "DBLJGlQ8KIXK"
      }
    },
    {
      "cell_type": "code",
      "source": [
        "print(\"Count of null values per numeric column:\")\n",
        "print(df[cols].isna().sum())"
      ],
      "metadata": {
        "colab": {
          "base_uri": "https://localhost:8080/"
        },
        "id": "EYIRnoujI0J5",
        "outputId": "f3dce4aa-3501-43f1-ab48-0c9e2ffcedfd"
      },
      "execution_count": 9,
      "outputs": [
        {
          "output_type": "stream",
          "name": "stdout",
          "text": [
            "Count of null values per numeric column:\n",
            "Front                 0\n",
            "Depth                 0\n",
            "Sale Price            0\n",
            "Year Built            0\n",
            "Total Living Area     0\n",
            "# of Fireplaces       0\n",
            "# of Beds             0\n",
            "# of Baths            0\n",
            "Latitude              0\n",
            "Longitude             0\n",
            "SameOwnerFirstName    0\n",
            "TotalBaths            0\n",
            "Total Value           0\n",
            "dtype: int64\n"
          ]
        }
      ]
    },
    {
      "cell_type": "markdown",
      "source": [
        "Sale Price may not be a very reliable variable to use. The imputation allowed a nonrealistic value to appear which is negative. The imputer should be checked to make sure 0 is the minimum imputation value.\n",
        "\n",
        "We still have Front and Total Living Area minimum values of 1, which I thought would be outliers..."
      ],
      "metadata": {
        "id": "sLWMNsGd9waT"
      }
    },
    {
      "cell_type": "code",
      "source": [
        "df.describe()"
      ],
      "metadata": {
        "colab": {
          "base_uri": "https://localhost:8080/",
          "height": 300
        },
        "id": "WeTCtTYnMQlp",
        "outputId": "0cbe6701-41e1-4292-a033-d585ea136eba"
      },
      "execution_count": 10,
      "outputs": [
        {
          "output_type": "execute_result",
          "data": {
            "text/plain": [
              "              Front         Depth     Sale Price    Year Built  \\\n",
              "count  35921.000000  35921.000000   35921.000000  35921.000000   \n",
              "mean      35.980845    118.434797   65681.880972   1919.137218   \n",
              "std        8.959981     23.061491   60566.228115     24.527781   \n",
              "min        1.000000     27.400000  -26321.884256   1800.000000   \n",
              "25%       30.000000    105.000000   26000.000000   1900.000000   \n",
              "50%       33.000000    115.000000   49000.000000   1920.000000   \n",
              "75%       40.000000    130.000000   84000.000000   1927.000000   \n",
              "max       70.000000    209.000000  400000.000000   2018.000000   \n",
              "\n",
              "       Total Living Area  # of Fireplaces     # of Beds    # of Baths  \\\n",
              "count       35921.000000     35921.000000  35921.000000  35921.000000   \n",
              "mean         1816.398382         0.137691      4.054481      1.548184   \n",
              "std           615.595974         0.405385      1.303909      0.545249   \n",
              "min             1.000000         0.000000      0.000000      0.000000   \n",
              "25%          1325.000000         0.000000      3.000000      1.000000   \n",
              "50%          1708.000000         0.000000      4.000000      2.000000   \n",
              "75%          2244.000000         0.000000      5.000000      2.000000   \n",
              "max          4954.000000         7.000000     12.000000      8.000000   \n",
              "\n",
              "           Latitude     Longitude  SameOwnerFirstName    TotalBaths  \\\n",
              "count  35921.000000  35921.000000        35921.000000  35921.000000   \n",
              "mean      42.910772    -78.841977            0.242087      1.692464   \n",
              "std        0.034926      0.031105            0.428353      0.611045   \n",
              "min       42.832090    -78.908661            0.000000      0.000000   \n",
              "25%       42.890035    -78.864922            0.000000      1.000000   \n",
              "50%       42.917171    -78.835212            0.000000      2.000000   \n",
              "75%       42.940270    -78.815053            0.000000      2.000000   \n",
              "max       42.964978    -78.799098            1.000000      8.000000   \n",
              "\n",
              "        Total Value  \n",
              "count   35921.00000  \n",
              "mean    62981.46104  \n",
              "std     52493.43274  \n",
              "min      1000.00000  \n",
              "25%     32000.00000  \n",
              "50%     48900.00000  \n",
              "75%     74000.00000  \n",
              "max    400000.00000  "
            ],
            "text/html": [
              "\n",
              "  <div id=\"df-5d862711-2f53-4842-bee3-a50ecdc0a7d7\">\n",
              "    <div class=\"colab-df-container\">\n",
              "      <div>\n",
              "<style scoped>\n",
              "    .dataframe tbody tr th:only-of-type {\n",
              "        vertical-align: middle;\n",
              "    }\n",
              "\n",
              "    .dataframe tbody tr th {\n",
              "        vertical-align: top;\n",
              "    }\n",
              "\n",
              "    .dataframe thead th {\n",
              "        text-align: right;\n",
              "    }\n",
              "</style>\n",
              "<table border=\"1\" class=\"dataframe\">\n",
              "  <thead>\n",
              "    <tr style=\"text-align: right;\">\n",
              "      <th></th>\n",
              "      <th>Front</th>\n",
              "      <th>Depth</th>\n",
              "      <th>Sale Price</th>\n",
              "      <th>Year Built</th>\n",
              "      <th>Total Living Area</th>\n",
              "      <th># of Fireplaces</th>\n",
              "      <th># of Beds</th>\n",
              "      <th># of Baths</th>\n",
              "      <th>Latitude</th>\n",
              "      <th>Longitude</th>\n",
              "      <th>SameOwnerFirstName</th>\n",
              "      <th>TotalBaths</th>\n",
              "      <th>Total Value</th>\n",
              "    </tr>\n",
              "  </thead>\n",
              "  <tbody>\n",
              "    <tr>\n",
              "      <th>count</th>\n",
              "      <td>35921.000000</td>\n",
              "      <td>35921.000000</td>\n",
              "      <td>35921.000000</td>\n",
              "      <td>35921.000000</td>\n",
              "      <td>35921.000000</td>\n",
              "      <td>35921.000000</td>\n",
              "      <td>35921.000000</td>\n",
              "      <td>35921.000000</td>\n",
              "      <td>35921.000000</td>\n",
              "      <td>35921.000000</td>\n",
              "      <td>35921.000000</td>\n",
              "      <td>35921.000000</td>\n",
              "      <td>35921.00000</td>\n",
              "    </tr>\n",
              "    <tr>\n",
              "      <th>mean</th>\n",
              "      <td>35.980845</td>\n",
              "      <td>118.434797</td>\n",
              "      <td>65681.880972</td>\n",
              "      <td>1919.137218</td>\n",
              "      <td>1816.398382</td>\n",
              "      <td>0.137691</td>\n",
              "      <td>4.054481</td>\n",
              "      <td>1.548184</td>\n",
              "      <td>42.910772</td>\n",
              "      <td>-78.841977</td>\n",
              "      <td>0.242087</td>\n",
              "      <td>1.692464</td>\n",
              "      <td>62981.46104</td>\n",
              "    </tr>\n",
              "    <tr>\n",
              "      <th>std</th>\n",
              "      <td>8.959981</td>\n",
              "      <td>23.061491</td>\n",
              "      <td>60566.228115</td>\n",
              "      <td>24.527781</td>\n",
              "      <td>615.595974</td>\n",
              "      <td>0.405385</td>\n",
              "      <td>1.303909</td>\n",
              "      <td>0.545249</td>\n",
              "      <td>0.034926</td>\n",
              "      <td>0.031105</td>\n",
              "      <td>0.428353</td>\n",
              "      <td>0.611045</td>\n",
              "      <td>52493.43274</td>\n",
              "    </tr>\n",
              "    <tr>\n",
              "      <th>min</th>\n",
              "      <td>1.000000</td>\n",
              "      <td>27.400000</td>\n",
              "      <td>-26321.884256</td>\n",
              "      <td>1800.000000</td>\n",
              "      <td>1.000000</td>\n",
              "      <td>0.000000</td>\n",
              "      <td>0.000000</td>\n",
              "      <td>0.000000</td>\n",
              "      <td>42.832090</td>\n",
              "      <td>-78.908661</td>\n",
              "      <td>0.000000</td>\n",
              "      <td>0.000000</td>\n",
              "      <td>1000.00000</td>\n",
              "    </tr>\n",
              "    <tr>\n",
              "      <th>25%</th>\n",
              "      <td>30.000000</td>\n",
              "      <td>105.000000</td>\n",
              "      <td>26000.000000</td>\n",
              "      <td>1900.000000</td>\n",
              "      <td>1325.000000</td>\n",
              "      <td>0.000000</td>\n",
              "      <td>3.000000</td>\n",
              "      <td>1.000000</td>\n",
              "      <td>42.890035</td>\n",
              "      <td>-78.864922</td>\n",
              "      <td>0.000000</td>\n",
              "      <td>1.000000</td>\n",
              "      <td>32000.00000</td>\n",
              "    </tr>\n",
              "    <tr>\n",
              "      <th>50%</th>\n",
              "      <td>33.000000</td>\n",
              "      <td>115.000000</td>\n",
              "      <td>49000.000000</td>\n",
              "      <td>1920.000000</td>\n",
              "      <td>1708.000000</td>\n",
              "      <td>0.000000</td>\n",
              "      <td>4.000000</td>\n",
              "      <td>2.000000</td>\n",
              "      <td>42.917171</td>\n",
              "      <td>-78.835212</td>\n",
              "      <td>0.000000</td>\n",
              "      <td>2.000000</td>\n",
              "      <td>48900.00000</td>\n",
              "    </tr>\n",
              "    <tr>\n",
              "      <th>75%</th>\n",
              "      <td>40.000000</td>\n",
              "      <td>130.000000</td>\n",
              "      <td>84000.000000</td>\n",
              "      <td>1927.000000</td>\n",
              "      <td>2244.000000</td>\n",
              "      <td>0.000000</td>\n",
              "      <td>5.000000</td>\n",
              "      <td>2.000000</td>\n",
              "      <td>42.940270</td>\n",
              "      <td>-78.815053</td>\n",
              "      <td>0.000000</td>\n",
              "      <td>2.000000</td>\n",
              "      <td>74000.00000</td>\n",
              "    </tr>\n",
              "    <tr>\n",
              "      <th>max</th>\n",
              "      <td>70.000000</td>\n",
              "      <td>209.000000</td>\n",
              "      <td>400000.000000</td>\n",
              "      <td>2018.000000</td>\n",
              "      <td>4954.000000</td>\n",
              "      <td>7.000000</td>\n",
              "      <td>12.000000</td>\n",
              "      <td>8.000000</td>\n",
              "      <td>42.964978</td>\n",
              "      <td>-78.799098</td>\n",
              "      <td>1.000000</td>\n",
              "      <td>8.000000</td>\n",
              "      <td>400000.00000</td>\n",
              "    </tr>\n",
              "  </tbody>\n",
              "</table>\n",
              "</div>\n",
              "      <button class=\"colab-df-convert\" onclick=\"convertToInteractive('df-5d862711-2f53-4842-bee3-a50ecdc0a7d7')\"\n",
              "              title=\"Convert this dataframe to an interactive table.\"\n",
              "              style=\"display:none;\">\n",
              "        \n",
              "  <svg xmlns=\"http://www.w3.org/2000/svg\" height=\"24px\"viewBox=\"0 0 24 24\"\n",
              "       width=\"24px\">\n",
              "    <path d=\"M0 0h24v24H0V0z\" fill=\"none\"/>\n",
              "    <path d=\"M18.56 5.44l.94 2.06.94-2.06 2.06-.94-2.06-.94-.94-2.06-.94 2.06-2.06.94zm-11 1L8.5 8.5l.94-2.06 2.06-.94-2.06-.94L8.5 2.5l-.94 2.06-2.06.94zm10 10l.94 2.06.94-2.06 2.06-.94-2.06-.94-.94-2.06-.94 2.06-2.06.94z\"/><path d=\"M17.41 7.96l-1.37-1.37c-.4-.4-.92-.59-1.43-.59-.52 0-1.04.2-1.43.59L10.3 9.45l-7.72 7.72c-.78.78-.78 2.05 0 2.83L4 21.41c.39.39.9.59 1.41.59.51 0 1.02-.2 1.41-.59l7.78-7.78 2.81-2.81c.8-.78.8-2.07 0-2.86zM5.41 20L4 18.59l7.72-7.72 1.47 1.35L5.41 20z\"/>\n",
              "  </svg>\n",
              "      </button>\n",
              "      \n",
              "  <style>\n",
              "    .colab-df-container {\n",
              "      display:flex;\n",
              "      flex-wrap:wrap;\n",
              "      gap: 12px;\n",
              "    }\n",
              "\n",
              "    .colab-df-convert {\n",
              "      background-color: #E8F0FE;\n",
              "      border: none;\n",
              "      border-radius: 50%;\n",
              "      cursor: pointer;\n",
              "      display: none;\n",
              "      fill: #1967D2;\n",
              "      height: 32px;\n",
              "      padding: 0 0 0 0;\n",
              "      width: 32px;\n",
              "    }\n",
              "\n",
              "    .colab-df-convert:hover {\n",
              "      background-color: #E2EBFA;\n",
              "      box-shadow: 0px 1px 2px rgba(60, 64, 67, 0.3), 0px 1px 3px 1px rgba(60, 64, 67, 0.15);\n",
              "      fill: #174EA6;\n",
              "    }\n",
              "\n",
              "    [theme=dark] .colab-df-convert {\n",
              "      background-color: #3B4455;\n",
              "      fill: #D2E3FC;\n",
              "    }\n",
              "\n",
              "    [theme=dark] .colab-df-convert:hover {\n",
              "      background-color: #434B5C;\n",
              "      box-shadow: 0px 1px 3px 1px rgba(0, 0, 0, 0.15);\n",
              "      filter: drop-shadow(0px 1px 2px rgba(0, 0, 0, 0.3));\n",
              "      fill: #FFFFFF;\n",
              "    }\n",
              "  </style>\n",
              "\n",
              "      <script>\n",
              "        const buttonEl =\n",
              "          document.querySelector('#df-5d862711-2f53-4842-bee3-a50ecdc0a7d7 button.colab-df-convert');\n",
              "        buttonEl.style.display =\n",
              "          google.colab.kernel.accessAllowed ? 'block' : 'none';\n",
              "\n",
              "        async function convertToInteractive(key) {\n",
              "          const element = document.querySelector('#df-5d862711-2f53-4842-bee3-a50ecdc0a7d7');\n",
              "          const dataTable =\n",
              "            await google.colab.kernel.invokeFunction('convertToInteractive',\n",
              "                                                     [key], {});\n",
              "          if (!dataTable) return;\n",
              "\n",
              "          const docLinkHtml = 'Like what you see? Visit the ' +\n",
              "            '<a target=\"_blank\" href=https://colab.research.google.com/notebooks/data_table.ipynb>data table notebook</a>'\n",
              "            + ' to learn more about interactive tables.';\n",
              "          element.innerHTML = '';\n",
              "          dataTable['output_type'] = 'display_data';\n",
              "          await google.colab.output.renderOutput(dataTable, element);\n",
              "          const docLink = document.createElement('div');\n",
              "          docLink.innerHTML = docLinkHtml;\n",
              "          element.appendChild(docLink);\n",
              "        }\n",
              "      </script>\n",
              "    </div>\n",
              "  </div>\n",
              "  "
            ]
          },
          "metadata": {},
          "execution_count": 10
        }
      ]
    },
    {
      "cell_type": "markdown",
      "source": [
        "I will create a new column called \"Age\" which is the year 2020 - Year Built"
      ],
      "metadata": {
        "id": "jS1nbYoFE6Jk"
      }
    },
    {
      "cell_type": "code",
      "source": [
        "df[\"Age\"] = 2020 - df[\"Year Built\"]"
      ],
      "metadata": {
        "id": "LScKY7n9RDci"
      },
      "execution_count": 11,
      "outputs": []
    },
    {
      "cell_type": "code",
      "source": [
        "# Compute the correlation matrix\n",
        "corr = df.corr()\n",
        "\n",
        "# Generate a mask for the upper triangle\n",
        "mask = np.triu(np.ones_like(corr, dtype=bool))\n",
        "\n",
        "# Set up the matplotlib figure\n",
        "f, ax = plt.subplots(figsize=(11, 9))\n",
        "\n",
        "# Generate a custom diverging colormap\n",
        "cmap = sns.diverging_palette(230, 20, as_cmap=True)\n",
        "\n",
        "# Draw the heatmap with the mask and correct aspect ratio\n",
        "sns.heatmap(corr, mask=mask, cmap=cmap, vmax=1, vmin= -1, center=0,\n",
        "            square=True, linewidths=.5, cbar_kws={\"shrink\": .5})"
      ],
      "metadata": {
        "colab": {
          "base_uri": "https://localhost:8080/",
          "height": 670
        },
        "id": "PKfXp-C3GHqb",
        "outputId": "5d1aa9af-8fad-4c8e-cac5-1518bbf82353"
      },
      "execution_count": 12,
      "outputs": [
        {
          "output_type": "execute_result",
          "data": {
            "text/plain": [
              "<matplotlib.axes._subplots.AxesSubplot at 0x7fdd5aa53f90>"
            ]
          },
          "metadata": {},
          "execution_count": 12
        },
        {
          "output_type": "display_data",
          "data": {
            "text/plain": [
              "<Figure size 792x648 with 2 Axes>"
            ],
            "image/png": "[encoded data removed]"
          },
          "metadata": {
            "needs_background": "light"
          }
        }
      ]
    },
    {
      "cell_type": "code",
      "source": [
        "sns.histplot(data=df, x='Age', hue=\"Property Class Description\")"
      ],
      "metadata": {
        "colab": {
          "base_uri": "https://localhost:8080/",
          "height": 304
        },
        "id": "4wf5AGRMSYBG",
        "outputId": "9836e156-480c-4b2e-d6cd-fa0e717885f2"
      },
      "execution_count": 13,
      "outputs": [
        {
          "output_type": "execute_result",
          "data": {
            "text/plain": [
              "<matplotlib.axes._subplots.AxesSubplot at 0x7fdd5a71f390>"
            ]
          },
          "metadata": {},
          "execution_count": 13
        },
        {
          "output_type": "display_data",
          "data": {
            "text/plain": [
              "<Figure size 432x288 with 1 Axes>"
            ],
            "image/png": "[encoded data removed]"
          },
          "metadata": {
            "needs_background": "light"
          }
        }
      ]
    },
    {
      "cell_type": "code",
      "source": [
        "sns.histplot(data=df, x='Total Living Area', hue=\"Property Class Description\")"
      ],
      "metadata": {
        "colab": {
          "base_uri": "https://localhost:8080/",
          "height": 302
        },
        "id": "hvISCL5qTUNG",
        "outputId": "d3f5ae23-19c3-4e4c-b469-3bba67174fc6"
      },
      "execution_count": 14,
      "outputs": [
        {
          "output_type": "execute_result",
          "data": {
            "text/plain": [
              "<matplotlib.axes._subplots.AxesSubplot at 0x7fdd57d25e90>"
            ]
          },
          "metadata": {},
          "execution_count": 14
        },
        {
          "output_type": "display_data",
          "data": {
            "text/plain": [
              "<Figure size 432x288 with 1 Axes>"
            ],
            "image/png": "[encoded data removed]"
          },
          "metadata": {
            "needs_background": "light"
          }
        }
      ]
    },
    {
      "cell_type": "code",
      "source": [
        "sns.histplot(data=df, x='Front')"
      ],
      "metadata": {
        "colab": {
          "base_uri": "https://localhost:8080/",
          "height": 302
        },
        "id": "i1SWGVrhTY93",
        "outputId": "5933ae84-25cb-4597-f387-f109dbb52b36"
      },
      "execution_count": 15,
      "outputs": [
        {
          "output_type": "execute_result",
          "data": {
            "text/plain": [
              "<matplotlib.axes._subplots.AxesSubplot at 0x7fdd5a616190>"
            ]
          },
          "metadata": {},
          "execution_count": 15
        },
        {
          "output_type": "display_data",
          "data": {
            "text/plain": [
              "<Figure size 432x288 with 1 Axes>"
            ],
            "image/png": "[encoded data removed]"
          },
          "metadata": {
            "needs_background": "light"
          }
        }
      ]
    },
    {
      "cell_type": "code",
      "source": [
        "sns.histplot(data=df, x='Depth')"
      ],
      "metadata": {
        "colab": {
          "base_uri": "https://localhost:8080/",
          "height": 302
        },
        "id": "zD0Xcl5eTkCi",
        "outputId": "bf9d8742-ed3f-4401-97a8-6883d7460109"
      },
      "execution_count": 16,
      "outputs": [
        {
          "output_type": "execute_result",
          "data": {
            "text/plain": [
              "<matplotlib.axes._subplots.AxesSubplot at 0x7fdd578f3410>"
            ]
          },
          "metadata": {},
          "execution_count": 16
        },
        {
          "output_type": "display_data",
          "data": {
            "text/plain": [
              "<Figure size 432x288 with 1 Axes>"
            ],
            "image/png": "[encoded data removed]"
          },
          "metadata": {
            "needs_background": "light"
          }
        }
      ]
    },
    {
      "cell_type": "code",
      "source": [
        "sns.histplot(data=df, x='Latitude', hue=\"Property Class Description\")"
      ],
      "metadata": {
        "colab": {
          "base_uri": "https://localhost:8080/",
          "height": 302
        },
        "id": "BFZmkBKFT18R",
        "outputId": "49c75844-5305-4319-f2a6-15fd39ed8bb1"
      },
      "execution_count": 17,
      "outputs": [
        {
          "output_type": "execute_result",
          "data": {
            "text/plain": [
              "<matplotlib.axes._subplots.AxesSubplot at 0x7fdd577553d0>"
            ]
          },
          "metadata": {},
          "execution_count": 17
        },
        {
          "output_type": "display_data",
          "data": {
            "text/plain": [
              "<Figure size 432x288 with 1 Axes>"
            ],
            "image/png": "[encoded data removed]"
          },
          "metadata": {
            "needs_background": "light"
          }
        }
      ]
    },
    {
      "cell_type": "code",
      "source": [
        "sns.histplot(data=df, x='Longitude', hue=\"Property Class Description\")"
      ],
      "metadata": {
        "colab": {
          "base_uri": "https://localhost:8080/",
          "height": 302
        },
        "id": "2ufuGsBWT6Gs",
        "outputId": "916d3ebf-0228-4b7e-8f46-d9189fb5a4ec"
      },
      "execution_count": 18,
      "outputs": [
        {
          "output_type": "execute_result",
          "data": {
            "text/plain": [
              "<matplotlib.axes._subplots.AxesSubplot at 0x7fdd578fc7d0>"
            ]
          },
          "metadata": {},
          "execution_count": 18
        },
        {
          "output_type": "display_data",
          "data": {
            "text/plain": [
              "<Figure size 432x288 with 1 Axes>"
            ],
            "image/png": "[encoded data removed]"
          },
          "metadata": {
            "needs_background": "light"
          }
        }
      ]
    },
    {
      "cell_type": "markdown",
      "source": [
        "Sale Price may not be the most reliable variable since it was imputed."
      ],
      "metadata": {
        "id": "-4UjyLmp_xzH"
      }
    },
    {
      "cell_type": "code",
      "source": [
        "sns.histplot(data=df, x='Sale Price')"
      ],
      "metadata": {
        "colab": {
          "base_uri": "https://localhost:8080/",
          "height": 302
        },
        "id": "RcUagBt4UFIQ",
        "outputId": "298828cc-fe25-48c4-911f-461799d2e59d"
      },
      "execution_count": 19,
      "outputs": [
        {
          "output_type": "execute_result",
          "data": {
            "text/plain": [
              "<matplotlib.axes._subplots.AxesSubplot at 0x7fdd5743e1d0>"
            ]
          },
          "metadata": {},
          "execution_count": 19
        },
        {
          "output_type": "display_data",
          "data": {
            "text/plain": [
              "<Figure size 432x288 with 1 Axes>"
            ],
            "image/png": "[encoded data removed]"
          },
          "metadata": {
            "needs_background": "light"
          }
        }
      ]
    },
    {
      "cell_type": "code",
      "source": [
        "sns.histplot(data=df, x='Total Value', hue = \"Property Class Description\")"
      ],
      "metadata": {
        "colab": {
          "base_uri": "https://localhost:8080/",
          "height": 302
        },
        "id": "QXySUp7pl_N6",
        "outputId": "ad45f236-407b-4632-c416-fad47ab6207b"
      },
      "execution_count": 20,
      "outputs": [
        {
          "output_type": "execute_result",
          "data": {
            "text/plain": [
              "<matplotlib.axes._subplots.AxesSubplot at 0x7fdd578ef310>"
            ]
          },
          "metadata": {},
          "execution_count": 20
        },
        {
          "output_type": "display_data",
          "data": {
            "text/plain": [
              "<Figure size 432x288 with 1 Axes>"
            ],
            "image/png": "[encoded data removed]"
          },
          "metadata": {
            "needs_background": "light"
          }
        }
      ]
    },
    {
      "cell_type": "markdown",
      "source": [
        "* [sklearn.preprocessing.PowerTransformer](https://scikit-learn.org/stable/modules/generated/sklearn.preprocessing.PowerTransformer.html)\n",
        "* [sklearn.pipeline.Pipeline](https://scikit-learn.org/stable/modules/generated/sklearn.pipeline.Pipeline.html#sklearn.pipeline.Pipeline)\n",
        "* [How to Transform Target Variables for Regression in Python](https://machinelearningmastery.com/how-to-transform-target-variables-for-regression-with-scikit-learn/)"
      ],
      "metadata": {
        "id": "m6sGZQUun7JK"
      }
    },
    {
      "cell_type": "markdown",
      "source": [
        "Regression Metrics:\n",
        "- MSE: Mean squared error, closer to 0 is better. Our target is a large value, so this is expected to be large.\n",
        "- RMSE: Square root of the mean square error which is expressed in units of the target. Closer to 0 is better.\n",
        "- MAE: Mean Absolute Error\n",
        "- Median Absolute Error is more robust to outliers.\n",
        "- R2 score / Coefficient of Determination: the amount of variance explained by the model, and a goodness of fit. Closer to 1 is better.\n",
        "\n",
        "Reference:\n",
        "[Sklearn Regression Metrics](https://scikit-learn.org/stable/modules/model_evaluation.html#regression-metrics)"
      ],
      "metadata": {
        "id": "1VdbVObukdIC"
      }
    },
    {
      "cell_type": "code",
      "source": [
        "def getRegressionMetrics (target, prediction):\n",
        "  \"\"\"\n",
        "  Provided a vector of the target and a vector of the prediction, this\n",
        "  function prints the regression metrics associated with the data.\n",
        "  \"\"\"\n",
        "  # The mean squared error: units not meaningful, but smaller is better\n",
        "  print(\"Mean squared error: %.2f\" % mean_squared_error(target, prediction))\n",
        "  # The root mean squared error: expressed in units of target\n",
        "  print(\"Root Mean squared error: %.2f\" % np.sqrt(mean_squared_error(target, prediction)))\n",
        "  # The mean absolute error\n",
        "  print(\"Mean absolute error: %.2f\" % mean_absolute_error(target, prediction))\n",
        "  # The median absolute error: more robust to outliers\n",
        "  print(\"Median absolute error: %.2f\" % median_absolute_error(target, prediction))\n",
        "  # The coefficient of determination: 1 is perfect prediction\n",
        "  print(\"Coefficient of determination: %.2f\" % r2_score(target, prediction))"
      ],
      "metadata": {
        "id": "6BnPc5QX_aCN"
      },
      "execution_count": 21,
      "outputs": []
    },
    {
      "cell_type": "code",
      "source": [
        "import matplotlib.pyplot as plt\n",
        "%matplotlib inline\n",
        "def getPredictionPlot (target, prediction):\n",
        "  \"\"\"\n",
        "  Provided a vector of the target and a vector of the prediction, this\n",
        "  function produces a scatter plot and regression line.\n",
        "  \"\"\"\n",
        "  # Create a figure for 2 subplots (1 row, 2 columns)\n",
        "  fig, ax = plt.subplots(1, 2, figsize = (14,6))\n",
        "\n",
        "  # Create first subplot\n",
        "  ax[0].scatter(target, prediction)\n",
        "  ax[0].set_xlabel('Target Values')\n",
        "  ax[0].set_ylabel('Predicted Values')\n",
        "  ax[0].set_title('Total Value Predictions')\n",
        "  # overlay the regression line\n",
        "  z = np.polyfit(target, prediction, 1)\n",
        "  p = np.poly1d(z)\n",
        "  ax[0].plot(target,p(target), color='magenta')\n",
        "  ax[0].tick_params('x', labelrotation=90)\n",
        "\n",
        "\n",
        "  #Create second subplot\n",
        "  # define residuals\n",
        "  residuals = target - prediction\n",
        "  # plot residuals\n",
        "  ax[1].hist(residuals, bins=50)\n",
        "  ax[1].set_xlabel('Residuals')\n",
        "  ax[1].set_ylabel('Count')\n",
        "  ax[1].set_title('Histogram of Residuals')\n",
        "  ax[1].tick_params('x', labelrotation=90)\n",
        "  \n",
        "  \n",
        "  # Show the figure\n",
        "  fig.show()"
      ],
      "metadata": {
        "id": "I5tGDJu_rC0a"
      },
      "execution_count": 55,
      "outputs": []
    },
    {
      "cell_type": "code",
      "source": [
        "numeric_features = [\"Front\", \"Age\", \"Total Living Area\", \"# of Fireplaces\", \"# of Beds\", \"TotalBaths\"]\n",
        "\n",
        "categorical_features = [\"Property Class Description\", \"Neighborhood\"]\n",
        "categorical_transformer = OneHotEncoder(handle_unknown=\"ignore\")\n",
        "\n",
        "# numeric features are not processed\n",
        "# categorical features are one hot encoded\n",
        "preprocessor = ColumnTransformer(\n",
        "    transformers=[\n",
        "        (\"cat\", categorical_transformer, categorical_features),\n",
        "    ]\n",
        ")"
      ],
      "metadata": {
        "id": "Ywlb1gNN0fOl"
      },
      "execution_count": 23,
      "outputs": []
    },
    {
      "cell_type": "code",
      "source": [
        "# define the data that will be used in the model\n",
        "regression_cols = [\"Property Class Description\", \"Neighborhood\", \"Front\", \"Age\", \"Total Living Area\", \"# of Fireplaces\", \"# of Beds\", \"TotalBaths\"]\n",
        "\n",
        "train_x = df[regression_cols]\n",
        "train_y = df[\"Total Value\"]"
      ],
      "metadata": {
        "id": "BIJoP2Eno_nE"
      },
      "execution_count": 24,
      "outputs": []
    },
    {
      "cell_type": "code",
      "source": [
        "# define the pipeline\n",
        "pipeline = Pipeline(steps=[(\"preprocessor\", preprocessor),\n",
        "                           ('model', LinearRegression())])\n",
        "# fit pipeline\n",
        "pipeline.fit(train_x, train_y)\n",
        "\n",
        "# make predicitions on training data\n",
        "y_pred_train = pipeline.predict(train_x)\n",
        "\n",
        "# get weights of model\n",
        "weights = pipeline.named_steps['model'].coef_\n",
        "\n",
        "# get intercept of model\n",
        "intercept = pipeline.named_steps['model'].intercept_\n",
        "\n",
        "# Access some info about the model.\n",
        "print('Coefficients: \\n', weights)\n",
        "print('Intercept: \\n', intercept)\n",
        "\n",
        "# Check a sample of predictions vs. the target\n",
        "print('Predicted values: ', np.round(y_pred_train)[:10])\n",
        "print('Target values: ' ,train_y[:10])"
      ],
      "metadata": {
        "colab": {
          "base_uri": "https://localhost:8080/"
        },
        "id": "tPCgrAW5g66U",
        "outputId": "a10419a9-13cf-4080-adaf-d3a3725f1866"
      },
      "execution_count": 25,
      "outputs": [
        {
          "output_type": "stream",
          "name": "stdout",
          "text": [
            "Coefficients: \n",
            " [  4389.62943633  -4389.62943669  36526.26511735 -36734.6525652\n",
            " -48887.74850457 158861.48015928  67955.48819432 -41540.26534668\n",
            " -36199.69886761  68862.42251716  70315.9115367  -43231.5204851\n",
            " -46011.93755742 -45665.14532701 -48516.58261446 -31950.7512901\n",
            " -23005.1076902  -21522.88130971 -12799.32037553 -26078.39737335\n",
            " -24446.41794559 -26314.45405664 -14730.87546501 -48572.17249446\n",
            " -43213.260328    37143.18484779  86236.51084477  -8758.24438165\n",
            " -23159.45974631 -30742.20134015 -41686.06520419 -13686.37872444\n",
            "   5942.27714609 283852.36202342  -5294.54473815 -36832.46075981\n",
            " -15341.43189885 -20773.92599656]\n",
            "Intercept: \n",
            " 70346.89756595224\n",
            "Predicted values:  [145052.  48658.  42952.  69442.  80679.  37904.  17070. 142692.  17441.\n",
            "  37904.]\n",
            "Target values:  SBL\n",
            "1003800004027000    175000.0\n",
            "0907200002032000     10000.0\n",
            "0896700003003000     33800.0\n",
            "0797100006030000     51100.0\n",
            "1334800003004000     75000.0\n",
            "0887400003012000     35500.0\n",
            "1016900005054111     25000.0\n",
            "0788400002006000    295000.0\n",
            "0907900002024000     25000.0\n",
            "0887400003019000     35000.0\n",
            "Name: Total Value, dtype: float64\n"
          ]
        }
      ]
    },
    {
      "cell_type": "code",
      "source": [
        "getRegressionMetrics(train_y, y_pred_train)"
      ],
      "metadata": {
        "colab": {
          "base_uri": "https://localhost:8080/"
        },
        "id": "_6OPkCrGnjE4",
        "outputId": "0b0c3b10-dab7-4ffd-ff2e-085ff95fc591"
      },
      "execution_count": 26,
      "outputs": [
        {
          "output_type": "stream",
          "name": "stdout",
          "text": [
            "Mean squared error: 1178757907.56\n",
            "Root Mean squared error: 34333.04\n",
            "Mean absolute error: 19215.90\n",
            "Median absolute error: 10290.11\n",
            "Coefficient of determination: 0.57\n"
          ]
        }
      ]
    },
    {
      "cell_type": "code",
      "source": [
        "getPredictionPlot(train_y, y_pred_train)"
      ],
      "metadata": {
        "colab": {
          "base_uri": "https://localhost:8080/",
          "height": 454
        },
        "id": "07VSRU02riEZ",
        "outputId": "c304939d-af02-41d7-f626-5d1ab5aa30b5"
      },
      "execution_count": 56,
      "outputs": [
        {
          "output_type": "display_data",
          "data": {
            "text/plain": [
              "<Figure size 1008x432 with 2 Axes>"
            ],
            "image/png": "[encoded data removed]"
          },
          "metadata": {
            "needs_background": "light"
          }
        }
      ]
    }
  ]
}