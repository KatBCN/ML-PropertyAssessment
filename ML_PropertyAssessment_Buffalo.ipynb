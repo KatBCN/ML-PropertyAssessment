{
  "nbformat": 4,
  "nbformat_minor": 0,
  "metadata": {
    "colab": {
      "name": "ML-PropertyAssessment-Buffalo.ipynb",
      "provenance": [],
      "collapsed_sections": [],
      "mount_file_id": "1dEWqx0jMwvWPijsCFkHPmrK2LRWC6GQI",
      "authorship_tag": "ABX9TyNc38tHAi3KIIllFso2RrBE",
      "include_colab_link": true
    },
    "kernelspec": {
      "name": "python3",
      "display_name": "Python 3"
    },
    "language_info": {
      "name": "python"
    }
  },
  "cells": [
    {
      "cell_type": "markdown",
      "metadata": {
        "id": "view-in-github",
        "colab_type": "text"
      },
      "source": [
        "<a href=\"https://colab.research.google.com/github/KatBCN/ML-PropertyAssessment/blob/main/ML_PropertyAssessment_Buffalo.ipynb\" target=\"_parent\"><img src=\"https://colab.research.google.com/assets/colab-badge.svg\" alt=\"Open In Colab\"/></a>"
      ]
    },
    {
      "cell_type": "code",
      "source": [
        ""
      ],
      "metadata": {
        "id": "NC7keiYYQtoo"
      },
      "execution_count": null,
      "outputs": []
    },
    {
      "cell_type": "code",
      "source": [
        "!python --version"
      ],
      "metadata": {
        "colab": {
          "base_uri": "https://localhost:8080/"
        },
        "id": "Z2FFf-HCQkwj",
        "outputId": "53b855a5-075d-40a5-9b3d-0e10e07b5b24"
      },
      "execution_count": 1,
      "outputs": [
        {
          "output_type": "stream",
          "name": "stdout",
          "text": [
            "Python 3.7.13\n"
          ]
        }
      ]
    },
    {
      "cell_type": "code",
      "execution_count": 2,
      "metadata": {
        "id": "f8PLs4PUQGx5"
      },
      "outputs": [],
      "source": [
        "import pandas as pd\n",
        "import matplotlib.pyplot as plt\n",
        "import seaborn as sns"
      ]
    },
    {
      "cell_type": "code",
      "source": [
        "pd.set_option('display.max_columns', None)  #set display to show all columns"
      ],
      "metadata": {
        "id": "J1RqNkZlmjxQ"
      },
      "execution_count": 3,
      "outputs": []
    },
    {
      "cell_type": "markdown",
      "source": [
        "Start by mounting Google Drive to import the data."
      ],
      "metadata": {
        "id": "tF73FCoKQyl8"
      }
    },
    {
      "cell_type": "code",
      "source": [
        "df = pd.read_csv(\"/content/drive/MyDrive/ML-Project/2019-2020_Assessment_Roll.csv\")"
      ],
      "metadata": {
        "id": "y1ALaZf-QoG4",
        "colab": {
          "base_uri": "https://localhost:8080/"
        },
        "outputId": "bff64841-c1ac-485b-84e4-624b805dbeed"
      },
      "execution_count": 4,
      "outputs": [
        {
          "output_type": "stream",
          "name": "stderr",
          "text": [
            "/usr/local/lib/python3.7/dist-packages/IPython/core/interactiveshell.py:2882: DtypeWarning: Columns (23) have mixed types.Specify dtype option on import or set low_memory=False.\n",
            "  exec(code_obj, self.user_global_ns, self.user_ns)\n"
          ]
        }
      ]
    },
    {
      "cell_type": "markdown",
      "source": [
        "## Summary of Data\n",
        "The original data and metadata provided by the City of Buffalo are available at the [2019-2020 Property Assessment Data Website](https://internal.data.buffalony.gov/Government/2019-2020-Assessment-Roll/kckn-jafw).\n",
        "\n"
      ],
      "metadata": {
        "id": "Ep2Y3XNHRWZN"
      }
    },
    {
      "cell_type": "markdown",
      "source": [
        "There are over 93,000 rows and 51 columns."
      ],
      "metadata": {
        "id": "DNT-ZconWSja"
      }
    },
    {
      "cell_type": "code",
      "source": [
        "print(df.shape)"
      ],
      "metadata": {
        "colab": {
          "base_uri": "https://localhost:8080/"
        },
        "id": "YelOFMwWWMBP",
        "outputId": "93e42707-a558-4d3a-f2d5-1cf2ff2b1323"
      },
      "execution_count": 5,
      "outputs": [
        {
          "output_type": "stream",
          "name": "stdout",
          "text": [
            "(93862, 51)\n"
          ]
        }
      ]
    },
    {
      "cell_type": "code",
      "source": [
        "print(df.columns)"
      ],
      "metadata": {
        "colab": {
          "base_uri": "https://localhost:8080/"
        },
        "id": "ov51AwDgRQd2",
        "outputId": "5f37e348-8eb6-4c51-f957-8805a407534f"
      },
      "execution_count": 6,
      "outputs": [
        {
          "output_type": "stream",
          "name": "stdout",
          "text": [
            "Index(['SBL', 'Tax District', 'Print Key', 'Front', 'Depth', 'Property Class',\n",
            "       'Property Class Description', 'Previous Property Class', 'Owner1',\n",
            "       'Owner2', 'Previous Owner', 'Mail1', 'Mail2', 'Mail3', 'Mail4',\n",
            "       'House Number', 'Street', 'Address', 'City', 'State', 'Zipcode',\n",
            "       'Zipcode Extension', 'Deed Book', 'Deed Page', 'Deed Date', 'Roll',\n",
            "       'Land Value', 'Total Value', 'Sale Price', 'Year Built',\n",
            "       'First Story Area', 'Second Story Area', 'Total Living Area',\n",
            "       'Overall Condition', 'Building Style', 'Heat Type', 'Basement Type',\n",
            "       '# of Stories', '# of Fireplaces', '# of Beds', '# of Baths',\n",
            "       '# of Kitchens', 'Council District', 'Police District', 'Census Tract',\n",
            "       'Census Block Group', 'Census Block', 'Neighborhood', 'Latitude',\n",
            "       'Longitude', 'Location'],\n",
            "      dtype='object')\n"
          ]
        }
      ]
    },
    {
      "cell_type": "markdown",
      "source": [
        "Numeric Variables (9): \n",
        "* Front (width measured in feet)\n",
        "* Depth (depth measured in feet)\n",
        "* Land Value (assessed value of just land)\n",
        "* Total Value (assessed value of land and improvements)\n",
        "* Sale Price (price last sold for)\n",
        "* Total Living Area (amount of living space in square feet)\n",
        "* Number of Fireplaces\n",
        "* Number of Beds\n",
        "* Number of Baths\n",
        "\n",
        "Categorical Variables for Property Features (6):\n",
        "* Property Class Description (text)\n",
        "* Year Built\n",
        "* Overall Condition\n",
        "* Building Style (code with unknown interpretation)\n",
        "* Heat Type (code with unknown interpretation)\n",
        "* Basement Type (code with unknown interpretation)\n",
        "\n",
        "Categorical Variables for Property Location (8):\n",
        "* Tax District\n",
        "* Zipcode\n",
        "* Council District\n",
        "* Police District\n",
        "* Census Tract / Census Block Group / Census Block\n",
        "* Neighborhood\n",
        "\n",
        "Identifier Variable (1):\n",
        "* SBL (unique)\n",
        "\n",
        "Variables not likely to be used (24):\n",
        "* Print Key (secondary format of SBL)\n",
        "* Property Class (code) \n",
        "* Previous Property Class\n",
        "* Owner1 / Owner2 / Previous Owner\n",
        "* Mail1 / Mail2 / Mail3 / Mail4\n",
        "* House Number / Street / Address / City / State\n",
        "* Zipcode Extension\n",
        "* Deed Book / Deed Page / Deed Date\n",
        "* Roll\n",
        "* First Story Area / Second Story Area (both missing)\n",
        "* Number of Stories (missing)\n",
        "* Number of Kitchens (missing)\n",
        "\n",
        "Geospatial Varaiables (3):\n",
        "* Latitude / Longitude / Location\n"
      ],
      "metadata": {
        "id": "krrjlUn3SoyB"
      }
    },
    {
      "cell_type": "code",
      "source": [
        "print(\"Column datatypes:\")\n",
        "print(df.dtypes)"
      ],
      "metadata": {
        "colab": {
          "base_uri": "https://localhost:8080/"
        },
        "id": "gQbqvDO2RKBf",
        "outputId": "30f11b8f-e98b-406d-ee19-1be48a720447"
      },
      "execution_count": 7,
      "outputs": [
        {
          "output_type": "stream",
          "name": "stdout",
          "text": [
            "Column datatypes:\n",
            "SBL                            object\n",
            "Tax District                  float64\n",
            "Print Key                      object\n",
            "Front                         float64\n",
            "Depth                         float64\n",
            "Property Class                  int64\n",
            "Property Class Description     object\n",
            "Previous Property Class       float64\n",
            "Owner1                         object\n",
            "Owner2                         object\n",
            "Previous Owner                float64\n",
            "Mail1                          object\n",
            "Mail2                          object\n",
            "Mail3                          object\n",
            "Mail4                          object\n",
            "House Number                  float64\n",
            "Street                         object\n",
            "Address                        object\n",
            "City                           object\n",
            "State                          object\n",
            "Zipcode                       float64\n",
            "Zipcode Extension             float64\n",
            "Deed Book                      object\n",
            "Deed Page                      object\n",
            "Deed Date                      object\n",
            "Roll                            int64\n",
            "Land Value                      int64\n",
            "Total Value                     int64\n",
            "Sale Price                      int64\n",
            "Year Built                    float64\n",
            "First Story Area              float64\n",
            "Second Story Area             float64\n",
            "Total Living Area               int64\n",
            "Overall Condition             float64\n",
            "Building Style                float64\n",
            "Heat Type                     float64\n",
            "Basement Type                 float64\n",
            "# of Stories                  float64\n",
            "# of Fireplaces                 int64\n",
            "# of Beds                       int64\n",
            "# of Baths                    float64\n",
            "# of Kitchens                 float64\n",
            "Council District               object\n",
            "Police District                object\n",
            "Census Tract                   object\n",
            "Census Block Group             object\n",
            "Census Block                   object\n",
            "Neighborhood                   object\n",
            "Latitude                      float64\n",
            "Longitude                     float64\n",
            "Location                       object\n",
            "dtype: object\n"
          ]
        }
      ]
    },
    {
      "cell_type": "markdown",
      "source": [
        "There are several completely or nearly empty columns:\n",
        "* Previous Owner\n",
        "* Address\n",
        "* Zipcode Extension\n",
        "* First Story Area\n",
        "* Second Story Area\n",
        "* Number of Stories\n",
        "* Number of Kitchens\n",
        "\n",
        "Missing Values:\n",
        "\n",
        "These missing values could be because there is no building present on the property.\n",
        "* Year Built\n",
        "* Overall Condition\n",
        "* Building Style\n",
        "* Heat Type\n",
        "* Basement Type"
      ],
      "metadata": {
        "id": "KMTFwx0wVxHo"
      }
    },
    {
      "cell_type": "code",
      "source": [
        "print(\"Count of null values per column:\")\n",
        "print(df.isna().sum())"
      ],
      "metadata": {
        "colab": {
          "base_uri": "https://localhost:8080/"
        },
        "id": "9P5tWArGVOiw",
        "outputId": "6f71ed45-a5af-470d-83b5-f9dd0bd3aeab"
      },
      "execution_count": 8,
      "outputs": [
        {
          "output_type": "stream",
          "name": "stdout",
          "text": [
            "Count of null values per column:\n",
            "SBL                               0\n",
            "Tax District                      5\n",
            "Print Key                         0\n",
            "Front                             0\n",
            "Depth                             0\n",
            "Property Class                    0\n",
            "Property Class Description        0\n",
            "Previous Property Class         291\n",
            "Owner1                            0\n",
            "Owner2                        70037\n",
            "Previous Owner                93862\n",
            "Mail1                         89318\n",
            "Mail2                         86694\n",
            "Mail3                            13\n",
            "Mail4                             8\n",
            "House Number                      5\n",
            "Street                            0\n",
            "Address                       93756\n",
            "City                              5\n",
            "State                             5\n",
            "Zipcode                          44\n",
            "Zipcode Extension             93858\n",
            "Deed Book                       235\n",
            "Deed Page                       235\n",
            "Deed Date                         0\n",
            "Roll                              0\n",
            "Land Value                        0\n",
            "Total Value                       0\n",
            "Sale Price                        0\n",
            "Year Built                    26035\n",
            "First Story Area              93862\n",
            "Second Story Area             93862\n",
            "Total Living Area                 0\n",
            "Overall Condition             26035\n",
            "Building Style                26035\n",
            "Heat Type                     26106\n",
            "Basement Type                 26179\n",
            "# of Stories                  93862\n",
            "# of Fireplaces                   0\n",
            "# of Beds                         0\n",
            "# of Baths                        0\n",
            "# of Kitchens                 93862\n",
            "Council District                759\n",
            "Police District                 759\n",
            "Census Tract                    759\n",
            "Census Block Group              759\n",
            "Census Block                    759\n",
            "Neighborhood                    759\n",
            "Latitude                        759\n",
            "Longitude                       759\n",
            "Location                        759\n",
            "dtype: int64\n"
          ]
        }
      ]
    },
    {
      "cell_type": "markdown",
      "source": [
        "* The feature 'Year Built' needs to be cleaned because non-year values are present.\n",
        "\n"
      ],
      "metadata": {
        "id": "CU6oWu4BV7uU"
      }
    },
    {
      "cell_type": "code",
      "source": [
        "df.describe(include=\"all\")"
      ],
      "metadata": {
        "colab": {
          "base_uri": "https://localhost:8080/",
          "height": 545
        },
        "id": "GzLVPwOgSlJJ",
        "outputId": "32c43775-dce9-4d1f-b491-e2a32ffbcebb"
      },
      "execution_count": 9,
      "outputs": [
        {
          "output_type": "execute_result",
          "data": {
            "text/plain": [
              "                      SBL   Tax District          Print Key         Front  \\\n",
              "count               93862   93857.000000              93862  93862.000000   \n",
              "unique              93862            NaN              93862           NaN   \n",
              "top     1113100012001122A            NaN  111.31-12-1.122/A           NaN   \n",
              "freq                    1            NaN                  1           NaN   \n",
              "mean                  NaN  147008.330620                NaN     47.339433   \n",
              "std                   NaN       3.981637                NaN    336.930544   \n",
              "min                   NaN  147001.000000                NaN      0.000000   \n",
              "25%                   NaN  147005.000000                NaN     30.000000   \n",
              "50%                   NaN  147009.000000                NaN     33.000000   \n",
              "75%                   NaN  147011.000000                NaN     40.000000   \n",
              "max                   NaN  147089.000000                NaN  97147.000000   \n",
              "\n",
              "               Depth  Property Class Property Class Description  \\\n",
              "count   93862.000000    93862.000000                      93862   \n",
              "unique           NaN             NaN                        147   \n",
              "top              NaN             NaN        ONE FAMILY DWELLING   \n",
              "freq             NaN             NaN                      37859   \n",
              "mean      119.618199      263.155548                        NaN   \n",
              "std        94.829635       98.655042                        NaN   \n",
              "min         0.000000      210.000000                        NaN   \n",
              "25%       102.000000      210.000000                        NaN   \n",
              "50%       115.000000      220.000000                        NaN   \n",
              "75%       132.000000      311.000000                        NaN   \n",
              "max     15900.000000      971.000000                        NaN   \n",
              "\n",
              "        Previous Property Class                         Owner1 Owner2  \\\n",
              "count              93571.000000                          93862  23825   \n",
              "unique                      NaN                          66600  15666   \n",
              "top                         NaN  CITY BUFFALO PERFECTING TITLE  TITLE   \n",
              "freq                        NaN                           3199   2069   \n",
              "mean                 262.991536                            NaN    NaN   \n",
              "std                   98.473096                            NaN    NaN   \n",
              "min                  210.000000                            NaN    NaN   \n",
              "25%                  210.000000                            NaN    NaN   \n",
              "50%                  220.000000                            NaN    NaN   \n",
              "75%                  311.000000                            NaN    NaN   \n",
              "max                  971.000000                            NaN    NaN   \n",
              "\n",
              "        Previous Owner                        Mail1 Mail2  \\\n",
              "count              0.0                         4544  7168   \n",
              "unique             NaN                         2546  5017   \n",
              "top                NaN  C/O DIVISION OF REAL ESTATE   LLC   \n",
              "freq               NaN                          329   245   \n",
              "mean               NaN                          NaN   NaN   \n",
              "std                NaN                          NaN   NaN   \n",
              "min                NaN                          NaN   NaN   \n",
              "25%                NaN                          NaN   NaN   \n",
              "50%                NaN                          NaN   NaN   \n",
              "75%                NaN                          NaN   NaN   \n",
              "max                NaN                          NaN   NaN   \n",
              "\n",
              "                       Mail3        Mail4  House Number    Street     Address  \\\n",
              "count                  93849        93854  93857.000000     93862         106   \n",
              "unique                 63196         1895           NaN      1453          99   \n",
              "top     65 NIAGARA SQ RM 901  BUFFALO, NY           NaN  DELAWARE  65 WHITNEY   \n",
              "freq                    3717        75784           NaN       939           6   \n",
              "mean                     NaN          NaN    346.601958       NaN         NaN   \n",
              "std                      NaN          NaN   1952.874162       NaN         NaN   \n",
              "min                      NaN          NaN      0.000000       NaN         NaN   \n",
              "25%                      NaN          NaN     64.000000       NaN         NaN   \n",
              "50%                      NaN          NaN    153.000000       NaN         NaN   \n",
              "75%                      NaN          NaN    364.000000       NaN         NaN   \n",
              "max                      NaN          NaN  99999.000000       NaN         NaN   \n",
              "\n",
              "           City  State       Zipcode  Zipcode Extension Deed Book  Deed Page  \\\n",
              "count     93857  93857  93818.000000           4.000000     93627    93627.0   \n",
              "unique        1      1           NaN                NaN      5625    21272.0   \n",
              "top     BUFFALO     NY           NaN                NaN     11324     3856.0   \n",
              "freq      93857  93857           NaN                NaN       507      190.0   \n",
              "mean        NaN    NaN  14211.796628        1627.750000       NaN        NaN   \n",
              "std         NaN    NaN      5.033240         220.931928       NaN        NaN   \n",
              "min         NaN    NaN  14200.000000        1508.000000       NaN        NaN   \n",
              "25%         NaN    NaN  14208.000000        1518.500000       NaN        NaN   \n",
              "50%         NaN    NaN  14212.000000        1522.000000       NaN        NaN   \n",
              "75%         NaN    NaN  14215.000000        1631.250000       NaN        NaN   \n",
              "max         NaN    NaN  14225.000000        1959.000000       NaN        NaN   \n",
              "\n",
              "         Deed Date          Roll    Land Value   Total Value    Sale Price  \\\n",
              "count        93862  93862.000000  9.386200e+04  9.386200e+04  9.386200e+04   \n",
              "unique        7609           NaN           NaN           NaN           NaN   \n",
              "top     09/09/9999           NaN           NaN           NaN           NaN   \n",
              "freq         23304           NaN           NaN           NaN           NaN   \n",
              "mean           NaN      1.802806  1.264465e+04  1.140735e+05  5.259509e+04   \n",
              "std            NaN      2.222150  1.068279e+05  1.371201e+06  4.216895e+05   \n",
              "min            NaN      1.000000  0.000000e+00  1.000000e+01  0.000000e+00   \n",
              "25%            NaN      1.000000  2.500000e+03  1.940000e+04  1.000000e+00   \n",
              "50%            NaN      1.000000  4.400000e+03  4.300000e+04  2.551500e+03   \n",
              "75%            NaN      1.000000  7.200000e+03  7.190000e+04  5.100000e+04   \n",
              "max            NaN      8.000000  1.154780e+07  1.895094e+08  8.900000e+07   \n",
              "\n",
              "          Year Built  First Story Area  Second Story Area  Total Living Area  \\\n",
              "count   67827.000000               0.0                0.0       93862.000000   \n",
              "unique           NaN               NaN                NaN                NaN   \n",
              "top              NaN               NaN                NaN                NaN   \n",
              "freq             NaN               NaN                NaN                NaN   \n",
              "mean     1919.151031               NaN                NaN        1341.359016   \n",
              "std        29.283161               NaN                NaN        1018.367034   \n",
              "min         1.000000               NaN                NaN           0.000000   \n",
              "25%      1900.000000               NaN                NaN           0.000000   \n",
              "50%      1920.000000               NaN                NaN        1410.000000   \n",
              "75%      1927.000000               NaN                NaN        2078.000000   \n",
              "max      2018.000000               NaN                NaN       13004.000000   \n",
              "\n",
              "        Overall Condition  Building Style     Heat Type  Basement Type  \\\n",
              "count        67827.000000    67827.000000  67756.000000   67683.000000   \n",
              "unique                NaN             NaN           NaN            NaN   \n",
              "top                   NaN             NaN           NaN            NaN   \n",
              "freq                  NaN             NaN           NaN            NaN   \n",
              "mean             2.975511        7.654297      2.071846       3.604967   \n",
              "std              0.363101        1.832832      0.418526       0.808858   \n",
              "min              1.000000        1.000000      1.000000       1.000000   \n",
              "25%              3.000000        8.000000      2.000000       4.000000   \n",
              "50%              3.000000        8.000000      2.000000       4.000000   \n",
              "75%              3.000000        8.000000      2.000000       4.000000   \n",
              "max              5.000000       17.000000      4.000000       4.000000   \n",
              "\n",
              "        # of Stories  # of Fireplaces     # of Beds    # of Baths  \\\n",
              "count            0.0     93862.000000  93862.000000  93862.000000   \n",
              "unique           NaN              NaN           NaN           NaN   \n",
              "top              NaN              NaN           NaN           NaN   \n",
              "freq             NaN              NaN           NaN           NaN   \n",
              "mean             NaN         0.108414      2.950480      1.152722   \n",
              "std              NaN         0.393434      2.162006      0.881370   \n",
              "min              NaN         0.000000      0.000000      0.000000   \n",
              "25%              NaN         0.000000      0.000000      0.000000   \n",
              "50%              NaN         0.000000      3.000000      1.000000   \n",
              "75%              NaN         0.000000      4.000000      2.000000   \n",
              "max              NaN         9.000000     12.000000      8.000000   \n",
              "\n",
              "        # of Kitchens Council District Police District Census Tract  \\\n",
              "count             0.0            93103           93103        93103   \n",
              "unique            NaN               10               6           81   \n",
              "top               NaN         FILLMORE      District D          168   \n",
              "freq              NaN            15027           22346         2264   \n",
              "mean              NaN              NaN             NaN          NaN   \n",
              "std               NaN              NaN             NaN          NaN   \n",
              "min               NaN              NaN             NaN          NaN   \n",
              "25%               NaN              NaN             NaN          NaN   \n",
              "50%               NaN              NaN             NaN          NaN   \n",
              "75%               NaN              NaN             NaN          NaN   \n",
              "max               NaN              NaN             NaN          NaN   \n",
              "\n",
              "       Census Block Group Census Block       Neighborhood      Latitude  \\\n",
              "count               93103        93103              93103  93103.000000   \n",
              "unique                  8          275                 36           NaN   \n",
              "top                     1         1001  Broadway Fillmore           NaN   \n",
              "freq                26889         3366               7862           NaN   \n",
              "mean                  NaN          NaN                NaN     42.908632   \n",
              "std                   NaN          NaN                NaN      0.032226   \n",
              "min                   NaN          NaN                NaN     42.828198   \n",
              "25%                   NaN          NaN                NaN     42.890221   \n",
              "50%                   NaN          NaN                NaN     42.911926   \n",
              "75%                   NaN          NaN                NaN     42.935184   \n",
              "max                   NaN          NaN                NaN     42.965959   \n",
              "\n",
              "           Longitude                                 Location  \n",
              "count   93103.000000                                    93103  \n",
              "unique           NaN                                    91697  \n",
              "top              NaN  (42.91363099203083, -78.87031816798164)  \n",
              "freq             NaN                                      447  \n",
              "mean      -78.844426                                      NaN  \n",
              "std         0.029962                                      NaN  \n",
              "min       -78.909804                                      NaN  \n",
              "25%       -78.868215                                      NaN  \n",
              "50%       -78.840769                                      NaN  \n",
              "75%       -78.818480                                      NaN  \n",
              "max       -78.799051                                      NaN  "
            ],
            "text/html": [
              "\n",
              "  <div id=\"df-d3a1bacc-7c6f-440b-8d6f-98328f9a91c0\">\n",
              "    <div class=\"colab-df-container\">\n",
              "      <div>\n",
              "<style scoped>\n",
              "    .dataframe tbody tr th:only-of-type {\n",
              "        vertical-align: middle;\n",
              "    }\n",
              "\n",
              "    .dataframe tbody tr th {\n",
              "        vertical-align: top;\n",
              "    }\n",
              "\n",
              "    .dataframe thead th {\n",
              "        text-align: right;\n",
              "    }\n",
              "</style>\n",
              "<table border=\"1\" class=\"dataframe\">\n",
              "  <thead>\n",
              "    <tr style=\"text-align: right;\">\n",
              "      <th></th>\n",
              "      <th>SBL</th>\n",
              "      <th>Tax District</th>\n",
              "      <th>Print Key</th>\n",
              "      <th>Front</th>\n",
              "      <th>Depth</th>\n",
              "      <th>Property Class</th>\n",
              "      <th>Property Class Description</th>\n",
              "      <th>Previous Property Class</th>\n",
              "      <th>Owner1</th>\n",
              "      <th>Owner2</th>\n",
              "      <th>Previous Owner</th>\n",
              "      <th>Mail1</th>\n",
              "      <th>Mail2</th>\n",
              "      <th>Mail3</th>\n",
              "      <th>Mail4</th>\n",
              "      <th>House Number</th>\n",
              "      <th>Street</th>\n",
              "      <th>Address</th>\n",
              "      <th>City</th>\n",
              "      <th>State</th>\n",
              "      <th>Zipcode</th>\n",
              "      <th>Zipcode Extension</th>\n",
              "      <th>Deed Book</th>\n",
              "      <th>Deed Page</th>\n",
              "      <th>Deed Date</th>\n",
              "      <th>Roll</th>\n",
              "      <th>Land Value</th>\n",
              "      <th>Total Value</th>\n",
              "      <th>Sale Price</th>\n",
              "      <th>Year Built</th>\n",
              "      <th>First Story Area</th>\n",
              "      <th>Second Story Area</th>\n",
              "      <th>Total Living Area</th>\n",
              "      <th>Overall Condition</th>\n",
              "      <th>Building Style</th>\n",
              "      <th>Heat Type</th>\n",
              "      <th>Basement Type</th>\n",
              "      <th># of Stories</th>\n",
              "      <th># of Fireplaces</th>\n",
              "      <th># of Beds</th>\n",
              "      <th># of Baths</th>\n",
              "      <th># of Kitchens</th>\n",
              "      <th>Council District</th>\n",
              "      <th>Police District</th>\n",
              "      <th>Census Tract</th>\n",
              "      <th>Census Block Group</th>\n",
              "      <th>Census Block</th>\n",
              "      <th>Neighborhood</th>\n",
              "      <th>Latitude</th>\n",
              "      <th>Longitude</th>\n",
              "      <th>Location</th>\n",
              "    </tr>\n",
              "  </thead>\n",
              "  <tbody>\n",
              "    <tr>\n",
              "      <th>count</th>\n",
              "      <td>93862</td>\n",
              "      <td>93857.000000</td>\n",
              "      <td>93862</td>\n",
              "      <td>93862.000000</td>\n",
              "      <td>93862.000000</td>\n",
              "      <td>93862.000000</td>\n",
              "      <td>93862</td>\n",
              "      <td>93571.000000</td>\n",
              "      <td>93862</td>\n",
              "      <td>23825</td>\n",
              "      <td>0.0</td>\n",
              "      <td>4544</td>\n",
              "      <td>7168</td>\n",
              "      <td>93849</td>\n",
              "      <td>93854</td>\n",
              "      <td>93857.000000</td>\n",
              "      <td>93862</td>\n",
              "      <td>106</td>\n",
              "      <td>93857</td>\n",
              "      <td>93857</td>\n",
              "      <td>93818.000000</td>\n",
              "      <td>4.000000</td>\n",
              "      <td>93627</td>\n",
              "      <td>93627.0</td>\n",
              "      <td>93862</td>\n",
              "      <td>93862.000000</td>\n",
              "      <td>9.386200e+04</td>\n",
              "      <td>9.386200e+04</td>\n",
              "      <td>9.386200e+04</td>\n",
              "      <td>67827.000000</td>\n",
              "      <td>0.0</td>\n",
              "      <td>0.0</td>\n",
              "      <td>93862.000000</td>\n",
              "      <td>67827.000000</td>\n",
              "      <td>67827.000000</td>\n",
              "      <td>67756.000000</td>\n",
              "      <td>67683.000000</td>\n",
              "      <td>0.0</td>\n",
              "      <td>93862.000000</td>\n",
              "      <td>93862.000000</td>\n",
              "      <td>93862.000000</td>\n",
              "      <td>0.0</td>\n",
              "      <td>93103</td>\n",
              "      <td>93103</td>\n",
              "      <td>93103</td>\n",
              "      <td>93103</td>\n",
              "      <td>93103</td>\n",
              "      <td>93103</td>\n",
              "      <td>93103.000000</td>\n",
              "      <td>93103.000000</td>\n",
              "      <td>93103</td>\n",
              "    </tr>\n",
              "    <tr>\n",
              "      <th>unique</th>\n",
              "      <td>93862</td>\n",
              "      <td>NaN</td>\n",
              "      <td>93862</td>\n",
              "      <td>NaN</td>\n",
              "      <td>NaN</td>\n",
              "      <td>NaN</td>\n",
              "      <td>147</td>\n",
              "      <td>NaN</td>\n",
              "      <td>66600</td>\n",
              "      <td>15666</td>\n",
              "      <td>NaN</td>\n",
              "      <td>2546</td>\n",
              "      <td>5017</td>\n",
              "      <td>63196</td>\n",
              "      <td>1895</td>\n",
              "      <td>NaN</td>\n",
              "      <td>1453</td>\n",
              "      <td>99</td>\n",
              "      <td>1</td>\n",
              "      <td>1</td>\n",
              "      <td>NaN</td>\n",
              "      <td>NaN</td>\n",
              "      <td>5625</td>\n",
              "      <td>21272.0</td>\n",
              "      <td>7609</td>\n",
              "      <td>NaN</td>\n",
              "      <td>NaN</td>\n",
              "      <td>NaN</td>\n",
              "      <td>NaN</td>\n",
              "      <td>NaN</td>\n",
              "      <td>NaN</td>\n",
              "      <td>NaN</td>\n",
              "      <td>NaN</td>\n",
              "      <td>NaN</td>\n",
              "      <td>NaN</td>\n",
              "      <td>NaN</td>\n",
              "      <td>NaN</td>\n",
              "      <td>NaN</td>\n",
              "      <td>NaN</td>\n",
              "      <td>NaN</td>\n",
              "      <td>NaN</td>\n",
              "      <td>NaN</td>\n",
              "      <td>10</td>\n",
              "      <td>6</td>\n",
              "      <td>81</td>\n",
              "      <td>8</td>\n",
              "      <td>275</td>\n",
              "      <td>36</td>\n",
              "      <td>NaN</td>\n",
              "      <td>NaN</td>\n",
              "      <td>91697</td>\n",
              "    </tr>\n",
              "    <tr>\n",
              "      <th>top</th>\n",
              "      <td>1113100012001122A</td>\n",
              "      <td>NaN</td>\n",
              "      <td>111.31-12-1.122/A</td>\n",
              "      <td>NaN</td>\n",
              "      <td>NaN</td>\n",
              "      <td>NaN</td>\n",
              "      <td>ONE FAMILY DWELLING</td>\n",
              "      <td>NaN</td>\n",
              "      <td>CITY BUFFALO PERFECTING TITLE</td>\n",
              "      <td>TITLE</td>\n",
              "      <td>NaN</td>\n",
              "      <td>C/O DIVISION OF REAL ESTATE</td>\n",
              "      <td>LLC</td>\n",
              "      <td>65 NIAGARA SQ RM 901</td>\n",
              "      <td>BUFFALO, NY</td>\n",
              "      <td>NaN</td>\n",
              "      <td>DELAWARE</td>\n",
              "      <td>65 WHITNEY</td>\n",
              "      <td>BUFFALO</td>\n",
              "      <td>NY</td>\n",
              "      <td>NaN</td>\n",
              "      <td>NaN</td>\n",
              "      <td>11324</td>\n",
              "      <td>3856.0</td>\n",
              "      <td>09/09/9999</td>\n",
              "      <td>NaN</td>\n",
              "      <td>NaN</td>\n",
              "      <td>NaN</td>\n",
              "      <td>NaN</td>\n",
              "      <td>NaN</td>\n",
              "      <td>NaN</td>\n",
              "      <td>NaN</td>\n",
              "      <td>NaN</td>\n",
              "      <td>NaN</td>\n",
              "      <td>NaN</td>\n",
              "      <td>NaN</td>\n",
              "      <td>NaN</td>\n",
              "      <td>NaN</td>\n",
              "      <td>NaN</td>\n",
              "      <td>NaN</td>\n",
              "      <td>NaN</td>\n",
              "      <td>NaN</td>\n",
              "      <td>FILLMORE</td>\n",
              "      <td>District D</td>\n",
              "      <td>168</td>\n",
              "      <td>1</td>\n",
              "      <td>1001</td>\n",
              "      <td>Broadway Fillmore</td>\n",
              "      <td>NaN</td>\n",
              "      <td>NaN</td>\n",
              "      <td>(42.91363099203083, -78.87031816798164)</td>\n",
              "    </tr>\n",
              "    <tr>\n",
              "      <th>freq</th>\n",
              "      <td>1</td>\n",
              "      <td>NaN</td>\n",
              "      <td>1</td>\n",
              "      <td>NaN</td>\n",
              "      <td>NaN</td>\n",
              "      <td>NaN</td>\n",
              "      <td>37859</td>\n",
              "      <td>NaN</td>\n",
              "      <td>3199</td>\n",
              "      <td>2069</td>\n",
              "      <td>NaN</td>\n",
              "      <td>329</td>\n",
              "      <td>245</td>\n",
              "      <td>3717</td>\n",
              "      <td>75784</td>\n",
              "      <td>NaN</td>\n",
              "      <td>939</td>\n",
              "      <td>6</td>\n",
              "      <td>93857</td>\n",
              "      <td>93857</td>\n",
              "      <td>NaN</td>\n",
              "      <td>NaN</td>\n",
              "      <td>507</td>\n",
              "      <td>190.0</td>\n",
              "      <td>23304</td>\n",
              "      <td>NaN</td>\n",
              "      <td>NaN</td>\n",
              "      <td>NaN</td>\n",
              "      <td>NaN</td>\n",
              "      <td>NaN</td>\n",
              "      <td>NaN</td>\n",
              "      <td>NaN</td>\n",
              "      <td>NaN</td>\n",
              "      <td>NaN</td>\n",
              "      <td>NaN</td>\n",
              "      <td>NaN</td>\n",
              "      <td>NaN</td>\n",
              "      <td>NaN</td>\n",
              "      <td>NaN</td>\n",
              "      <td>NaN</td>\n",
              "      <td>NaN</td>\n",
              "      <td>NaN</td>\n",
              "      <td>15027</td>\n",
              "      <td>22346</td>\n",
              "      <td>2264</td>\n",
              "      <td>26889</td>\n",
              "      <td>3366</td>\n",
              "      <td>7862</td>\n",
              "      <td>NaN</td>\n",
              "      <td>NaN</td>\n",
              "      <td>447</td>\n",
              "    </tr>\n",
              "    <tr>\n",
              "      <th>mean</th>\n",
              "      <td>NaN</td>\n",
              "      <td>147008.330620</td>\n",
              "      <td>NaN</td>\n",
              "      <td>47.339433</td>\n",
              "      <td>119.618199</td>\n",
              "      <td>263.155548</td>\n",
              "      <td>NaN</td>\n",
              "      <td>262.991536</td>\n",
              "      <td>NaN</td>\n",
              "      <td>NaN</td>\n",
              "      <td>NaN</td>\n",
              "      <td>NaN</td>\n",
              "      <td>NaN</td>\n",
              "      <td>NaN</td>\n",
              "      <td>NaN</td>\n",
              "      <td>346.601958</td>\n",
              "      <td>NaN</td>\n",
              "      <td>NaN</td>\n",
              "      <td>NaN</td>\n",
              "      <td>NaN</td>\n",
              "      <td>14211.796628</td>\n",
              "      <td>1627.750000</td>\n",
              "      <td>NaN</td>\n",
              "      <td>NaN</td>\n",
              "      <td>NaN</td>\n",
              "      <td>1.802806</td>\n",
              "      <td>1.264465e+04</td>\n",
              "      <td>1.140735e+05</td>\n",
              "      <td>5.259509e+04</td>\n",
              "      <td>1919.151031</td>\n",
              "      <td>NaN</td>\n",
              "      <td>NaN</td>\n",
              "      <td>1341.359016</td>\n",
              "      <td>2.975511</td>\n",
              "      <td>7.654297</td>\n",
              "      <td>2.071846</td>\n",
              "      <td>3.604967</td>\n",
              "      <td>NaN</td>\n",
              "      <td>0.108414</td>\n",
              "      <td>2.950480</td>\n",
              "      <td>1.152722</td>\n",
              "      <td>NaN</td>\n",
              "      <td>NaN</td>\n",
              "      <td>NaN</td>\n",
              "      <td>NaN</td>\n",
              "      <td>NaN</td>\n",
              "      <td>NaN</td>\n",
              "      <td>NaN</td>\n",
              "      <td>42.908632</td>\n",
              "      <td>-78.844426</td>\n",
              "      <td>NaN</td>\n",
              "    </tr>\n",
              "    <tr>\n",
              "      <th>std</th>\n",
              "      <td>NaN</td>\n",
              "      <td>3.981637</td>\n",
              "      <td>NaN</td>\n",
              "      <td>336.930544</td>\n",
              "      <td>94.829635</td>\n",
              "      <td>98.655042</td>\n",
              "      <td>NaN</td>\n",
              "      <td>98.473096</td>\n",
              "      <td>NaN</td>\n",
              "      <td>NaN</td>\n",
              "      <td>NaN</td>\n",
              "      <td>NaN</td>\n",
              "      <td>NaN</td>\n",
              "      <td>NaN</td>\n",
              "      <td>NaN</td>\n",
              "      <td>1952.874162</td>\n",
              "      <td>NaN</td>\n",
              "      <td>NaN</td>\n",
              "      <td>NaN</td>\n",
              "      <td>NaN</td>\n",
              "      <td>5.033240</td>\n",
              "      <td>220.931928</td>\n",
              "      <td>NaN</td>\n",
              "      <td>NaN</td>\n",
              "      <td>NaN</td>\n",
              "      <td>2.222150</td>\n",
              "      <td>1.068279e+05</td>\n",
              "      <td>1.371201e+06</td>\n",
              "      <td>4.216895e+05</td>\n",
              "      <td>29.283161</td>\n",
              "      <td>NaN</td>\n",
              "      <td>NaN</td>\n",
              "      <td>1018.367034</td>\n",
              "      <td>0.363101</td>\n",
              "      <td>1.832832</td>\n",
              "      <td>0.418526</td>\n",
              "      <td>0.808858</td>\n",
              "      <td>NaN</td>\n",
              "      <td>0.393434</td>\n",
              "      <td>2.162006</td>\n",
              "      <td>0.881370</td>\n",
              "      <td>NaN</td>\n",
              "      <td>NaN</td>\n",
              "      <td>NaN</td>\n",
              "      <td>NaN</td>\n",
              "      <td>NaN</td>\n",
              "      <td>NaN</td>\n",
              "      <td>NaN</td>\n",
              "      <td>0.032226</td>\n",
              "      <td>0.029962</td>\n",
              "      <td>NaN</td>\n",
              "    </tr>\n",
              "    <tr>\n",
              "      <th>min</th>\n",
              "      <td>NaN</td>\n",
              "      <td>147001.000000</td>\n",
              "      <td>NaN</td>\n",
              "      <td>0.000000</td>\n",
              "      <td>0.000000</td>\n",
              "      <td>210.000000</td>\n",
              "      <td>NaN</td>\n",
              "      <td>210.000000</td>\n",
              "      <td>NaN</td>\n",
              "      <td>NaN</td>\n",
              "      <td>NaN</td>\n",
              "      <td>NaN</td>\n",
              "      <td>NaN</td>\n",
              "      <td>NaN</td>\n",
              "      <td>NaN</td>\n",
              "      <td>0.000000</td>\n",
              "      <td>NaN</td>\n",
              "      <td>NaN</td>\n",
              "      <td>NaN</td>\n",
              "      <td>NaN</td>\n",
              "      <td>14200.000000</td>\n",
              "      <td>1508.000000</td>\n",
              "      <td>NaN</td>\n",
              "      <td>NaN</td>\n",
              "      <td>NaN</td>\n",
              "      <td>1.000000</td>\n",
              "      <td>0.000000e+00</td>\n",
              "      <td>1.000000e+01</td>\n",
              "      <td>0.000000e+00</td>\n",
              "      <td>1.000000</td>\n",
              "      <td>NaN</td>\n",
              "      <td>NaN</td>\n",
              "      <td>0.000000</td>\n",
              "      <td>1.000000</td>\n",
              "      <td>1.000000</td>\n",
              "      <td>1.000000</td>\n",
              "      <td>1.000000</td>\n",
              "      <td>NaN</td>\n",
              "      <td>0.000000</td>\n",
              "      <td>0.000000</td>\n",
              "      <td>0.000000</td>\n",
              "      <td>NaN</td>\n",
              "      <td>NaN</td>\n",
              "      <td>NaN</td>\n",
              "      <td>NaN</td>\n",
              "      <td>NaN</td>\n",
              "      <td>NaN</td>\n",
              "      <td>NaN</td>\n",
              "      <td>42.828198</td>\n",
              "      <td>-78.909804</td>\n",
              "      <td>NaN</td>\n",
              "    </tr>\n",
              "    <tr>\n",
              "      <th>25%</th>\n",
              "      <td>NaN</td>\n",
              "      <td>147005.000000</td>\n",
              "      <td>NaN</td>\n",
              "      <td>30.000000</td>\n",
              "      <td>102.000000</td>\n",
              "      <td>210.000000</td>\n",
              "      <td>NaN</td>\n",
              "      <td>210.000000</td>\n",
              "      <td>NaN</td>\n",
              "      <td>NaN</td>\n",
              "      <td>NaN</td>\n",
              "      <td>NaN</td>\n",
              "      <td>NaN</td>\n",
              "      <td>NaN</td>\n",
              "      <td>NaN</td>\n",
              "      <td>64.000000</td>\n",
              "      <td>NaN</td>\n",
              "      <td>NaN</td>\n",
              "      <td>NaN</td>\n",
              "      <td>NaN</td>\n",
              "      <td>14208.000000</td>\n",
              "      <td>1518.500000</td>\n",
              "      <td>NaN</td>\n",
              "      <td>NaN</td>\n",
              "      <td>NaN</td>\n",
              "      <td>1.000000</td>\n",
              "      <td>2.500000e+03</td>\n",
              "      <td>1.940000e+04</td>\n",
              "      <td>1.000000e+00</td>\n",
              "      <td>1900.000000</td>\n",
              "      <td>NaN</td>\n",
              "      <td>NaN</td>\n",
              "      <td>0.000000</td>\n",
              "      <td>3.000000</td>\n",
              "      <td>8.000000</td>\n",
              "      <td>2.000000</td>\n",
              "      <td>4.000000</td>\n",
              "      <td>NaN</td>\n",
              "      <td>0.000000</td>\n",
              "      <td>0.000000</td>\n",
              "      <td>0.000000</td>\n",
              "      <td>NaN</td>\n",
              "      <td>NaN</td>\n",
              "      <td>NaN</td>\n",
              "      <td>NaN</td>\n",
              "      <td>NaN</td>\n",
              "      <td>NaN</td>\n",
              "      <td>NaN</td>\n",
              "      <td>42.890221</td>\n",
              "      <td>-78.868215</td>\n",
              "      <td>NaN</td>\n",
              "    </tr>\n",
              "    <tr>\n",
              "      <th>50%</th>\n",
              "      <td>NaN</td>\n",
              "      <td>147009.000000</td>\n",
              "      <td>NaN</td>\n",
              "      <td>33.000000</td>\n",
              "      <td>115.000000</td>\n",
              "      <td>220.000000</td>\n",
              "      <td>NaN</td>\n",
              "      <td>220.000000</td>\n",
              "      <td>NaN</td>\n",
              "      <td>NaN</td>\n",
              "      <td>NaN</td>\n",
              "      <td>NaN</td>\n",
              "      <td>NaN</td>\n",
              "      <td>NaN</td>\n",
              "      <td>NaN</td>\n",
              "      <td>153.000000</td>\n",
              "      <td>NaN</td>\n",
              "      <td>NaN</td>\n",
              "      <td>NaN</td>\n",
              "      <td>NaN</td>\n",
              "      <td>14212.000000</td>\n",
              "      <td>1522.000000</td>\n",
              "      <td>NaN</td>\n",
              "      <td>NaN</td>\n",
              "      <td>NaN</td>\n",
              "      <td>1.000000</td>\n",
              "      <td>4.400000e+03</td>\n",
              "      <td>4.300000e+04</td>\n",
              "      <td>2.551500e+03</td>\n",
              "      <td>1920.000000</td>\n",
              "      <td>NaN</td>\n",
              "      <td>NaN</td>\n",
              "      <td>1410.000000</td>\n",
              "      <td>3.000000</td>\n",
              "      <td>8.000000</td>\n",
              "      <td>2.000000</td>\n",
              "      <td>4.000000</td>\n",
              "      <td>NaN</td>\n",
              "      <td>0.000000</td>\n",
              "      <td>3.000000</td>\n",
              "      <td>1.000000</td>\n",
              "      <td>NaN</td>\n",
              "      <td>NaN</td>\n",
              "      <td>NaN</td>\n",
              "      <td>NaN</td>\n",
              "      <td>NaN</td>\n",
              "      <td>NaN</td>\n",
              "      <td>NaN</td>\n",
              "      <td>42.911926</td>\n",
              "      <td>-78.840769</td>\n",
              "      <td>NaN</td>\n",
              "    </tr>\n",
              "    <tr>\n",
              "      <th>75%</th>\n",
              "      <td>NaN</td>\n",
              "      <td>147011.000000</td>\n",
              "      <td>NaN</td>\n",
              "      <td>40.000000</td>\n",
              "      <td>132.000000</td>\n",
              "      <td>311.000000</td>\n",
              "      <td>NaN</td>\n",
              "      <td>311.000000</td>\n",
              "      <td>NaN</td>\n",
              "      <td>NaN</td>\n",
              "      <td>NaN</td>\n",
              "      <td>NaN</td>\n",
              "      <td>NaN</td>\n",
              "      <td>NaN</td>\n",
              "      <td>NaN</td>\n",
              "      <td>364.000000</td>\n",
              "      <td>NaN</td>\n",
              "      <td>NaN</td>\n",
              "      <td>NaN</td>\n",
              "      <td>NaN</td>\n",
              "      <td>14215.000000</td>\n",
              "      <td>1631.250000</td>\n",
              "      <td>NaN</td>\n",
              "      <td>NaN</td>\n",
              "      <td>NaN</td>\n",
              "      <td>1.000000</td>\n",
              "      <td>7.200000e+03</td>\n",
              "      <td>7.190000e+04</td>\n",
              "      <td>5.100000e+04</td>\n",
              "      <td>1927.000000</td>\n",
              "      <td>NaN</td>\n",
              "      <td>NaN</td>\n",
              "      <td>2078.000000</td>\n",
              "      <td>3.000000</td>\n",
              "      <td>8.000000</td>\n",
              "      <td>2.000000</td>\n",
              "      <td>4.000000</td>\n",
              "      <td>NaN</td>\n",
              "      <td>0.000000</td>\n",
              "      <td>4.000000</td>\n",
              "      <td>2.000000</td>\n",
              "      <td>NaN</td>\n",
              "      <td>NaN</td>\n",
              "      <td>NaN</td>\n",
              "      <td>NaN</td>\n",
              "      <td>NaN</td>\n",
              "      <td>NaN</td>\n",
              "      <td>NaN</td>\n",
              "      <td>42.935184</td>\n",
              "      <td>-78.818480</td>\n",
              "      <td>NaN</td>\n",
              "    </tr>\n",
              "    <tr>\n",
              "      <th>max</th>\n",
              "      <td>NaN</td>\n",
              "      <td>147089.000000</td>\n",
              "      <td>NaN</td>\n",
              "      <td>97147.000000</td>\n",
              "      <td>15900.000000</td>\n",
              "      <td>971.000000</td>\n",
              "      <td>NaN</td>\n",
              "      <td>971.000000</td>\n",
              "      <td>NaN</td>\n",
              "      <td>NaN</td>\n",
              "      <td>NaN</td>\n",
              "      <td>NaN</td>\n",
              "      <td>NaN</td>\n",
              "      <td>NaN</td>\n",
              "      <td>NaN</td>\n",
              "      <td>99999.000000</td>\n",
              "      <td>NaN</td>\n",
              "      <td>NaN</td>\n",
              "      <td>NaN</td>\n",
              "      <td>NaN</td>\n",
              "      <td>14225.000000</td>\n",
              "      <td>1959.000000</td>\n",
              "      <td>NaN</td>\n",
              "      <td>NaN</td>\n",
              "      <td>NaN</td>\n",
              "      <td>8.000000</td>\n",
              "      <td>1.154780e+07</td>\n",
              "      <td>1.895094e+08</td>\n",
              "      <td>8.900000e+07</td>\n",
              "      <td>2018.000000</td>\n",
              "      <td>NaN</td>\n",
              "      <td>NaN</td>\n",
              "      <td>13004.000000</td>\n",
              "      <td>5.000000</td>\n",
              "      <td>17.000000</td>\n",
              "      <td>4.000000</td>\n",
              "      <td>4.000000</td>\n",
              "      <td>NaN</td>\n",
              "      <td>9.000000</td>\n",
              "      <td>12.000000</td>\n",
              "      <td>8.000000</td>\n",
              "      <td>NaN</td>\n",
              "      <td>NaN</td>\n",
              "      <td>NaN</td>\n",
              "      <td>NaN</td>\n",
              "      <td>NaN</td>\n",
              "      <td>NaN</td>\n",
              "      <td>NaN</td>\n",
              "      <td>42.965959</td>\n",
              "      <td>-78.799051</td>\n",
              "      <td>NaN</td>\n",
              "    </tr>\n",
              "  </tbody>\n",
              "</table>\n",
              "</div>\n",
              "      <button class=\"colab-df-convert\" onclick=\"convertToInteractive('df-d3a1bacc-7c6f-440b-8d6f-98328f9a91c0')\"\n",
              "              title=\"Convert this dataframe to an interactive table.\"\n",
              "              style=\"display:none;\">\n",
              "        \n",
              "  <svg xmlns=\"http://www.w3.org/2000/svg\" height=\"24px\"viewBox=\"0 0 24 24\"\n",
              "       width=\"24px\">\n",
              "    <path d=\"M0 0h24v24H0V0z\" fill=\"none\"/>\n",
              "    <path d=\"M18.56 5.44l.94 2.06.94-2.06 2.06-.94-2.06-.94-.94-2.06-.94 2.06-2.06.94zm-11 1L8.5 8.5l.94-2.06 2.06-.94-2.06-.94L8.5 2.5l-.94 2.06-2.06.94zm10 10l.94 2.06.94-2.06 2.06-.94-2.06-.94-.94-2.06-.94 2.06-2.06.94z\"/><path d=\"M17.41 7.96l-1.37-1.37c-.4-.4-.92-.59-1.43-.59-.52 0-1.04.2-1.43.59L10.3 9.45l-7.72 7.72c-.78.78-.78 2.05 0 2.83L4 21.41c.39.39.9.59 1.41.59.51 0 1.02-.2 1.41-.59l7.78-7.78 2.81-2.81c.8-.78.8-2.07 0-2.86zM5.41 20L4 18.59l7.72-7.72 1.47 1.35L5.41 20z\"/>\n",
              "  </svg>\n",
              "      </button>\n",
              "      \n",
              "  <style>\n",
              "    .colab-df-container {\n",
              "      display:flex;\n",
              "      flex-wrap:wrap;\n",
              "      gap: 12px;\n",
              "    }\n",
              "\n",
              "    .colab-df-convert {\n",
              "      background-color: #E8F0FE;\n",
              "      border: none;\n",
              "      border-radius: 50%;\n",
              "      cursor: pointer;\n",
              "      display: none;\n",
              "      fill: #1967D2;\n",
              "      height: 32px;\n",
              "      padding: 0 0 0 0;\n",
              "      width: 32px;\n",
              "    }\n",
              "\n",
              "    .colab-df-convert:hover {\n",
              "      background-color: #E2EBFA;\n",
              "      box-shadow: 0px 1px 2px rgba(60, 64, 67, 0.3), 0px 1px 3px 1px rgba(60, 64, 67, 0.15);\n",
              "      fill: #174EA6;\n",
              "    }\n",
              "\n",
              "    [theme=dark] .colab-df-convert {\n",
              "      background-color: #3B4455;\n",
              "      fill: #D2E3FC;\n",
              "    }\n",
              "\n",
              "    [theme=dark] .colab-df-convert:hover {\n",
              "      background-color: #434B5C;\n",
              "      box-shadow: 0px 1px 3px 1px rgba(0, 0, 0, 0.15);\n",
              "      filter: drop-shadow(0px 1px 2px rgba(0, 0, 0, 0.3));\n",
              "      fill: #FFFFFF;\n",
              "    }\n",
              "  </style>\n",
              "\n",
              "      <script>\n",
              "        const buttonEl =\n",
              "          document.querySelector('#df-d3a1bacc-7c6f-440b-8d6f-98328f9a91c0 button.colab-df-convert');\n",
              "        buttonEl.style.display =\n",
              "          google.colab.kernel.accessAllowed ? 'block' : 'none';\n",
              "\n",
              "        async function convertToInteractive(key) {\n",
              "          const element = document.querySelector('#df-d3a1bacc-7c6f-440b-8d6f-98328f9a91c0');\n",
              "          const dataTable =\n",
              "            await google.colab.kernel.invokeFunction('convertToInteractive',\n",
              "                                                     [key], {});\n",
              "          if (!dataTable) return;\n",
              "\n",
              "          const docLinkHtml = 'Like what you see? Visit the ' +\n",
              "            '<a target=\"_blank\" href=https://colab.research.google.com/notebooks/data_table.ipynb>data table notebook</a>'\n",
              "            + ' to learn more about interactive tables.';\n",
              "          element.innerHTML = '';\n",
              "          dataTable['output_type'] = 'display_data';\n",
              "          await google.colab.output.renderOutput(dataTable, element);\n",
              "          const docLink = document.createElement('div');\n",
              "          docLink.innerHTML = docLinkHtml;\n",
              "          element.appendChild(docLink);\n",
              "        }\n",
              "      </script>\n",
              "    </div>\n",
              "  </div>\n",
              "  "
            ]
          },
          "metadata": {},
          "execution_count": 9
        }
      ]
    },
    {
      "cell_type": "code",
      "source": [
        "df.head(5)"
      ],
      "metadata": {
        "colab": {
          "base_uri": "https://localhost:8080/",
          "height": 478
        },
        "id": "heLRzNvEV1wX",
        "outputId": "7ed5b33a-6e16-4f94-9cbb-403b3117fc16"
      },
      "execution_count": 10,
      "outputs": [
        {
          "output_type": "execute_result",
          "data": {
            "text/plain": [
              "                 SBL  Tax District          Print Key   Front    Depth  \\\n",
              "0  1113100012001122A      147003.0  111.31-12-1.122/A    0.00     0.00   \n",
              "1   1011500001001111      147012.0     101.15-1-1.111    0.00     0.00   \n",
              "2   0785000008001000      147009.0          78.50-8-1   65.00    82.57   \n",
              "3   1007300008009111      147003.0     100.73-8-9.111   50.00   200.00   \n",
              "4   1321500002004000      147013.0         132.15-2-4  521.34  1184.60   \n",
              "\n",
              "   Property Class Property Class Description  Previous Property Class  \\\n",
              "0             873           GAS MEAS STATION                    873.0   \n",
              "1             330     COMMERCIAL VACANT LAND                    330.0   \n",
              "2             311    RESIDENTIAL VACANT LAND                      NaN   \n",
              "3             311    RESIDENTIAL VACANT LAND                    311.0   \n",
              "4             340     INDUSTRIAL VACANT LAND                    340.0   \n",
              "\n",
              "                           Owner1 Owner2  Previous Owner Mail1 Mail2  \\\n",
              "0          NATIONAL FUEL GAS DIST   CORP             NaN   NaN   NaN   \n",
              "1  AROUND THE CLOCK CAR WASH,INC.    NaN             NaN   NaN   NaN   \n",
              "2   THE MARRANO/MARC-EQUITY CORP.    NaN             NaN   NaN   NaN   \n",
              "3              MARIAH LORETTA LLC    NaN             NaN   NaN   NaN   \n",
              "4  BUFFALO URBAN DEVELOPMENT CORP    NaN             NaN   NaN   NaN   \n",
              "\n",
              "                  Mail3              Mail4  House Number          Street  \\\n",
              "0          6363 MAIN ST  WILLIAMSVILLE, NY         725.0      WASHINGTON   \n",
              "1         6547 EMILY LN       LOCKPORT, NY         119.0             WEX   \n",
              "2       2730 TRANSIT RD    WEST SENECA, NY         142.0  RACHEL VINCENT   \n",
              "3  100 S WOODLAND RIDGE           ELMA, NY         289.0          LOCUST   \n",
              "4            275 OAK ST        BUFFALO, NY         126.0    LABORERS WAY   \n",
              "\n",
              "  Address     City State  Zipcode  Zipcode Extension Deed Book Deed Page  \\\n",
              "0     NaN  BUFFALO    NY  14203.0                NaN       NaN       NaN   \n",
              "1     NaN  BUFFALO    NY  14211.0                NaN     11144    9356.0   \n",
              "2     NaN  BUFFALO    NY  14216.0                NaN     11331    1637.0   \n",
              "3     NaN  BUFFALO    NY  14204.0                NaN     11309     505.0   \n",
              "4     NaN  BUFFALO    NY  14203.0                NaN     11125    6721.0   \n",
              "\n",
              "    Deed Date  Roll  Land Value  Total Value  Sale Price  Year Built  \\\n",
              "0  09/09/9999     6           0        13006           0         NaN   \n",
              "1  09/09/9999     1        2900         2900           0         NaN   \n",
              "2  09/09/9999     1        1700         1700           0         NaN   \n",
              "3  09/09/9999     1        3800         3800           0         NaN   \n",
              "4  09/09/9999     8      337000       337000           0         NaN   \n",
              "\n",
              "   First Story Area  Second Story Area  Total Living Area  Overall Condition  \\\n",
              "0               NaN                NaN                  0                NaN   \n",
              "1               NaN                NaN                  0                NaN   \n",
              "2               NaN                NaN                  0                NaN   \n",
              "3               NaN                NaN                  0                NaN   \n",
              "4               NaN                NaN                  0                NaN   \n",
              "\n",
              "   Building Style  Heat Type  Basement Type  # of Stories  # of Fireplaces  \\\n",
              "0             NaN        NaN            NaN           NaN                0   \n",
              "1             NaN        NaN            NaN           NaN                0   \n",
              "2             NaN        NaN            NaN           NaN                0   \n",
              "3             NaN        NaN            NaN           NaN                0   \n",
              "4             NaN        NaN            NaN           NaN                0   \n",
              "\n",
              "   # of Beds  # of Baths  # of Kitchens Council District Police District  \\\n",
              "0          0         0.0            NaN              NaN             NaN   \n",
              "1          0         0.0            NaN              NaN             NaN   \n",
              "2          0         0.0            NaN              NaN             NaN   \n",
              "3          0         0.0            NaN              NaN             NaN   \n",
              "4          0         0.0            NaN              NaN             NaN   \n",
              "\n",
              "  Census Tract Census Block Group Census Block Neighborhood  Latitude  \\\n",
              "0          NaN                NaN          NaN          NaN       NaN   \n",
              "1          NaN                NaN          NaN          NaN       NaN   \n",
              "2          NaN                NaN          NaN          NaN       NaN   \n",
              "3          NaN                NaN          NaN          NaN       NaN   \n",
              "4          NaN                NaN          NaN          NaN       NaN   \n",
              "\n",
              "   Longitude Location  \n",
              "0        NaN      NaN  \n",
              "1        NaN      NaN  \n",
              "2        NaN      NaN  \n",
              "3        NaN      NaN  \n",
              "4        NaN      NaN  "
            ],
            "text/html": [
              "\n",
              "  <div id=\"df-2103fad7-a19b-42a0-8986-69ef51122e93\">\n",
              "    <div class=\"colab-df-container\">\n",
              "      <div>\n",
              "<style scoped>\n",
              "    .dataframe tbody tr th:only-of-type {\n",
              "        vertical-align: middle;\n",
              "    }\n",
              "\n",
              "    .dataframe tbody tr th {\n",
              "        vertical-align: top;\n",
              "    }\n",
              "\n",
              "    .dataframe thead th {\n",
              "        text-align: right;\n",
              "    }\n",
              "</style>\n",
              "<table border=\"1\" class=\"dataframe\">\n",
              "  <thead>\n",
              "    <tr style=\"text-align: right;\">\n",
              "      <th></th>\n",
              "      <th>SBL</th>\n",
              "      <th>Tax District</th>\n",
              "      <th>Print Key</th>\n",
              "      <th>Front</th>\n",
              "      <th>Depth</th>\n",
              "      <th>Property Class</th>\n",
              "      <th>Property Class Description</th>\n",
              "      <th>Previous Property Class</th>\n",
              "      <th>Owner1</th>\n",
              "      <th>Owner2</th>\n",
              "      <th>Previous Owner</th>\n",
              "      <th>Mail1</th>\n",
              "      <th>Mail2</th>\n",
              "      <th>Mail3</th>\n",
              "      <th>Mail4</th>\n",
              "      <th>House Number</th>\n",
              "      <th>Street</th>\n",
              "      <th>Address</th>\n",
              "      <th>City</th>\n",
              "      <th>State</th>\n",
              "      <th>Zipcode</th>\n",
              "      <th>Zipcode Extension</th>\n",
              "      <th>Deed Book</th>\n",
              "      <th>Deed Page</th>\n",
              "      <th>Deed Date</th>\n",
              "      <th>Roll</th>\n",
              "      <th>Land Value</th>\n",
              "      <th>Total Value</th>\n",
              "      <th>Sale Price</th>\n",
              "      <th>Year Built</th>\n",
              "      <th>First Story Area</th>\n",
              "      <th>Second Story Area</th>\n",
              "      <th>Total Living Area</th>\n",
              "      <th>Overall Condition</th>\n",
              "      <th>Building Style</th>\n",
              "      <th>Heat Type</th>\n",
              "      <th>Basement Type</th>\n",
              "      <th># of Stories</th>\n",
              "      <th># of Fireplaces</th>\n",
              "      <th># of Beds</th>\n",
              "      <th># of Baths</th>\n",
              "      <th># of Kitchens</th>\n",
              "      <th>Council District</th>\n",
              "      <th>Police District</th>\n",
              "      <th>Census Tract</th>\n",
              "      <th>Census Block Group</th>\n",
              "      <th>Census Block</th>\n",
              "      <th>Neighborhood</th>\n",
              "      <th>Latitude</th>\n",
              "      <th>Longitude</th>\n",
              "      <th>Location</th>\n",
              "    </tr>\n",
              "  </thead>\n",
              "  <tbody>\n",
              "    <tr>\n",
              "      <th>0</th>\n",
              "      <td>1113100012001122A</td>\n",
              "      <td>147003.0</td>\n",
              "      <td>111.31-12-1.122/A</td>\n",
              "      <td>0.00</td>\n",
              "      <td>0.00</td>\n",
              "      <td>873</td>\n",
              "      <td>GAS MEAS STATION</td>\n",
              "      <td>873.0</td>\n",
              "      <td>NATIONAL FUEL GAS DIST</td>\n",
              "      <td>CORP</td>\n",
              "      <td>NaN</td>\n",
              "      <td>NaN</td>\n",
              "      <td>NaN</td>\n",
              "      <td>6363 MAIN ST</td>\n",
              "      <td>WILLIAMSVILLE, NY</td>\n",
              "      <td>725.0</td>\n",
              "      <td>WASHINGTON</td>\n",
              "      <td>NaN</td>\n",
              "      <td>BUFFALO</td>\n",
              "      <td>NY</td>\n",
              "      <td>14203.0</td>\n",
              "      <td>NaN</td>\n",
              "      <td>NaN</td>\n",
              "      <td>NaN</td>\n",
              "      <td>09/09/9999</td>\n",
              "      <td>6</td>\n",
              "      <td>0</td>\n",
              "      <td>13006</td>\n",
              "      <td>0</td>\n",
              "      <td>NaN</td>\n",
              "      <td>NaN</td>\n",
              "      <td>NaN</td>\n",
              "      <td>0</td>\n",
              "      <td>NaN</td>\n",
              "      <td>NaN</td>\n",
              "      <td>NaN</td>\n",
              "      <td>NaN</td>\n",
              "      <td>NaN</td>\n",
              "      <td>0</td>\n",
              "      <td>0</td>\n",
              "      <td>0.0</td>\n",
              "      <td>NaN</td>\n",
              "      <td>NaN</td>\n",
              "      <td>NaN</td>\n",
              "      <td>NaN</td>\n",
              "      <td>NaN</td>\n",
              "      <td>NaN</td>\n",
              "      <td>NaN</td>\n",
              "      <td>NaN</td>\n",
              "      <td>NaN</td>\n",
              "      <td>NaN</td>\n",
              "    </tr>\n",
              "    <tr>\n",
              "      <th>1</th>\n",
              "      <td>1011500001001111</td>\n",
              "      <td>147012.0</td>\n",
              "      <td>101.15-1-1.111</td>\n",
              "      <td>0.00</td>\n",
              "      <td>0.00</td>\n",
              "      <td>330</td>\n",
              "      <td>COMMERCIAL VACANT LAND</td>\n",
              "      <td>330.0</td>\n",
              "      <td>AROUND THE CLOCK CAR WASH,INC.</td>\n",
              "      <td>NaN</td>\n",
              "      <td>NaN</td>\n",
              "      <td>NaN</td>\n",
              "      <td>NaN</td>\n",
              "      <td>6547 EMILY LN</td>\n",
              "      <td>LOCKPORT, NY</td>\n",
              "      <td>119.0</td>\n",
              "      <td>WEX</td>\n",
              "      <td>NaN</td>\n",
              "      <td>BUFFALO</td>\n",
              "      <td>NY</td>\n",
              "      <td>14211.0</td>\n",
              "      <td>NaN</td>\n",
              "      <td>11144</td>\n",
              "      <td>9356.0</td>\n",
              "      <td>09/09/9999</td>\n",
              "      <td>1</td>\n",
              "      <td>2900</td>\n",
              "      <td>2900</td>\n",
              "      <td>0</td>\n",
              "      <td>NaN</td>\n",
              "      <td>NaN</td>\n",
              "      <td>NaN</td>\n",
              "      <td>0</td>\n",
              "      <td>NaN</td>\n",
              "      <td>NaN</td>\n",
              "      <td>NaN</td>\n",
              "      <td>NaN</td>\n",
              "      <td>NaN</td>\n",
              "      <td>0</td>\n",
              "      <td>0</td>\n",
              "      <td>0.0</td>\n",
              "      <td>NaN</td>\n",
              "      <td>NaN</td>\n",
              "      <td>NaN</td>\n",
              "      <td>NaN</td>\n",
              "      <td>NaN</td>\n",
              "      <td>NaN</td>\n",
              "      <td>NaN</td>\n",
              "      <td>NaN</td>\n",
              "      <td>NaN</td>\n",
              "      <td>NaN</td>\n",
              "    </tr>\n",
              "    <tr>\n",
              "      <th>2</th>\n",
              "      <td>0785000008001000</td>\n",
              "      <td>147009.0</td>\n",
              "      <td>78.50-8-1</td>\n",
              "      <td>65.00</td>\n",
              "      <td>82.57</td>\n",
              "      <td>311</td>\n",
              "      <td>RESIDENTIAL VACANT LAND</td>\n",
              "      <td>NaN</td>\n",
              "      <td>THE MARRANO/MARC-EQUITY CORP.</td>\n",
              "      <td>NaN</td>\n",
              "      <td>NaN</td>\n",
              "      <td>NaN</td>\n",
              "      <td>NaN</td>\n",
              "      <td>2730 TRANSIT RD</td>\n",
              "      <td>WEST SENECA, NY</td>\n",
              "      <td>142.0</td>\n",
              "      <td>RACHEL VINCENT</td>\n",
              "      <td>NaN</td>\n",
              "      <td>BUFFALO</td>\n",
              "      <td>NY</td>\n",
              "      <td>14216.0</td>\n",
              "      <td>NaN</td>\n",
              "      <td>11331</td>\n",
              "      <td>1637.0</td>\n",
              "      <td>09/09/9999</td>\n",
              "      <td>1</td>\n",
              "      <td>1700</td>\n",
              "      <td>1700</td>\n",
              "      <td>0</td>\n",
              "      <td>NaN</td>\n",
              "      <td>NaN</td>\n",
              "      <td>NaN</td>\n",
              "      <td>0</td>\n",
              "      <td>NaN</td>\n",
              "      <td>NaN</td>\n",
              "      <td>NaN</td>\n",
              "      <td>NaN</td>\n",
              "      <td>NaN</td>\n",
              "      <td>0</td>\n",
              "      <td>0</td>\n",
              "      <td>0.0</td>\n",
              "      <td>NaN</td>\n",
              "      <td>NaN</td>\n",
              "      <td>NaN</td>\n",
              "      <td>NaN</td>\n",
              "      <td>NaN</td>\n",
              "      <td>NaN</td>\n",
              "      <td>NaN</td>\n",
              "      <td>NaN</td>\n",
              "      <td>NaN</td>\n",
              "      <td>NaN</td>\n",
              "    </tr>\n",
              "    <tr>\n",
              "      <th>3</th>\n",
              "      <td>1007300008009111</td>\n",
              "      <td>147003.0</td>\n",
              "      <td>100.73-8-9.111</td>\n",
              "      <td>50.00</td>\n",
              "      <td>200.00</td>\n",
              "      <td>311</td>\n",
              "      <td>RESIDENTIAL VACANT LAND</td>\n",
              "      <td>311.0</td>\n",
              "      <td>MARIAH LORETTA LLC</td>\n",
              "      <td>NaN</td>\n",
              "      <td>NaN</td>\n",
              "      <td>NaN</td>\n",
              "      <td>NaN</td>\n",
              "      <td>100 S WOODLAND RIDGE</td>\n",
              "      <td>ELMA, NY</td>\n",
              "      <td>289.0</td>\n",
              "      <td>LOCUST</td>\n",
              "      <td>NaN</td>\n",
              "      <td>BUFFALO</td>\n",
              "      <td>NY</td>\n",
              "      <td>14204.0</td>\n",
              "      <td>NaN</td>\n",
              "      <td>11309</td>\n",
              "      <td>505.0</td>\n",
              "      <td>09/09/9999</td>\n",
              "      <td>1</td>\n",
              "      <td>3800</td>\n",
              "      <td>3800</td>\n",
              "      <td>0</td>\n",
              "      <td>NaN</td>\n",
              "      <td>NaN</td>\n",
              "      <td>NaN</td>\n",
              "      <td>0</td>\n",
              "      <td>NaN</td>\n",
              "      <td>NaN</td>\n",
              "      <td>NaN</td>\n",
              "      <td>NaN</td>\n",
              "      <td>NaN</td>\n",
              "      <td>0</td>\n",
              "      <td>0</td>\n",
              "      <td>0.0</td>\n",
              "      <td>NaN</td>\n",
              "      <td>NaN</td>\n",
              "      <td>NaN</td>\n",
              "      <td>NaN</td>\n",
              "      <td>NaN</td>\n",
              "      <td>NaN</td>\n",
              "      <td>NaN</td>\n",
              "      <td>NaN</td>\n",
              "      <td>NaN</td>\n",
              "      <td>NaN</td>\n",
              "    </tr>\n",
              "    <tr>\n",
              "      <th>4</th>\n",
              "      <td>1321500002004000</td>\n",
              "      <td>147013.0</td>\n",
              "      <td>132.15-2-4</td>\n",
              "      <td>521.34</td>\n",
              "      <td>1184.60</td>\n",
              "      <td>340</td>\n",
              "      <td>INDUSTRIAL VACANT LAND</td>\n",
              "      <td>340.0</td>\n",
              "      <td>BUFFALO URBAN DEVELOPMENT CORP</td>\n",
              "      <td>NaN</td>\n",
              "      <td>NaN</td>\n",
              "      <td>NaN</td>\n",
              "      <td>NaN</td>\n",
              "      <td>275 OAK ST</td>\n",
              "      <td>BUFFALO, NY</td>\n",
              "      <td>126.0</td>\n",
              "      <td>LABORERS WAY</td>\n",
              "      <td>NaN</td>\n",
              "      <td>BUFFALO</td>\n",
              "      <td>NY</td>\n",
              "      <td>14203.0</td>\n",
              "      <td>NaN</td>\n",
              "      <td>11125</td>\n",
              "      <td>6721.0</td>\n",
              "      <td>09/09/9999</td>\n",
              "      <td>8</td>\n",
              "      <td>337000</td>\n",
              "      <td>337000</td>\n",
              "      <td>0</td>\n",
              "      <td>NaN</td>\n",
              "      <td>NaN</td>\n",
              "      <td>NaN</td>\n",
              "      <td>0</td>\n",
              "      <td>NaN</td>\n",
              "      <td>NaN</td>\n",
              "      <td>NaN</td>\n",
              "      <td>NaN</td>\n",
              "      <td>NaN</td>\n",
              "      <td>0</td>\n",
              "      <td>0</td>\n",
              "      <td>0.0</td>\n",
              "      <td>NaN</td>\n",
              "      <td>NaN</td>\n",
              "      <td>NaN</td>\n",
              "      <td>NaN</td>\n",
              "      <td>NaN</td>\n",
              "      <td>NaN</td>\n",
              "      <td>NaN</td>\n",
              "      <td>NaN</td>\n",
              "      <td>NaN</td>\n",
              "      <td>NaN</td>\n",
              "    </tr>\n",
              "  </tbody>\n",
              "</table>\n",
              "</div>\n",
              "      <button class=\"colab-df-convert\" onclick=\"convertToInteractive('df-2103fad7-a19b-42a0-8986-69ef51122e93')\"\n",
              "              title=\"Convert this dataframe to an interactive table.\"\n",
              "              style=\"display:none;\">\n",
              "        \n",
              "  <svg xmlns=\"http://www.w3.org/2000/svg\" height=\"24px\"viewBox=\"0 0 24 24\"\n",
              "       width=\"24px\">\n",
              "    <path d=\"M0 0h24v24H0V0z\" fill=\"none\"/>\n",
              "    <path d=\"M18.56 5.44l.94 2.06.94-2.06 2.06-.94-2.06-.94-.94-2.06-.94 2.06-2.06.94zm-11 1L8.5 8.5l.94-2.06 2.06-.94-2.06-.94L8.5 2.5l-.94 2.06-2.06.94zm10 10l.94 2.06.94-2.06 2.06-.94-2.06-.94-.94-2.06-.94 2.06-2.06.94z\"/><path d=\"M17.41 7.96l-1.37-1.37c-.4-.4-.92-.59-1.43-.59-.52 0-1.04.2-1.43.59L10.3 9.45l-7.72 7.72c-.78.78-.78 2.05 0 2.83L4 21.41c.39.39.9.59 1.41.59.51 0 1.02-.2 1.41-.59l7.78-7.78 2.81-2.81c.8-.78.8-2.07 0-2.86zM5.41 20L4 18.59l7.72-7.72 1.47 1.35L5.41 20z\"/>\n",
              "  </svg>\n",
              "      </button>\n",
              "      \n",
              "  <style>\n",
              "    .colab-df-container {\n",
              "      display:flex;\n",
              "      flex-wrap:wrap;\n",
              "      gap: 12px;\n",
              "    }\n",
              "\n",
              "    .colab-df-convert {\n",
              "      background-color: #E8F0FE;\n",
              "      border: none;\n",
              "      border-radius: 50%;\n",
              "      cursor: pointer;\n",
              "      display: none;\n",
              "      fill: #1967D2;\n",
              "      height: 32px;\n",
              "      padding: 0 0 0 0;\n",
              "      width: 32px;\n",
              "    }\n",
              "\n",
              "    .colab-df-convert:hover {\n",
              "      background-color: #E2EBFA;\n",
              "      box-shadow: 0px 1px 2px rgba(60, 64, 67, 0.3), 0px 1px 3px 1px rgba(60, 64, 67, 0.15);\n",
              "      fill: #174EA6;\n",
              "    }\n",
              "\n",
              "    [theme=dark] .colab-df-convert {\n",
              "      background-color: #3B4455;\n",
              "      fill: #D2E3FC;\n",
              "    }\n",
              "\n",
              "    [theme=dark] .colab-df-convert:hover {\n",
              "      background-color: #434B5C;\n",
              "      box-shadow: 0px 1px 3px 1px rgba(0, 0, 0, 0.15);\n",
              "      filter: drop-shadow(0px 1px 2px rgba(0, 0, 0, 0.3));\n",
              "      fill: #FFFFFF;\n",
              "    }\n",
              "  </style>\n",
              "\n",
              "      <script>\n",
              "        const buttonEl =\n",
              "          document.querySelector('#df-2103fad7-a19b-42a0-8986-69ef51122e93 button.colab-df-convert');\n",
              "        buttonEl.style.display =\n",
              "          google.colab.kernel.accessAllowed ? 'block' : 'none';\n",
              "\n",
              "        async function convertToInteractive(key) {\n",
              "          const element = document.querySelector('#df-2103fad7-a19b-42a0-8986-69ef51122e93');\n",
              "          const dataTable =\n",
              "            await google.colab.kernel.invokeFunction('convertToInteractive',\n",
              "                                                     [key], {});\n",
              "          if (!dataTable) return;\n",
              "\n",
              "          const docLinkHtml = 'Like what you see? Visit the ' +\n",
              "            '<a target=\"_blank\" href=https://colab.research.google.com/notebooks/data_table.ipynb>data table notebook</a>'\n",
              "            + ' to learn more about interactive tables.';\n",
              "          element.innerHTML = '';\n",
              "          dataTable['output_type'] = 'display_data';\n",
              "          await google.colab.output.renderOutput(dataTable, element);\n",
              "          const docLink = document.createElement('div');\n",
              "          docLink.innerHTML = docLinkHtml;\n",
              "          element.appendChild(docLink);\n",
              "        }\n",
              "      </script>\n",
              "    </div>\n",
              "  </div>\n",
              "  "
            ]
          },
          "metadata": {},
          "execution_count": 10
        }
      ]
    },
    {
      "cell_type": "code",
      "source": [
        "df.tail(5)"
      ],
      "metadata": {
        "colab": {
          "base_uri": "https://localhost:8080/",
          "height": 496
        },
        "id": "imY9DyRacHRZ",
        "outputId": "a317c363-b7a4-4180-bae0-28e41912e6e0"
      },
      "execution_count": 11,
      "outputs": [
        {
          "output_type": "execute_result",
          "data": {
            "text/plain": [
              "                    SBL  Tax District    Print Key  Front  Depth  \\\n",
              "93857  1113700006008000      147002.0   111.37-6-8   45.0  100.0   \n",
              "93858  1005100001010000      147005.0  100.51-1-10   30.0  142.0   \n",
              "93859  0908300003045000      147011.0   90.83-3-45   30.0  111.0   \n",
              "93860  1337200001047000      147014.0  133.72-1-47   32.0  117.0   \n",
              "93861  0784900005010000      147009.0   78.49-5-10   35.0  150.0   \n",
              "\n",
              "       Property Class Property Class Description  Previous Property Class  \\\n",
              "93857             464            OFFICE BUILDING                    464.0   \n",
              "93858             311    RESIDENTIAL VACANT LAND                    311.0   \n",
              "93859             220        TWO FAMILY DWELLING                    220.0   \n",
              "93860             210        ONE FAMILY DWELLING                    210.0   \n",
              "93861             220        TWO FAMILY DWELLING                    220.0   \n",
              "\n",
              "                         Owner1                   Owner2  Previous Owner  \\\n",
              "93857  THE EVERGREEN FOUNDATION  OF WESTERN NEW YORK INC             NaN   \n",
              "93858           CITY OF BUFFALO         PERFECTING TITLE             NaN   \n",
              "93859  OLEANDER REAL ESTATE LLC                      NaN             NaN   \n",
              "93860         SCHENK JENNIFER L                      NaN             NaN   \n",
              "93861        MARCHITTE JOSEPH A                      NaN             NaN   \n",
              "\n",
              "      Mail1            Mail2                 Mail3                    Mail4  \\\n",
              "93857   NaN              NaN     206 S ELMWOOD AVE              BUFFALO, NY   \n",
              "93858   NaN  IN REM 33 #1831  65 NIAGARA SQ RM 901              BUFFALO, NY   \n",
              "93859   NaN              NaN      194 BARTLETT AVE  TORONTO ONTARIO M6H 3G1   \n",
              "93860   NaN              NaN           590 MARILLA              BUFFALO, NY   \n",
              "93861   NaN              NaN        472 COLVIN AVE              BUFFALO, NY   \n",
              "\n",
              "       House Number         Street Address     City State  Zipcode  \\\n",
              "93857         200.0  ELMWOOD SOUTH     NaN  BUFFALO    NY  14201.0   \n",
              "93858         505.0     UTICA EAST     NaN  BUFFALO    NY  14208.0   \n",
              "93859         129.0         FISHER     NaN  BUFFALO    NY  14215.0   \n",
              "93860         590.0        MARILLA     NaN  BUFFALO    NY  14220.0   \n",
              "93861         472.0         COLVIN     NaN  BUFFALO    NY  14216.0   \n",
              "\n",
              "       Zipcode Extension Deed Book Deed Page   Deed Date  Roll  Land Value  \\\n",
              "93857                NaN     10971    4414.0  09/15/2000     8       45000   \n",
              "93858                NaN     10961    3180.0  09/09/9999     8        2100   \n",
              "93859                NaN     11229    6570.0  09/11/2012     1        2900   \n",
              "93860                NaN     11171    6897.0  10/22/2009     1        5400   \n",
              "93861                NaN     10932    5793.0  05/15/1998     1       11100   \n",
              "\n",
              "       Total Value  Sale Price  Year Built  First Story Area  \\\n",
              "93857       230000       28000         NaN               NaN   \n",
              "93858         2100           0         NaN               NaN   \n",
              "93859        24000       29000      1924.0               NaN   \n",
              "93860        69100       69000      1920.0               NaN   \n",
              "93861       100000       67300      1925.0               NaN   \n",
              "\n",
              "       Second Story Area  Total Living Area  Overall Condition  \\\n",
              "93857                NaN                  0                NaN   \n",
              "93858                NaN                  0                NaN   \n",
              "93859                NaN               1557                3.0   \n",
              "93860                NaN               1258                3.0   \n",
              "93861                NaN               2560                3.0   \n",
              "\n",
              "       Building Style  Heat Type  Basement Type  # of Stories  \\\n",
              "93857             NaN        NaN            NaN           NaN   \n",
              "93858             NaN        NaN            NaN           NaN   \n",
              "93859             8.0        2.0            4.0           NaN   \n",
              "93860             8.0        2.0            3.0           NaN   \n",
              "93861             8.0        2.0            4.0           NaN   \n",
              "\n",
              "       # of Fireplaces  # of Beds  # of Baths  # of Kitchens Council District  \\\n",
              "93857                0          0         0.0            NaN         FILLMORE   \n",
              "93858                0          0         0.0            NaN         ELLICOTT   \n",
              "93859                0          4         2.0            NaN          LOVEJOY   \n",
              "93860                0          3         1.0            NaN            SOUTH   \n",
              "93861                0          6         2.0            NaN         DELAWARE   \n",
              "\n",
              "      Police District Census Tract Census Block Group Census Block  \\\n",
              "93857      District B        71.02                  2         2007   \n",
              "93858      District C        33.02                  2         2004   \n",
              "93859      District E           38                  1         1001   \n",
              "93860      District A            6                  2         2005   \n",
              "93861      District D           49                  1         1004   \n",
              "\n",
              "          Neighborhood   Latitude  Longitude  \\\n",
              "93857  Lower West Side  42.890656 -78.878748   \n",
              "93858      Masten Park  42.910763 -78.846938   \n",
              "93859    Schiller Park  42.921241 -78.800882   \n",
              "93860       South Park  42.837420 -78.818344   \n",
              "93861       North Park  42.953742 -78.859402   \n",
              "\n",
              "                                       Location  \n",
              "93857  (42.890655805428466, -78.87874772526237)  \n",
              "93858   (42.91076310440764, -78.84693777163457)  \n",
              "93859   (42.92124103390008, -78.80088212458827)  \n",
              "93860  (42.837419515191854, -78.81834363592974)  \n",
              "93861    (42.95374173725508, -78.8594023873921)  "
            ],
            "text/html": [
              "\n",
              "  <div id=\"df-8682ff54-d033-496a-a69d-5f1eff1d8331\">\n",
              "    <div class=\"colab-df-container\">\n",
              "      <div>\n",
              "<style scoped>\n",
              "    .dataframe tbody tr th:only-of-type {\n",
              "        vertical-align: middle;\n",
              "    }\n",
              "\n",
              "    .dataframe tbody tr th {\n",
              "        vertical-align: top;\n",
              "    }\n",
              "\n",
              "    .dataframe thead th {\n",
              "        text-align: right;\n",
              "    }\n",
              "</style>\n",
              "<table border=\"1\" class=\"dataframe\">\n",
              "  <thead>\n",
              "    <tr style=\"text-align: right;\">\n",
              "      <th></th>\n",
              "      <th>SBL</th>\n",
              "      <th>Tax District</th>\n",
              "      <th>Print Key</th>\n",
              "      <th>Front</th>\n",
              "      <th>Depth</th>\n",
              "      <th>Property Class</th>\n",
              "      <th>Property Class Description</th>\n",
              "      <th>Previous Property Class</th>\n",
              "      <th>Owner1</th>\n",
              "      <th>Owner2</th>\n",
              "      <th>Previous Owner</th>\n",
              "      <th>Mail1</th>\n",
              "      <th>Mail2</th>\n",
              "      <th>Mail3</th>\n",
              "      <th>Mail4</th>\n",
              "      <th>House Number</th>\n",
              "      <th>Street</th>\n",
              "      <th>Address</th>\n",
              "      <th>City</th>\n",
              "      <th>State</th>\n",
              "      <th>Zipcode</th>\n",
              "      <th>Zipcode Extension</th>\n",
              "      <th>Deed Book</th>\n",
              "      <th>Deed Page</th>\n",
              "      <th>Deed Date</th>\n",
              "      <th>Roll</th>\n",
              "      <th>Land Value</th>\n",
              "      <th>Total Value</th>\n",
              "      <th>Sale Price</th>\n",
              "      <th>Year Built</th>\n",
              "      <th>First Story Area</th>\n",
              "      <th>Second Story Area</th>\n",
              "      <th>Total Living Area</th>\n",
              "      <th>Overall Condition</th>\n",
              "      <th>Building Style</th>\n",
              "      <th>Heat Type</th>\n",
              "      <th>Basement Type</th>\n",
              "      <th># of Stories</th>\n",
              "      <th># of Fireplaces</th>\n",
              "      <th># of Beds</th>\n",
              "      <th># of Baths</th>\n",
              "      <th># of Kitchens</th>\n",
              "      <th>Council District</th>\n",
              "      <th>Police District</th>\n",
              "      <th>Census Tract</th>\n",
              "      <th>Census Block Group</th>\n",
              "      <th>Census Block</th>\n",
              "      <th>Neighborhood</th>\n",
              "      <th>Latitude</th>\n",
              "      <th>Longitude</th>\n",
              "      <th>Location</th>\n",
              "    </tr>\n",
              "  </thead>\n",
              "  <tbody>\n",
              "    <tr>\n",
              "      <th>93857</th>\n",
              "      <td>1113700006008000</td>\n",
              "      <td>147002.0</td>\n",
              "      <td>111.37-6-8</td>\n",
              "      <td>45.0</td>\n",
              "      <td>100.0</td>\n",
              "      <td>464</td>\n",
              "      <td>OFFICE BUILDING</td>\n",
              "      <td>464.0</td>\n",
              "      <td>THE EVERGREEN FOUNDATION</td>\n",
              "      <td>OF WESTERN NEW YORK INC</td>\n",
              "      <td>NaN</td>\n",
              "      <td>NaN</td>\n",
              "      <td>NaN</td>\n",
              "      <td>206 S ELMWOOD AVE</td>\n",
              "      <td>BUFFALO, NY</td>\n",
              "      <td>200.0</td>\n",
              "      <td>ELMWOOD SOUTH</td>\n",
              "      <td>NaN</td>\n",
              "      <td>BUFFALO</td>\n",
              "      <td>NY</td>\n",
              "      <td>14201.0</td>\n",
              "      <td>NaN</td>\n",
              "      <td>10971</td>\n",
              "      <td>4414.0</td>\n",
              "      <td>09/15/2000</td>\n",
              "      <td>8</td>\n",
              "      <td>45000</td>\n",
              "      <td>230000</td>\n",
              "      <td>28000</td>\n",
              "      <td>NaN</td>\n",
              "      <td>NaN</td>\n",
              "      <td>NaN</td>\n",
              "      <td>0</td>\n",
              "      <td>NaN</td>\n",
              "      <td>NaN</td>\n",
              "      <td>NaN</td>\n",
              "      <td>NaN</td>\n",
              "      <td>NaN</td>\n",
              "      <td>0</td>\n",
              "      <td>0</td>\n",
              "      <td>0.0</td>\n",
              "      <td>NaN</td>\n",
              "      <td>FILLMORE</td>\n",
              "      <td>District B</td>\n",
              "      <td>71.02</td>\n",
              "      <td>2</td>\n",
              "      <td>2007</td>\n",
              "      <td>Lower West Side</td>\n",
              "      <td>42.890656</td>\n",
              "      <td>-78.878748</td>\n",
              "      <td>(42.890655805428466, -78.87874772526237)</td>\n",
              "    </tr>\n",
              "    <tr>\n",
              "      <th>93858</th>\n",
              "      <td>1005100001010000</td>\n",
              "      <td>147005.0</td>\n",
              "      <td>100.51-1-10</td>\n",
              "      <td>30.0</td>\n",
              "      <td>142.0</td>\n",
              "      <td>311</td>\n",
              "      <td>RESIDENTIAL VACANT LAND</td>\n",
              "      <td>311.0</td>\n",
              "      <td>CITY OF BUFFALO</td>\n",
              "      <td>PERFECTING TITLE</td>\n",
              "      <td>NaN</td>\n",
              "      <td>NaN</td>\n",
              "      <td>IN REM 33 #1831</td>\n",
              "      <td>65 NIAGARA SQ RM 901</td>\n",
              "      <td>BUFFALO, NY</td>\n",
              "      <td>505.0</td>\n",
              "      <td>UTICA EAST</td>\n",
              "      <td>NaN</td>\n",
              "      <td>BUFFALO</td>\n",
              "      <td>NY</td>\n",
              "      <td>14208.0</td>\n",
              "      <td>NaN</td>\n",
              "      <td>10961</td>\n",
              "      <td>3180.0</td>\n",
              "      <td>09/09/9999</td>\n",
              "      <td>8</td>\n",
              "      <td>2100</td>\n",
              "      <td>2100</td>\n",
              "      <td>0</td>\n",
              "      <td>NaN</td>\n",
              "      <td>NaN</td>\n",
              "      <td>NaN</td>\n",
              "      <td>0</td>\n",
              "      <td>NaN</td>\n",
              "      <td>NaN</td>\n",
              "      <td>NaN</td>\n",
              "      <td>NaN</td>\n",
              "      <td>NaN</td>\n",
              "      <td>0</td>\n",
              "      <td>0</td>\n",
              "      <td>0.0</td>\n",
              "      <td>NaN</td>\n",
              "      <td>ELLICOTT</td>\n",
              "      <td>District C</td>\n",
              "      <td>33.02</td>\n",
              "      <td>2</td>\n",
              "      <td>2004</td>\n",
              "      <td>Masten Park</td>\n",
              "      <td>42.910763</td>\n",
              "      <td>-78.846938</td>\n",
              "      <td>(42.91076310440764, -78.84693777163457)</td>\n",
              "    </tr>\n",
              "    <tr>\n",
              "      <th>93859</th>\n",
              "      <td>0908300003045000</td>\n",
              "      <td>147011.0</td>\n",
              "      <td>90.83-3-45</td>\n",
              "      <td>30.0</td>\n",
              "      <td>111.0</td>\n",
              "      <td>220</td>\n",
              "      <td>TWO FAMILY DWELLING</td>\n",
              "      <td>220.0</td>\n",
              "      <td>OLEANDER REAL ESTATE LLC</td>\n",
              "      <td>NaN</td>\n",
              "      <td>NaN</td>\n",
              "      <td>NaN</td>\n",
              "      <td>NaN</td>\n",
              "      <td>194 BARTLETT AVE</td>\n",
              "      <td>TORONTO ONTARIO M6H 3G1</td>\n",
              "      <td>129.0</td>\n",
              "      <td>FISHER</td>\n",
              "      <td>NaN</td>\n",
              "      <td>BUFFALO</td>\n",
              "      <td>NY</td>\n",
              "      <td>14215.0</td>\n",
              "      <td>NaN</td>\n",
              "      <td>11229</td>\n",
              "      <td>6570.0</td>\n",
              "      <td>09/11/2012</td>\n",
              "      <td>1</td>\n",
              "      <td>2900</td>\n",
              "      <td>24000</td>\n",
              "      <td>29000</td>\n",
              "      <td>1924.0</td>\n",
              "      <td>NaN</td>\n",
              "      <td>NaN</td>\n",
              "      <td>1557</td>\n",
              "      <td>3.0</td>\n",
              "      <td>8.0</td>\n",
              "      <td>2.0</td>\n",
              "      <td>4.0</td>\n",
              "      <td>NaN</td>\n",
              "      <td>0</td>\n",
              "      <td>4</td>\n",
              "      <td>2.0</td>\n",
              "      <td>NaN</td>\n",
              "      <td>LOVEJOY</td>\n",
              "      <td>District E</td>\n",
              "      <td>38</td>\n",
              "      <td>1</td>\n",
              "      <td>1001</td>\n",
              "      <td>Schiller Park</td>\n",
              "      <td>42.921241</td>\n",
              "      <td>-78.800882</td>\n",
              "      <td>(42.92124103390008, -78.80088212458827)</td>\n",
              "    </tr>\n",
              "    <tr>\n",
              "      <th>93860</th>\n",
              "      <td>1337200001047000</td>\n",
              "      <td>147014.0</td>\n",
              "      <td>133.72-1-47</td>\n",
              "      <td>32.0</td>\n",
              "      <td>117.0</td>\n",
              "      <td>210</td>\n",
              "      <td>ONE FAMILY DWELLING</td>\n",
              "      <td>210.0</td>\n",
              "      <td>SCHENK JENNIFER L</td>\n",
              "      <td>NaN</td>\n",
              "      <td>NaN</td>\n",
              "      <td>NaN</td>\n",
              "      <td>NaN</td>\n",
              "      <td>590 MARILLA</td>\n",
              "      <td>BUFFALO, NY</td>\n",
              "      <td>590.0</td>\n",
              "      <td>MARILLA</td>\n",
              "      <td>NaN</td>\n",
              "      <td>BUFFALO</td>\n",
              "      <td>NY</td>\n",
              "      <td>14220.0</td>\n",
              "      <td>NaN</td>\n",
              "      <td>11171</td>\n",
              "      <td>6897.0</td>\n",
              "      <td>10/22/2009</td>\n",
              "      <td>1</td>\n",
              "      <td>5400</td>\n",
              "      <td>69100</td>\n",
              "      <td>69000</td>\n",
              "      <td>1920.0</td>\n",
              "      <td>NaN</td>\n",
              "      <td>NaN</td>\n",
              "      <td>1258</td>\n",
              "      <td>3.0</td>\n",
              "      <td>8.0</td>\n",
              "      <td>2.0</td>\n",
              "      <td>3.0</td>\n",
              "      <td>NaN</td>\n",
              "      <td>0</td>\n",
              "      <td>3</td>\n",
              "      <td>1.0</td>\n",
              "      <td>NaN</td>\n",
              "      <td>SOUTH</td>\n",
              "      <td>District A</td>\n",
              "      <td>6</td>\n",
              "      <td>2</td>\n",
              "      <td>2005</td>\n",
              "      <td>South Park</td>\n",
              "      <td>42.837420</td>\n",
              "      <td>-78.818344</td>\n",
              "      <td>(42.837419515191854, -78.81834363592974)</td>\n",
              "    </tr>\n",
              "    <tr>\n",
              "      <th>93861</th>\n",
              "      <td>0784900005010000</td>\n",
              "      <td>147009.0</td>\n",
              "      <td>78.49-5-10</td>\n",
              "      <td>35.0</td>\n",
              "      <td>150.0</td>\n",
              "      <td>220</td>\n",
              "      <td>TWO FAMILY DWELLING</td>\n",
              "      <td>220.0</td>\n",
              "      <td>MARCHITTE JOSEPH A</td>\n",
              "      <td>NaN</td>\n",
              "      <td>NaN</td>\n",
              "      <td>NaN</td>\n",
              "      <td>NaN</td>\n",
              "      <td>472 COLVIN AVE</td>\n",
              "      <td>BUFFALO, NY</td>\n",
              "      <td>472.0</td>\n",
              "      <td>COLVIN</td>\n",
              "      <td>NaN</td>\n",
              "      <td>BUFFALO</td>\n",
              "      <td>NY</td>\n",
              "      <td>14216.0</td>\n",
              "      <td>NaN</td>\n",
              "      <td>10932</td>\n",
              "      <td>5793.0</td>\n",
              "      <td>05/15/1998</td>\n",
              "      <td>1</td>\n",
              "      <td>11100</td>\n",
              "      <td>100000</td>\n",
              "      <td>67300</td>\n",
              "      <td>1925.0</td>\n",
              "      <td>NaN</td>\n",
              "      <td>NaN</td>\n",
              "      <td>2560</td>\n",
              "      <td>3.0</td>\n",
              "      <td>8.0</td>\n",
              "      <td>2.0</td>\n",
              "      <td>4.0</td>\n",
              "      <td>NaN</td>\n",
              "      <td>0</td>\n",
              "      <td>6</td>\n",
              "      <td>2.0</td>\n",
              "      <td>NaN</td>\n",
              "      <td>DELAWARE</td>\n",
              "      <td>District D</td>\n",
              "      <td>49</td>\n",
              "      <td>1</td>\n",
              "      <td>1004</td>\n",
              "      <td>North Park</td>\n",
              "      <td>42.953742</td>\n",
              "      <td>-78.859402</td>\n",
              "      <td>(42.95374173725508, -78.8594023873921)</td>\n",
              "    </tr>\n",
              "  </tbody>\n",
              "</table>\n",
              "</div>\n",
              "      <button class=\"colab-df-convert\" onclick=\"convertToInteractive('df-8682ff54-d033-496a-a69d-5f1eff1d8331')\"\n",
              "              title=\"Convert this dataframe to an interactive table.\"\n",
              "              style=\"display:none;\">\n",
              "        \n",
              "  <svg xmlns=\"http://www.w3.org/2000/svg\" height=\"24px\"viewBox=\"0 0 24 24\"\n",
              "       width=\"24px\">\n",
              "    <path d=\"M0 0h24v24H0V0z\" fill=\"none\"/>\n",
              "    <path d=\"M18.56 5.44l.94 2.06.94-2.06 2.06-.94-2.06-.94-.94-2.06-.94 2.06-2.06.94zm-11 1L8.5 8.5l.94-2.06 2.06-.94-2.06-.94L8.5 2.5l-.94 2.06-2.06.94zm10 10l.94 2.06.94-2.06 2.06-.94-2.06-.94-.94-2.06-.94 2.06-2.06.94z\"/><path d=\"M17.41 7.96l-1.37-1.37c-.4-.4-.92-.59-1.43-.59-.52 0-1.04.2-1.43.59L10.3 9.45l-7.72 7.72c-.78.78-.78 2.05 0 2.83L4 21.41c.39.39.9.59 1.41.59.51 0 1.02-.2 1.41-.59l7.78-7.78 2.81-2.81c.8-.78.8-2.07 0-2.86zM5.41 20L4 18.59l7.72-7.72 1.47 1.35L5.41 20z\"/>\n",
              "  </svg>\n",
              "      </button>\n",
              "      \n",
              "  <style>\n",
              "    .colab-df-container {\n",
              "      display:flex;\n",
              "      flex-wrap:wrap;\n",
              "      gap: 12px;\n",
              "    }\n",
              "\n",
              "    .colab-df-convert {\n",
              "      background-color: #E8F0FE;\n",
              "      border: none;\n",
              "      border-radius: 50%;\n",
              "      cursor: pointer;\n",
              "      display: none;\n",
              "      fill: #1967D2;\n",
              "      height: 32px;\n",
              "      padding: 0 0 0 0;\n",
              "      width: 32px;\n",
              "    }\n",
              "\n",
              "    .colab-df-convert:hover {\n",
              "      background-color: #E2EBFA;\n",
              "      box-shadow: 0px 1px 2px rgba(60, 64, 67, 0.3), 0px 1px 3px 1px rgba(60, 64, 67, 0.15);\n",
              "      fill: #174EA6;\n",
              "    }\n",
              "\n",
              "    [theme=dark] .colab-df-convert {\n",
              "      background-color: #3B4455;\n",
              "      fill: #D2E3FC;\n",
              "    }\n",
              "\n",
              "    [theme=dark] .colab-df-convert:hover {\n",
              "      background-color: #434B5C;\n",
              "      box-shadow: 0px 1px 3px 1px rgba(0, 0, 0, 0.15);\n",
              "      filter: drop-shadow(0px 1px 2px rgba(0, 0, 0, 0.3));\n",
              "      fill: #FFFFFF;\n",
              "    }\n",
              "  </style>\n",
              "\n",
              "      <script>\n",
              "        const buttonEl =\n",
              "          document.querySelector('#df-8682ff54-d033-496a-a69d-5f1eff1d8331 button.colab-df-convert');\n",
              "        buttonEl.style.display =\n",
              "          google.colab.kernel.accessAllowed ? 'block' : 'none';\n",
              "\n",
              "        async function convertToInteractive(key) {\n",
              "          const element = document.querySelector('#df-8682ff54-d033-496a-a69d-5f1eff1d8331');\n",
              "          const dataTable =\n",
              "            await google.colab.kernel.invokeFunction('convertToInteractive',\n",
              "                                                     [key], {});\n",
              "          if (!dataTable) return;\n",
              "\n",
              "          const docLinkHtml = 'Like what you see? Visit the ' +\n",
              "            '<a target=\"_blank\" href=https://colab.research.google.com/notebooks/data_table.ipynb>data table notebook</a>'\n",
              "            + ' to learn more about interactive tables.';\n",
              "          element.innerHTML = '';\n",
              "          dataTable['output_type'] = 'display_data';\n",
              "          await google.colab.output.renderOutput(dataTable, element);\n",
              "          const docLink = document.createElement('div');\n",
              "          docLink.innerHTML = docLinkHtml;\n",
              "          element.appendChild(docLink);\n",
              "        }\n",
              "      </script>\n",
              "    </div>\n",
              "  </div>\n",
              "  "
            ]
          },
          "metadata": {},
          "execution_count": 11
        }
      ]
    },
    {
      "cell_type": "code",
      "source": [
        "sns.histplot(x=df['Year Built'])"
      ],
      "metadata": {
        "colab": {
          "base_uri": "https://localhost:8080/",
          "height": 296
        },
        "id": "qAjYL4iEcXw2",
        "outputId": "5ee77c79-82b7-4634-a457-7d88c636f8d2"
      },
      "execution_count": 12,
      "outputs": [
        {
          "output_type": "execute_result",
          "data": {
            "text/plain": [
              "<matplotlib.axes._subplots.AxesSubplot at 0x7f90b867ce10>"
            ]
          },
          "metadata": {},
          "execution_count": 12
        },
        {
          "output_type": "display_data",
          "data": {
            "text/plain": [
              "<Figure size 432x288 with 1 Axes>"
            ],
            "image/png": "[encoded data removed]"
          },
          "metadata": {
            "needs_background": "light"
          }
        }
      ]
    },
    {
      "cell_type": "code",
      "source": [
        "plt.hist(x=df.Front)"
      ],
      "metadata": {
        "colab": {
          "base_uri": "https://localhost:8080/",
          "height": 352
        },
        "id": "XBaliQ51iSmT",
        "outputId": "4c8b6357-ccdb-4e4a-eedc-e7ea9cc44594"
      },
      "execution_count": 13,
      "outputs": [
        {
          "output_type": "execute_result",
          "data": {
            "text/plain": [
              "(array([9.3859e+04, 1.0000e+00, 1.0000e+00, 0.0000e+00, 0.0000e+00,\n",
              "        0.0000e+00, 0.0000e+00, 0.0000e+00, 0.0000e+00, 1.0000e+00]),\n",
              " array([    0. ,  9714.7, 19429.4, 29144.1, 38858.8, 48573.5, 58288.2,\n",
              "        68002.9, 77717.6, 87432.3, 97147. ]),\n",
              " <a list of 10 Patch objects>)"
            ]
          },
          "metadata": {},
          "execution_count": 13
        },
        {
          "output_type": "display_data",
          "data": {
            "text/plain": [
              "<Figure size 432x288 with 1 Axes>"
            ],
            "image/png": "[encoded data removed]"
          },
          "metadata": {
            "needs_background": "light"
          }
        }
      ]
    },
    {
      "cell_type": "code",
      "source": [
        "plt.hist(x=df.Depth)"
      ],
      "metadata": {
        "colab": {
          "base_uri": "https://localhost:8080/",
          "height": 352
        },
        "id": "uDb92XLmieG5",
        "outputId": "8a06ad28-3b38-46eb-c991-e1dcede1cf11"
      },
      "execution_count": 14,
      "outputs": [
        {
          "output_type": "execute_result",
          "data": {
            "text/plain": [
              "(array([9.3841e+04, 1.8000e+01, 1.0000e+00, 0.0000e+00, 0.0000e+00,\n",
              "        0.0000e+00, 0.0000e+00, 0.0000e+00, 1.0000e+00, 1.0000e+00]),\n",
              " array([    0.,  1590.,  3180.,  4770.,  6360.,  7950.,  9540., 11130.,\n",
              "        12720., 14310., 15900.]),\n",
              " <a list of 10 Patch objects>)"
            ]
          },
          "metadata": {},
          "execution_count": 14
        },
        {
          "output_type": "display_data",
          "data": {
            "text/plain": [
              "<Figure size 432x288 with 1 Axes>"
            ],
            "image/png": "[encoded data removed]"
          },
          "metadata": {
            "needs_background": "light"
          }
        }
      ]
    },
    {
      "cell_type": "code",
      "source": [
        "df[\"Property Class Description\"].value_counts()[:15]"
      ],
      "metadata": {
        "colab": {
          "base_uri": "https://localhost:8080/"
        },
        "id": "RnlYvqikfvfl",
        "outputId": "fc87ae2e-ce68-465f-e43f-f358243c3e24"
      },
      "execution_count": 37,
      "outputs": [
        {
          "output_type": "execute_result",
          "data": {
            "text/plain": [
              "ONE FAMILY DWELLING                         37859\n",
              "TWO FAMILY DWELLING                         26654\n",
              "RESIDENTIAL VACANT LAND                     13211\n",
              "APARTMENT                                    2394\n",
              "DOWNTOWN ROW TYPE (DETACHED)                 2080\n",
              "COMMERCIAL VACANT LAND                       1659\n",
              "THREE FAMILY DWELLING                        1362\n",
              "COM VAC W/IMP                                1193\n",
              "MULTIPLE RESIDENCES                          1150\n",
              "RESIDENTIAL LAND WITH SMALL IMPROVEMENTS      777\n",
              "OTHER STORAGE & WAREHOUSE FACILITIES          518\n",
              "MANUFACTURING & PROCESSING                    477\n",
              "INDUSTRIAL VACANT LAND                        472\n",
              "RELIGIOUS                                     426\n",
              "OFFICE BUILDING                               376\n",
              "Name: Property Class Description, dtype: int64"
            ]
          },
          "metadata": {},
          "execution_count": 37
        }
      ]
    },
    {
      "cell_type": "code",
      "source": [
        "sns.histplot(x=df[\"Overall Condition\"])"
      ],
      "metadata": {
        "colab": {
          "base_uri": "https://localhost:8080/",
          "height": 296
        },
        "id": "y-GR5IcgvnHs",
        "outputId": "490f5fc3-9d33-43bc-e0ed-242c85fb25cc"
      },
      "execution_count": 34,
      "outputs": [
        {
          "output_type": "execute_result",
          "data": {
            "text/plain": [
              "<matplotlib.axes._subplots.AxesSubplot at 0x7f90b426dc50>"
            ]
          },
          "metadata": {},
          "execution_count": 34
        },
        {
          "output_type": "display_data",
          "data": {
            "text/plain": [
              "<Figure size 432x288 with 1 Axes>"
            ],
            "image/png": "[encoded data removed]"
          },
          "metadata": {
            "needs_background": "light"
          }
        }
      ]
    },
    {
      "cell_type": "code",
      "source": [
        "len(df[\"Zipcode\"].unique())"
      ],
      "metadata": {
        "colab": {
          "base_uri": "https://localhost:8080/"
        },
        "id": "5M9u_t1JgWVF",
        "outputId": "6b3b0fb3-ceaa-4e9c-e2c8-e218a588474b"
      },
      "execution_count": 58,
      "outputs": [
        {
          "output_type": "execute_result",
          "data": {
            "text/plain": [
              "22"
            ]
          },
          "metadata": {},
          "execution_count": 58
        }
      ]
    },
    {
      "cell_type": "code",
      "source": [
        "df[\"Zipcode\"].value_counts().plot(kind = 'bar')"
      ],
      "metadata": {
        "colab": {
          "base_uri": "https://localhost:8080/",
          "height": 314
        },
        "id": "WpLMBtuajXnH",
        "outputId": "d922aa62-3a32-4887-9fe6-0d6475308a22"
      },
      "execution_count": 24,
      "outputs": [
        {
          "output_type": "execute_result",
          "data": {
            "text/plain": [
              "<matplotlib.axes._subplots.AxesSubplot at 0x7f90b49b6810>"
            ]
          },
          "metadata": {},
          "execution_count": 24
        },
        {
          "output_type": "display_data",
          "data": {
            "text/plain": [
              "<Figure size 432x288 with 1 Axes>"
            ],
            "image/png": "[encoded data removed]"
          },
          "metadata": {
            "needs_background": "light"
          }
        }
      ]
    },
    {
      "cell_type": "code",
      "source": [
        "sns.histplot(x=df[\"# of Fireplaces\"])"
      ],
      "metadata": {
        "colab": {
          "base_uri": "https://localhost:8080/",
          "height": 296
        },
        "id": "4C5Y7DPBvKy3",
        "outputId": "fd87a0c0-4571-4106-d91e-caacf0be401e"
      },
      "execution_count": 31,
      "outputs": [
        {
          "output_type": "execute_result",
          "data": {
            "text/plain": [
              "<matplotlib.axes._subplots.AxesSubplot at 0x7f90b46040d0>"
            ]
          },
          "metadata": {},
          "execution_count": 31
        },
        {
          "output_type": "display_data",
          "data": {
            "text/plain": [
              "<Figure size 432x288 with 1 Axes>"
            ],
            "image/png": "[encoded data removed]"
          },
          "metadata": {
            "needs_background": "light"
          }
        }
      ]
    },
    {
      "cell_type": "code",
      "source": [
        "sns.histplot(x=df[\"# of Beds\"])"
      ],
      "metadata": {
        "colab": {
          "base_uri": "https://localhost:8080/",
          "height": 296
        },
        "id": "RBygzWKmvSQ1",
        "outputId": "30d49bfe-9544-4844-c314-58576faed300"
      },
      "execution_count": 32,
      "outputs": [
        {
          "output_type": "execute_result",
          "data": {
            "text/plain": [
              "<matplotlib.axes._subplots.AxesSubplot at 0x7f90b453c190>"
            ]
          },
          "metadata": {},
          "execution_count": 32
        },
        {
          "output_type": "display_data",
          "data": {
            "text/plain": [
              "<Figure size 432x288 with 1 Axes>"
            ],
            "image/png": "[encoded data removed]"
          },
          "metadata": {
            "needs_background": "light"
          }
        }
      ]
    },
    {
      "cell_type": "code",
      "source": [
        "sns.histplot(x=df[\"Total Living Area\"])"
      ],
      "metadata": {
        "colab": {
          "base_uri": "https://localhost:8080/",
          "height": 296
        },
        "id": "Zr4sZ--gvaAN",
        "outputId": "f7afeb0e-2e6f-4768-dcc5-a31fe78f6e3a"
      },
      "execution_count": 39,
      "outputs": [
        {
          "output_type": "execute_result",
          "data": {
            "text/plain": [
              "<matplotlib.axes._subplots.AxesSubplot at 0x7f90b4093390>"
            ]
          },
          "metadata": {},
          "execution_count": 39
        },
        {
          "output_type": "display_data",
          "data": {
            "text/plain": [
              "<Figure size 432x288 with 1 Axes>"
            ],
            "image/png": "[encoded data removed]"
          },
          "metadata": {
            "needs_background": "light"
          }
        }
      ]
    },
    {
      "cell_type": "code",
      "source": [
        "df[\"Building Style\"].value_counts().plot(kind = 'bar')"
      ],
      "metadata": {
        "colab": {
          "base_uri": "https://localhost:8080/",
          "height": 296
        },
        "id": "plBbPwGUyhsA",
        "outputId": "f0eecb0c-fdab-4bce-f6a3-2b25534224c6"
      },
      "execution_count": 38,
      "outputs": [
        {
          "output_type": "execute_result",
          "data": {
            "text/plain": [
              "<matplotlib.axes._subplots.AxesSubplot at 0x7f90b4152d50>"
            ]
          },
          "metadata": {},
          "execution_count": 38
        },
        {
          "output_type": "display_data",
          "data": {
            "text/plain": [
              "<Figure size 432x288 with 1 Axes>"
            ],
            "image/png": "[encoded data removed]"
          },
          "metadata": {
            "needs_background": "light"
          }
        }
      ]
    },
    {
      "cell_type": "code",
      "source": [
        "df[\"Heat Type\"].value_counts().plot(kind = 'bar')"
      ],
      "metadata": {
        "colab": {
          "base_uri": "https://localhost:8080/",
          "height": 288
        },
        "id": "v36B43s3zQVF",
        "outputId": "1c0ae729-8535-4527-8ab7-8115279e9d45"
      },
      "execution_count": 40,
      "outputs": [
        {
          "output_type": "execute_result",
          "data": {
            "text/plain": [
              "<matplotlib.axes._subplots.AxesSubplot at 0x7f90b3f23390>"
            ]
          },
          "metadata": {},
          "execution_count": 40
        },
        {
          "output_type": "display_data",
          "data": {
            "text/plain": [
              "<Figure size 432x288 with 1 Axes>"
            ],
            "image/png": "[encoded data removed]"
          },
          "metadata": {
            "needs_background": "light"
          }
        }
      ]
    },
    {
      "cell_type": "code",
      "source": [
        "df[\"Basement Type\"].value_counts().plot(kind = 'bar')"
      ],
      "metadata": {
        "colab": {
          "base_uri": "https://localhost:8080/",
          "height": 288
        },
        "id": "aGRLksk_zj4X",
        "outputId": "bf3e667a-91dd-4359-ac6e-fce22ad019cf"
      },
      "execution_count": 41,
      "outputs": [
        {
          "output_type": "execute_result",
          "data": {
            "text/plain": [
              "<matplotlib.axes._subplots.AxesSubplot at 0x7f90b3e78350>"
            ]
          },
          "metadata": {},
          "execution_count": 41
        },
        {
          "output_type": "display_data",
          "data": {
            "text/plain": [
              "<Figure size 432x288 with 1 Axes>"
            ],
            "image/png": "[encoded data removed]"
          },
          "metadata": {
            "needs_background": "light"
          }
        }
      ]
    },
    {
      "cell_type": "code",
      "source": [
        "df[\"Council District\"].value_counts().plot(kind = 'bar')"
      ],
      "metadata": {
        "colab": {
          "base_uri": "https://localhost:8080/",
          "height": 331
        },
        "outputId": "082c04e7-1125-4aa2-bf17-0e6a95387834",
        "id": "rDVlHHLVwRPW"
      },
      "execution_count": 35,
      "outputs": [
        {
          "output_type": "execute_result",
          "data": {
            "text/plain": [
              "<matplotlib.axes._subplots.AxesSubplot at 0x7f90b420edd0>"
            ]
          },
          "metadata": {},
          "execution_count": 35
        },
        {
          "output_type": "display_data",
          "data": {
            "text/plain": [
              "<Figure size 432x288 with 1 Axes>"
            ],
            "image/png": "[encoded data removed]"
          },
          "metadata": {
            "needs_background": "light"
          }
        }
      ]
    },
    {
      "cell_type": "code",
      "source": [
        "sns.boxplot(x=df[\"Total Value\"])"
      ],
      "metadata": {
        "colab": {
          "base_uri": "https://localhost:8080/",
          "height": 296
        },
        "id": "M977D7VWvfA_",
        "outputId": "c3b367b7-a956-4c70-823d-97a617be5a4b"
      },
      "execution_count": 49,
      "outputs": [
        {
          "output_type": "execute_result",
          "data": {
            "text/plain": [
              "<matplotlib.axes._subplots.AxesSubplot at 0x7f90670c9810>"
            ]
          },
          "metadata": {},
          "execution_count": 49
        },
        {
          "output_type": "display_data",
          "data": {
            "text/plain": [
              "<Figure size 432x288 with 1 Axes>"
            ],
            "image/png": "[encoded data removed]"
          },
          "metadata": {
            "needs_background": "light"
          }
        }
      ]
    },
    {
      "cell_type": "code",
      "source": [
        "sns.boxplot(x=df[\"Land Value\"])"
      ],
      "metadata": {
        "colab": {
          "base_uri": "https://localhost:8080/",
          "height": 296
        },
        "id": "-8Xt2qfnA-Yk",
        "outputId": "5b1fb454-0312-4cf3-c4d6-38a25a82f147"
      },
      "execution_count": 50,
      "outputs": [
        {
          "output_type": "execute_result",
          "data": {
            "text/plain": [
              "<matplotlib.axes._subplots.AxesSubplot at 0x7f9067070f10>"
            ]
          },
          "metadata": {},
          "execution_count": 50
        },
        {
          "output_type": "display_data",
          "data": {
            "text/plain": [
              "<Figure size 432x288 with 1 Axes>"
            ],
            "image/png": "[encoded data removed]"
          },
          "metadata": {
            "needs_background": "light"
          }
        }
      ]
    },
    {
      "cell_type": "code",
      "source": [
        "sns.boxplot(x=df[\"Sale Price\"])"
      ],
      "metadata": {
        "colab": {
          "base_uri": "https://localhost:8080/",
          "height": 296
        },
        "id": "LqPY9ol8BEpf",
        "outputId": "3a15eca0-c31f-43b4-e5c3-d8211c9f8817"
      },
      "execution_count": 51,
      "outputs": [
        {
          "output_type": "execute_result",
          "data": {
            "text/plain": [
              "<matplotlib.axes._subplots.AxesSubplot at 0x7f9067048990>"
            ]
          },
          "metadata": {},
          "execution_count": 51
        },
        {
          "output_type": "display_data",
          "data": {
            "text/plain": [
              "<Figure size 432x288 with 1 Axes>"
            ],
            "image/png": "[encoded data removed]"
          },
          "metadata": {
            "needs_background": "light"
          }
        }
      ]
    },
    {
      "cell_type": "code",
      "source": [
        "len(df[\"Year Built\"].unique())"
      ],
      "metadata": {
        "colab": {
          "base_uri": "https://localhost:8080/"
        },
        "id": "mKmsuYCRd5iB",
        "outputId": "6e092497-df25-4b38-e3bc-d75fc13a1782"
      },
      "execution_count": 56,
      "outputs": [
        {
          "output_type": "execute_result",
          "data": {
            "text/plain": [
              "218"
            ]
          },
          "metadata": {},
          "execution_count": 56
        }
      ]
    },
    {
      "cell_type": "code",
      "source": [
        "len(df[\"Tax District\"].unique())"
      ],
      "metadata": {
        "colab": {
          "base_uri": "https://localhost:8080/"
        },
        "id": "Pvtmh5kwgMwN",
        "outputId": "5adefc97-d50c-4ebe-94bb-511cea1f92e5"
      },
      "execution_count": 57,
      "outputs": [
        {
          "output_type": "execute_result",
          "data": {
            "text/plain": [
              "16"
            ]
          },
          "metadata": {},
          "execution_count": 57
        }
      ]
    }
  ]
}